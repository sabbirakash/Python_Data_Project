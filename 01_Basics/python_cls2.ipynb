{
  "nbformat": 4,
  "nbformat_minor": 0,
  "metadata": {
    "colab": {
      "provenance": []
    },
    "kernelspec": {
      "name": "python3",
      "display_name": "Python 3"
    },
    "language_info": {
      "name": "python"
    }
  },
  "cells": [
    {
      "cell_type": "markdown",
      "source": [
        "**List Comprehension**"
      ],
      "metadata": {
        "id": "51tys-idnjJ4"
      }
    },
    {
      "cell_type": "code",
      "execution_count": null,
      "metadata": {
        "colab": {
          "base_uri": "https://localhost:8080/"
        },
        "id": "9-NjpSg4nc5y",
        "outputId": "e817b7ee-1d57-4aea-ed14-1afb470048a4"
      },
      "outputs": [
        {
          "output_type": "execute_result",
          "data": {
            "text/plain": [
              "[1,\n",
              " 2,\n",
              " 3,\n",
              " 4,\n",
              " 5,\n",
              " 6,\n",
              " 7,\n",
              " 8,\n",
              " 9,\n",
              " 10,\n",
              " 11,\n",
              " 12,\n",
              " 13,\n",
              " 14,\n",
              " 15,\n",
              " 16,\n",
              " 17,\n",
              " 18,\n",
              " 19,\n",
              " 20,\n",
              " 21,\n",
              " 22,\n",
              " 23,\n",
              " 24,\n",
              " 25,\n",
              " 26,\n",
              " 27,\n",
              " 28,\n",
              " 29,\n",
              " 30,\n",
              " 31,\n",
              " 32,\n",
              " 33,\n",
              " 34,\n",
              " 35,\n",
              " 36,\n",
              " 37,\n",
              " 38,\n",
              " 39,\n",
              " 40,\n",
              " 41,\n",
              " 42,\n",
              " 43,\n",
              " 44,\n",
              " 45,\n",
              " 46,\n",
              " 47,\n",
              " 48,\n",
              " 49,\n",
              " 50,\n",
              " 51,\n",
              " 52,\n",
              " 53,\n",
              " 54,\n",
              " 55,\n",
              " 56,\n",
              " 57,\n",
              " 58,\n",
              " 59,\n",
              " 60,\n",
              " 61,\n",
              " 62,\n",
              " 63,\n",
              " 64,\n",
              " 65,\n",
              " 66,\n",
              " 67,\n",
              " 68,\n",
              " 69,\n",
              " 70,\n",
              " 71,\n",
              " 72,\n",
              " 73,\n",
              " 74,\n",
              " 75,\n",
              " 76,\n",
              " 77,\n",
              " 78,\n",
              " 79,\n",
              " 80,\n",
              " 81,\n",
              " 82,\n",
              " 83,\n",
              " 84,\n",
              " 85,\n",
              " 86,\n",
              " 87,\n",
              " 88,\n",
              " 89,\n",
              " 90,\n",
              " 91,\n",
              " 92,\n",
              " 93,\n",
              " 94,\n",
              " 95,\n",
              " 96,\n",
              " 97,\n",
              " 98,\n",
              " 99,\n",
              " 100]"
            ]
          },
          "metadata": {},
          "execution_count": 1
        }
      ],
      "source": [
        "a = [x for x in range(1,101)]\n",
        "a"
      ]
    },
    {
      "cell_type": "code",
      "source": [
        "number = []\n",
        "i = 1\n",
        "while (i<=100):\n",
        "  number.append(i)\n",
        "  i += 1"
      ],
      "metadata": {
        "id": "P9c9-tfpn-Jo"
      },
      "execution_count": null,
      "outputs": []
    },
    {
      "cell_type": "code",
      "source": [
        "number"
      ],
      "metadata": {
        "colab": {
          "base_uri": "https://localhost:8080/"
        },
        "id": "mNTDI38ooWX9",
        "outputId": "ad65e90a-dd09-432d-bac5-94390c82fadf"
      },
      "execution_count": null,
      "outputs": [
        {
          "output_type": "execute_result",
          "data": {
            "text/plain": [
              "[1,\n",
              " 2,\n",
              " 3,\n",
              " 4,\n",
              " 5,\n",
              " 6,\n",
              " 7,\n",
              " 8,\n",
              " 9,\n",
              " 10,\n",
              " 11,\n",
              " 12,\n",
              " 13,\n",
              " 14,\n",
              " 15,\n",
              " 16,\n",
              " 17,\n",
              " 18,\n",
              " 19,\n",
              " 20,\n",
              " 21,\n",
              " 22,\n",
              " 23,\n",
              " 24,\n",
              " 25,\n",
              " 26,\n",
              " 27,\n",
              " 28,\n",
              " 29,\n",
              " 30,\n",
              " 31,\n",
              " 32,\n",
              " 33,\n",
              " 34,\n",
              " 35,\n",
              " 36,\n",
              " 37,\n",
              " 38,\n",
              " 39,\n",
              " 40,\n",
              " 41,\n",
              " 42,\n",
              " 43,\n",
              " 44,\n",
              " 45,\n",
              " 46,\n",
              " 47,\n",
              " 48,\n",
              " 49,\n",
              " 50,\n",
              " 51,\n",
              " 52,\n",
              " 53,\n",
              " 54,\n",
              " 55,\n",
              " 56,\n",
              " 57,\n",
              " 58,\n",
              " 59,\n",
              " 60,\n",
              " 61,\n",
              " 62,\n",
              " 63,\n",
              " 64,\n",
              " 65,\n",
              " 66,\n",
              " 67,\n",
              " 68,\n",
              " 69,\n",
              " 70,\n",
              " 71,\n",
              " 72,\n",
              " 73,\n",
              " 74,\n",
              " 75,\n",
              " 76,\n",
              " 77,\n",
              " 78,\n",
              " 79,\n",
              " 80,\n",
              " 81,\n",
              " 82,\n",
              " 83,\n",
              " 84,\n",
              " 85,\n",
              " 86,\n",
              " 87,\n",
              " 88,\n",
              " 89,\n",
              " 90,\n",
              " 91,\n",
              " 92,\n",
              " 93,\n",
              " 94,\n",
              " 95,\n",
              " 96,\n",
              " 97,\n",
              " 98,\n",
              " 99,\n",
              " 100]"
            ]
          },
          "metadata": {},
          "execution_count": 3
        }
      ]
    },
    {
      "cell_type": "code",
      "source": [
        "num = []\n",
        "for i in range(1,101):\n",
        "  num.append(i)"
      ],
      "metadata": {
        "id": "udmqO2zMouD9"
      },
      "execution_count": null,
      "outputs": []
    },
    {
      "cell_type": "code",
      "source": [
        "num"
      ],
      "metadata": {
        "colab": {
          "base_uri": "https://localhost:8080/"
        },
        "id": "95QcoNqjpAKs",
        "outputId": "b774008d-9f3a-4adc-ff60-868464873a82"
      },
      "execution_count": null,
      "outputs": [
        {
          "output_type": "execute_result",
          "data": {
            "text/plain": [
              "[1,\n",
              " 2,\n",
              " 3,\n",
              " 4,\n",
              " 5,\n",
              " 6,\n",
              " 7,\n",
              " 8,\n",
              " 9,\n",
              " 10,\n",
              " 11,\n",
              " 12,\n",
              " 13,\n",
              " 14,\n",
              " 15,\n",
              " 16,\n",
              " 17,\n",
              " 18,\n",
              " 19,\n",
              " 20,\n",
              " 21,\n",
              " 22,\n",
              " 23,\n",
              " 24,\n",
              " 25,\n",
              " 26,\n",
              " 27,\n",
              " 28,\n",
              " 29,\n",
              " 30,\n",
              " 31,\n",
              " 32,\n",
              " 33,\n",
              " 34,\n",
              " 35,\n",
              " 36,\n",
              " 37,\n",
              " 38,\n",
              " 39,\n",
              " 40,\n",
              " 41,\n",
              " 42,\n",
              " 43,\n",
              " 44,\n",
              " 45,\n",
              " 46,\n",
              " 47,\n",
              " 48,\n",
              " 49,\n",
              " 50,\n",
              " 51,\n",
              " 52,\n",
              " 53,\n",
              " 54,\n",
              " 55,\n",
              " 56,\n",
              " 57,\n",
              " 58,\n",
              " 59,\n",
              " 60,\n",
              " 61,\n",
              " 62,\n",
              " 63,\n",
              " 64,\n",
              " 65,\n",
              " 66,\n",
              " 67,\n",
              " 68,\n",
              " 69,\n",
              " 70,\n",
              " 71,\n",
              " 72,\n",
              " 73,\n",
              " 74,\n",
              " 75,\n",
              " 76,\n",
              " 77,\n",
              " 78,\n",
              " 79,\n",
              " 80,\n",
              " 81,\n",
              " 82,\n",
              " 83,\n",
              " 84,\n",
              " 85,\n",
              " 86,\n",
              " 87,\n",
              " 88,\n",
              " 89,\n",
              " 90,\n",
              " 91,\n",
              " 92,\n",
              " 93,\n",
              " 94,\n",
              " 95,\n",
              " 96,\n",
              " 97,\n",
              " 98,\n",
              " 99,\n",
              " 100]"
            ]
          },
          "metadata": {},
          "execution_count": 5
        }
      ]
    },
    {
      "cell_type": "code",
      "source": [
        "num = [x for x in range(1,11)]\n",
        "num"
      ],
      "metadata": {
        "colab": {
          "base_uri": "https://localhost:8080/"
        },
        "id": "eZKOvcU8pA08",
        "outputId": "6aa15bf8-2d36-4953-fff2-6d7b228a0ee5"
      },
      "execution_count": null,
      "outputs": [
        {
          "output_type": "execute_result",
          "data": {
            "text/plain": [
              "[1, 2, 3, 4, 5, 6, 7, 8, 9, 10]"
            ]
          },
          "metadata": {},
          "execution_count": 6
        }
      ]
    },
    {
      "cell_type": "code",
      "source": [
        "a = [m for m in 'PYTHON']\n",
        "a"
      ],
      "metadata": {
        "colab": {
          "base_uri": "https://localhost:8080/"
        },
        "id": "KaKdv786rGzk",
        "outputId": "231693f1-c0ef-445c-b103-2cfe79dc1e25"
      },
      "execution_count": null,
      "outputs": [
        {
          "output_type": "execute_result",
          "data": {
            "text/plain": [
              "['P', 'Y', 'T', 'H', 'O', 'N']"
            ]
          },
          "metadata": {},
          "execution_count": 7
        }
      ]
    },
    {
      "cell_type": "code",
      "source": [
        "import random\n",
        "\n",
        "# A list of common first names to use as keys\n",
        "first_names = [\n",
        "    \"Alice\", \"Bob\", \"Charlie\", \"David\", \"Eve\", \"Frank\", \"Grace\", \"Heidi\",\n",
        "    \"Ivan\", \"Judy\", \"Kevin\", \"Liam\", \"Mia\", \"Noah\", \"Olivia\", \"Peter\",\n",
        "    \"Quinn\", \"Rachel\", \"Sam\", \"Tina\", \"Uma\", \"Victor\", \"Wendy\", \"Xavier\",\n",
        "    \"Yara\", \"Zoe\", \"Anna\", \"Ben\", \"Chloe\", \"Daniel\", \"Ella\", \"Felix\",\n",
        "    \"Georgia\", \"Harry\", \"Isla\", \"Jack\", \"Kate\", \"Leo\", \"Maya\", \"Nathan\"\n",
        "]\n",
        "\n",
        "years_experience = {}\n",
        "# Ensure uniqueness of names if drawing from a smaller list than 25,\n",
        "# or simply allow duplicates if the list is large enough and random.choice is used.\n",
        "# For 25 items, we can just pick random names and years.\n",
        "\n",
        "# Use a set to keep track of names already used to ensure unique keys\n",
        "used_names = set()\n",
        "\n",
        "while len(years_experience) < 25:\n",
        "    name = random.choice(first_names)\n",
        "    # Add a simple counter to the name if it's already used, to ensure uniqueness\n",
        "    # This is a simple way to handle potential name collisions if first_names list is small\n",
        "    original_name = name\n",
        "    counter = 1\n",
        "    while name in used_names:\n",
        "        name = f\"{original_name}{counter}\"\n",
        "        counter += 1\n",
        "\n",
        "    years = random.randint(1, 20)  # Years of experience between 1 and 20\n",
        "    years_experience[name] = years\n",
        "    used_names.add(name)\n",
        "\n",
        "print(years_experience)"
      ],
      "metadata": {
        "colab": {
          "base_uri": "https://localhost:8080/"
        },
        "id": "yVukIPu5raL9",
        "outputId": "aaad344f-6e26-4436-91dc-9169d29ee869"
      },
      "execution_count": null,
      "outputs": [
        {
          "output_type": "stream",
          "name": "stdout",
          "text": [
            "{'Quinn': 2, 'Harry': 2, 'Charlie': 3, 'Olivia': 7, 'Olivia1': 20, 'Bob': 13, 'Uma': 10, 'Charlie1': 16, 'Ben': 19, 'Ella': 9, 'Harry1': 16, 'Jack': 18, 'Georgia': 13, 'Grace': 17, 'Rachel': 11, 'Rachel1': 17, 'Uma1': 17, 'Jack1': 9, 'Yara': 14, 'Zoe': 10, 'Maya': 10, 'Eve': 9, 'Ella1': 13, 'Olivia2': 15, 'Nathan': 12}\n"
          ]
        }
      ]
    },
    {
      "cell_type": "code",
      "source": [
        "import random\n",
        "\n",
        "job_roles = [\n",
        "    'Data Analyst', 'Software Engineer', 'Project Manager', 'Marketing Specialist',\n",
        "    'Financial Analyst', 'Graphic Designer', 'UX/UI Designer', 'Product Manager',\n",
        "    'Human Resources Manager', 'Operations Manager', 'Content Writer',\n",
        "    'Digital Marketing Manager', 'Business Development Manager', 'Sales Representative',\n",
        "    'Customer Success Manager', 'DevOps Engineer', 'Cybersecurity Analyst',\n",
        "    'Network Administrator', 'Cloud Architect', 'Database Administrator',\n",
        "    'Research Scientist', 'Biomedical Engineer', 'Mechanical Engineer',\n",
        "    'Electrical Engineer', 'Civil Engineer', 'Architect', 'Urban Planner',\n",
        "    'Environmental Scientist', 'Geologist', 'Chemist', 'Physicist',\n",
        "    'Astronomer', 'Mathematician', 'Statistician', 'Economist',\n",
        "    'Teacher', 'Professor', 'Librarian', 'Social Worker', 'Psychologist',\n",
        "    'Therapist', 'Medical Doctor', 'Nurse', 'Pharmacist', 'Dentist',\n",
        "    'Physical Therapist', 'Occupational Therapist', 'Speech-Language Pathologist',\n",
        "    'Veterinarian', 'Pilot', 'Flight Attendant', 'Air Traffic Controller',\n",
        "    'Mechanic', 'Electrician', 'Plumber', 'Carpenter', 'Welder',\n",
        "    'Mason', 'Chef', 'Baker', 'Barista', 'Bartender', 'Waiter/Waitress',\n",
        "    'Hotel Manager', 'Tour Guide', 'Travel Agent', 'Event Planner',\n",
        "    'Photographer', 'Videographer', 'Journalist', 'Editor', 'Musician',\n",
        "    'Actor', 'Director', 'Film Producer', 'Fashion Designer', 'Fashion Stylist',\n",
        "    'Jewelry Designer', 'Interior Designer', 'Landscaper'\n",
        "]\n",
        "\n",
        "dummy_jobs = random.choices(job_roles, k=2000)\n",
        "\n",
        "# Optional: Add an extra check to ensure 'Data Analyst' is in the list\n",
        "if 'Data Analyst' not in dummy_jobs:\n",
        "    dummy_jobs[random.randint(0, 1999)] = 'Data Analyst'\n",
        "\n",
        "print(dummy_jobs)"
      ],
      "metadata": {
        "colab": {
          "base_uri": "https://localhost:8080/"
        },
        "id": "M0n_w4FSt4bp",
        "outputId": "46ebc0d0-e3bb-4e76-c8e7-67cc3cb6129b"
      },
      "execution_count": null,
      "outputs": [
        {
          "output_type": "stream",
          "name": "stdout",
          "text": [
            "['Chef', 'Bartender', 'Mechanic', 'Electrician', 'Business Development Manager', 'Fashion Designer', 'Musician', 'Photographer', 'Musician', 'Plumber', 'Project Manager', 'Financial Analyst', 'Professor', 'Baker', 'Fashion Designer', 'Photographer', 'Geologist', 'Electrician', 'Hotel Manager', 'Pilot', 'Interior Designer', 'Research Scientist', 'Urban Planner', 'Film Producer', 'Astronomer', 'Musician', 'Actor', 'Project Manager', 'Mathematician', 'Videographer', 'Environmental Scientist', 'Air Traffic Controller', 'Landscaper', 'Journalist', 'Electrical Engineer', 'Event Planner', 'Baker', 'Mathematician', 'UX/UI Designer', 'Mechanic', 'Flight Attendant', 'Tour Guide', 'Software Engineer', 'Mathematician', 'Baker', 'Librarian', 'Software Engineer', 'Chef', 'Financial Analyst', 'Economist', 'Barista', 'Chemist', 'Dentist', 'Landscaper', 'Videographer', 'Librarian', 'Database Administrator', 'Physical Therapist', 'Travel Agent', 'Research Scientist', 'Actor', 'Therapist', 'Baker', 'Statistician', 'Economist', 'Editor', 'Project Manager', 'Photographer', 'Marketing Specialist', 'Graphic Designer', 'Veterinarian', 'Videographer', 'Jewelry Designer', 'Data Analyst', 'Mechanic', 'Videographer', 'Dentist', 'DevOps Engineer', 'Film Producer', 'Electrical Engineer', 'Waiter/Waitress', 'Event Planner', 'Project Manager', 'Pharmacist', 'Fashion Designer', 'Film Producer', 'Hotel Manager', 'Network Administrator', 'Mason', 'Financial Analyst', 'Occupational Therapist', 'Mathematician', 'Baker', 'Nurse', 'Chemist', 'Librarian', 'Professor', 'Environmental Scientist', 'Bartender', 'Digital Marketing Manager', 'Landscaper', 'Graphic Designer', 'Musician', 'Customer Success Manager', 'Actor', 'Social Worker', 'Operations Manager', 'Welder', 'Database Administrator', 'Mechanical Engineer', 'Graphic Designer', 'Carpenter', 'Electrician', 'Pilot', 'Data Analyst', 'Psychologist', 'Statistician', 'Hotel Manager', 'Chef', 'Mechanical Engineer', 'Database Administrator', 'Welder', 'Musician', 'Pilot', 'Cloud Architect', 'Chemist', 'Chemist', 'Physical Therapist', 'Therapist', 'Cloud Architect', 'Cybersecurity Analyst', 'Electrical Engineer', 'Videographer', 'Cybersecurity Analyst', 'Geologist', 'Business Development Manager', 'Photographer', 'Director', 'Psychologist', 'Digital Marketing Manager', 'Carpenter', 'Therapist', 'Pharmacist', 'Interior Designer', 'Chemist', 'Biomedical Engineer', 'Jewelry Designer', 'Nurse', 'Mason', 'Chef', 'Musician', 'Project Manager', 'Librarian', 'Speech-Language Pathologist', 'Veterinarian', 'Photographer', 'Research Scientist', 'Mechanic', 'Actor', 'Videographer', 'Speech-Language Pathologist', 'Director', 'Content Writer', 'Cloud Architect', 'Software Engineer', 'Physicist', 'Human Resources Manager', 'Electrical Engineer', 'Geologist', 'Pilot', 'Plumber', 'Flight Attendant', 'Director', 'Speech-Language Pathologist', 'Physicist', 'Chef', 'Carpenter', 'Bartender', 'Mathematician', 'Travel Agent', 'Cybersecurity Analyst', 'Fashion Designer', 'Mason', 'Mathematician', 'Musician', 'Physical Therapist', 'Electrical Engineer', 'Editor', 'Medical Doctor', 'Social Worker', 'Tour Guide', 'Dentist', 'Software Engineer', 'Mathematician', 'Air Traffic Controller', 'Nurse', 'Mechanical Engineer', 'Veterinarian', 'Network Administrator', 'Editor', 'Veterinarian', 'Cloud Architect', 'Digital Marketing Manager', 'Mathematician', 'Human Resources Manager', 'Chef', 'Economist', 'Database Administrator', 'Psychologist', 'Architect', 'Electrician', 'Digital Marketing Manager', 'Mason', 'Software Engineer', 'Mechanical Engineer', 'Product Manager', 'DevOps Engineer', 'Fashion Designer', 'Statistician', 'Plumber', 'Research Scientist', 'Operations Manager', 'Librarian', 'Pilot', 'Electrician', 'Statistician', 'Baker', 'Pilot', 'Mechanic', 'Geologist', 'Database Administrator', 'Actor', 'Nurse', 'Chef', 'Cybersecurity Analyst', 'Teacher', 'Database Administrator', 'Dentist', 'Environmental Scientist', 'Electrical Engineer', 'Cybersecurity Analyst', 'Chef', 'Air Traffic Controller', 'Director', 'Speech-Language Pathologist', 'Electrical Engineer', 'Dentist', 'Database Administrator', 'Baker', 'Customer Success Manager', 'Network Administrator', 'Jewelry Designer', 'Astronomer', 'Welder', 'Digital Marketing Manager', 'Content Writer', 'Photographer', 'Actor', 'Cybersecurity Analyst', 'Event Planner', 'Librarian', 'Database Administrator', 'Business Development Manager', 'Chemist', 'Bartender', 'Pilot', 'Sales Representative', 'Teacher', 'Research Scientist', 'Videographer', 'Data Analyst', 'Cloud Architect', 'Mason', 'Videographer', 'Journalist', 'Mason', 'Physicist', 'Chef', 'Electrical Engineer', 'Welder', 'Economist', 'Teacher', 'Chemist', 'Baker', 'Psychologist', 'Civil Engineer', 'Flight Attendant', 'Event Planner', 'Cybersecurity Analyst', 'Film Producer', 'Event Planner', 'Tour Guide', 'Air Traffic Controller', 'Occupational Therapist', 'Network Administrator', 'Dentist', 'Speech-Language Pathologist', 'Director', 'Astronomer', 'Film Producer', 'Sales Representative', 'Occupational Therapist', 'Data Analyst', 'Photographer', 'Chemist', 'Research Scientist', 'Human Resources Manager', 'Electrical Engineer', 'Civil Engineer', 'Dentist', 'Pilot', 'Musician', 'Director', 'Customer Success Manager', 'Chef', 'Sales Representative', 'Occupational Therapist', 'Architect', 'Electrical Engineer', 'Digital Marketing Manager', 'Physicist', 'Director', 'DevOps Engineer', 'Dentist', 'Graphic Designer', 'Chemist', 'Operations Manager', 'Financial Analyst', 'Psychologist', 'Flight Attendant', 'Veterinarian', 'Database Administrator', 'Librarian', 'Musician', 'Digital Marketing Manager', 'Environmental Scientist', 'Social Worker', 'Mason', 'Cloud Architect', 'Business Development Manager', 'Baker', 'Geologist', 'Teacher', 'Jewelry Designer', 'Flight Attendant', 'Mechanic', 'Photographer', 'Occupational Therapist', 'Chemist', 'Sales Representative', 'Digital Marketing Manager', 'Statistician', 'Network Administrator', 'Tour Guide', 'Barista', 'Project Manager', 'Director', 'Medical Doctor', 'Jewelry Designer', 'Physicist', 'Digital Marketing Manager', 'Medical Doctor', 'Dentist', 'Therapist', 'Physical Therapist', 'Chemist', 'Travel Agent', 'Astronomer', 'Physicist', 'Customer Success Manager', 'Social Worker', 'Waiter/Waitress', 'Plumber', 'Operations Manager', 'Plumber', 'Geologist', 'Interior Designer', 'Nurse', 'Flight Attendant', 'Pharmacist', 'Videographer', 'Barista', 'Mechanical Engineer', 'Human Resources Manager', 'Dentist', 'Musician', 'Electrician', 'Carpenter', 'Sales Representative', 'Mathematician', 'Business Development Manager', 'Bartender', 'Mathematician', 'Pharmacist', 'Content Writer', 'Fashion Stylist', 'Carpenter', 'Urban Planner', 'Electrical Engineer', 'Air Traffic Controller', 'Psychologist', 'Professor', 'UX/UI Designer', 'Hotel Manager', 'Graphic Designer', 'Bartender', 'Veterinarian', 'Plumber', 'Therapist', 'Musician', 'Jewelry Designer', 'Economist', 'Medical Doctor', 'Research Scientist', 'Graphic Designer', 'Graphic Designer', 'Film Producer', 'Marketing Specialist', 'Marketing Specialist', 'Network Administrator', 'Landscaper', 'Interior Designer', 'Teacher', 'Mason', 'Business Development Manager', 'Customer Success Manager', 'Software Engineer', 'Graphic Designer', 'Photographer', 'Plumber', 'Software Engineer', 'Geologist', 'UX/UI Designer', 'Civil Engineer', 'Operations Manager', 'Film Producer', 'Architect', 'Flight Attendant', 'Travel Agent', 'Occupational Therapist', 'Musician', 'Professor', 'Journalist', 'Physicist', 'Editor', 'Medical Doctor', 'Event Planner', 'Project Manager', 'Director', 'Project Manager', 'Electrician', 'Photographer', 'Electrician', 'Mechanical Engineer', 'Welder', 'Civil Engineer', 'Mechanic', 'Customer Success Manager', 'Pharmacist', 'Dentist', 'Welder', 'Speech-Language Pathologist', 'Data Analyst', 'Financial Analyst', 'Bartender', 'Mason', 'Urban Planner', 'Bartender', 'Baker', 'Mechanic', 'Research Scientist', 'Human Resources Manager', 'Film Producer', 'Mason', 'Data Analyst', 'Social Worker', 'Speech-Language Pathologist', 'Operations Manager', 'Operations Manager', 'Tour Guide', 'Product Manager', 'Nurse', 'Carpenter', 'Fashion Designer', 'Pilot', 'Teacher', 'Carpenter', 'Actor', 'Environmental Scientist', 'Medical Doctor', 'Veterinarian', 'Marketing Specialist', 'Journalist', 'Tour Guide', 'Database Administrator', 'Social Worker', 'UX/UI Designer', 'Business Development Manager', 'Operations Manager', 'Cloud Architect', 'Cybersecurity Analyst', 'Electrician', 'Cybersecurity Analyst', 'Social Worker', 'Dentist', 'Carpenter', 'Fashion Stylist', 'Jewelry Designer', 'Cybersecurity Analyst', 'Physicist', 'Environmental Scientist', 'Welder', 'Therapist', 'Plumber', 'Director', 'Editor', 'Database Administrator', 'Film Producer', 'Cloud Architect', 'DevOps Engineer', 'Sales Representative', 'Electrician', 'Nurse', 'Operations Manager', 'Photographer', 'Dentist', 'Mathematician', 'Database Administrator', 'Cybersecurity Analyst', 'Marketing Specialist', 'Librarian', 'Plumber', 'Digital Marketing Manager', 'Veterinarian', 'Editor', 'Journalist', 'Professor', 'Geologist', 'Chef', 'Baker', 'Journalist', 'Director', 'Electrician', 'Urban Planner', 'Economist', 'Teacher', 'Product Manager', 'Human Resources Manager', 'Waiter/Waitress', 'Graphic Designer', 'Graphic Designer', 'Statistician', 'Financial Analyst', 'Journalist', 'Astronomer', 'Cloud Architect', 'Occupational Therapist', 'Electrician', 'Veterinarian', 'Civil Engineer', 'Dentist', 'Financial Analyst', 'Photographer', 'Astronomer', 'Fashion Designer', 'Graphic Designer', 'Carpenter', 'Product Manager', 'Pilot', 'Marketing Specialist', 'Interior Designer', 'Air Traffic Controller', 'Nurse', 'Mathematician', 'Project Manager', 'Tour Guide', 'Physicist', 'Event Planner', 'Interior Designer', 'Welder', 'Bartender', 'Business Development Manager', 'Physical Therapist', 'Network Administrator', 'Civil Engineer', 'Landscaper', 'Event Planner', 'Product Manager', 'Fashion Stylist', 'Film Producer', 'Mason', 'Travel Agent', 'Musician', 'Nurse', 'Interior Designer', 'Mason', 'Financial Analyst', 'Graphic Designer', 'Carpenter', 'Mechanical Engineer', 'Electrical Engineer', 'Research Scientist', 'Cloud Architect', 'Psychologist', 'Operations Manager', 'UX/UI Designer', 'Director', 'DevOps Engineer', 'Waiter/Waitress', 'Physicist', 'Barista', 'Baker', 'Therapist', 'Occupational Therapist', 'Event Planner', 'Dentist', 'Videographer', 'Pharmacist', 'Plumber', 'Mechanical Engineer', 'Veterinarian', 'Hotel Manager', 'Software Engineer', 'Product Manager', 'Tour Guide', 'Geologist', 'Hotel Manager', 'Financial Analyst', 'Videographer', 'Product Manager', 'Teacher', 'Software Engineer', 'Network Administrator', 'Biomedical Engineer', 'Sales Representative', 'Welder', 'Biomedical Engineer', 'Professor', 'Bartender', 'Physicist', 'DevOps Engineer', 'Business Development Manager', 'Occupational Therapist', 'Digital Marketing Manager', 'Journalist', 'Human Resources Manager', 'Medical Doctor', 'Geologist', 'Research Scientist', 'Speech-Language Pathologist', 'Videographer', 'Musician', 'Editor', 'Tour Guide', 'Psychologist', 'Jewelry Designer', 'Chef', 'Physical Therapist', 'Air Traffic Controller', 'Financial Analyst', 'Social Worker', 'Therapist', 'Operations Manager', 'Fashion Designer', 'Biomedical Engineer', 'Barista', 'Actor', 'Medical Doctor', 'Librarian', 'Fashion Stylist', 'Pilot', 'Mechanic', 'Project Manager', 'Director', 'Content Writer', 'Film Producer', 'Marketing Specialist', 'Mechanic', 'Teacher', 'Statistician', 'Human Resources Manager', 'Cloud Architect', 'Database Administrator', 'Welder', 'Civil Engineer', 'Mechanic', 'Director', 'Environmental Scientist', 'Videographer', 'Teacher', 'Sales Representative', 'Jewelry Designer', 'Baker', 'Film Producer', 'Director', 'Database Administrator', 'Urban Planner', 'Business Development Manager', 'Electrical Engineer', 'Baker', 'Software Engineer', 'Travel Agent', 'Geologist', 'Chef', 'Environmental Scientist', 'Mechanic', 'Dentist', 'Environmental Scientist', 'Event Planner', 'Urban Planner', 'Baker', 'Mechanical Engineer', 'Welder', 'Nurse', 'Veterinarian', 'Database Administrator', 'Medical Doctor', 'Pilot', 'Psychologist', 'Urban Planner', 'Therapist', 'Product Manager', 'Astronomer', 'Carpenter', 'Dentist', 'Travel Agent', 'Mason', 'Electrical Engineer', 'Photographer', 'Electrician', 'Chemist', 'Product Manager', 'Financial Analyst', 'Cloud Architect', 'Social Worker', 'Astronomer', 'Editor', 'Plumber', 'Therapist', 'Hotel Manager', 'Operations Manager', 'Landscaper', 'Urban Planner', 'Fashion Designer', 'Actor', 'Cloud Architect', 'Operations Manager', 'Carpenter', 'Barista', 'Data Analyst', 'Videographer', 'Carpenter', 'Mechanic', 'Psychologist', 'Software Engineer', 'Fashion Designer', 'Musician', 'Mathematician', 'Occupational Therapist', 'Chef', 'Psychologist', 'Financial Analyst', 'Photographer', 'Tour Guide', 'Professor', 'Physicist', 'Physical Therapist', 'UX/UI Designer', 'Baker', 'Urban Planner', 'Travel Agent', 'Operations Manager', 'Financial Analyst', 'Social Worker', 'Occupational Therapist', 'Mathematician', 'Database Administrator', 'Financial Analyst', 'Landscaper', 'Database Administrator', 'Event Planner', 'Teacher', 'Data Analyst', 'Graphic Designer', 'Jewelry Designer', 'Biomedical Engineer', 'Mason', 'Librarian', 'Sales Representative', 'Landscaper', 'Network Administrator', 'Landscaper', 'Astronomer', 'Waiter/Waitress', 'Biomedical Engineer', 'Travel Agent', 'Film Producer', 'Videographer', 'Graphic Designer', 'Physical Therapist', 'Bartender', 'Chemist', 'Barista', 'Fashion Designer', 'Pharmacist', 'Research Scientist', 'Marketing Specialist', 'Mechanical Engineer', 'Travel Agent', 'Fashion Designer', 'Database Administrator', 'UX/UI Designer', 'Actor', 'Baker', 'Biomedical Engineer', 'Therapist', 'Network Administrator', 'Teacher', 'Architect', 'Flight Attendant', 'Marketing Specialist', 'Journalist', 'Astronomer', 'Plumber', 'Travel Agent', 'Professor', 'Librarian', 'Architect', 'Marketing Specialist', 'Marketing Specialist', 'Videographer', 'Graphic Designer', 'Statistician', 'Chemist', 'Medical Doctor', 'Travel Agent', 'Mechanic', 'Travel Agent', 'Cloud Architect', 'Urban Planner', 'Biomedical Engineer', 'Content Writer', 'Editor', 'Customer Success Manager', 'Videographer', 'Jewelry Designer', 'Journalist', 'Psychologist', 'Waiter/Waitress', 'Content Writer', 'Photographer', 'Therapist', 'Project Manager', 'Business Development Manager', 'Hotel Manager', 'Economist', 'Project Manager', 'Cybersecurity Analyst', 'Air Traffic Controller', 'Architect', 'Financial Analyst', 'Business Development Manager', 'Cloud Architect', 'Veterinarian', 'Fashion Designer', 'Air Traffic Controller', 'Network Administrator', 'Financial Analyst', 'Photographer', 'Pilot', 'Journalist', 'Film Producer', 'Musician', 'Jewelry Designer', 'Cloud Architect', 'Customer Success Manager', 'Civil Engineer', 'Product Manager', 'Veterinarian', 'Cybersecurity Analyst', 'Physical Therapist', 'Geologist', 'Fashion Stylist', 'Nurse', 'Waiter/Waitress', 'Architect', 'Librarian', 'Mechanical Engineer', 'Flight Attendant', 'Fashion Stylist', 'Financial Analyst', 'Mason', 'Physicist', 'Project Manager', 'Baker', 'Human Resources Manager', 'Barista', 'Mechanical Engineer', 'Urban Planner', 'Plumber', 'Cloud Architect', 'Medical Doctor', 'Mechanic', 'Speech-Language Pathologist', 'Cybersecurity Analyst', 'Electrical Engineer', 'Product Manager', 'Musician', 'Operations Manager', 'Carpenter', 'Jewelry Designer', 'Bartender', 'Event Planner', 'Urban Planner', 'Actor', 'Barista', 'Environmental Scientist', 'Pharmacist', 'Research Scientist', 'Business Development Manager', 'Network Administrator', 'Hotel Manager', 'Content Writer', 'Videographer', 'Human Resources Manager', 'Environmental Scientist', 'Director', 'Professor', 'Operations Manager', 'UX/UI Designer', 'Database Administrator', 'DevOps Engineer', 'Research Scientist', 'Baker', 'Pilot', 'Mason', 'Photographer', 'Astronomer', 'Chemist', 'Fashion Stylist', 'Electrician', 'Electrician', 'Director', 'Operations Manager', 'Interior Designer', 'Marketing Specialist', 'Journalist', 'Film Producer', 'Economist', 'Dentist', 'Event Planner', 'Waiter/Waitress', 'Digital Marketing Manager', 'Mason', 'Marketing Specialist', 'Data Analyst', 'DevOps Engineer', 'Hotel Manager', 'Economist', 'Waiter/Waitress', 'Biomedical Engineer', 'Physicist', 'Medical Doctor', 'Nurse', 'Software Engineer', 'Psychologist', 'Network Administrator', 'Fashion Stylist', 'Event Planner', 'Bartender', 'Occupational Therapist', 'Mason', 'Speech-Language Pathologist', 'Statistician', 'Welder', 'Cybersecurity Analyst', 'Journalist', 'Flight Attendant', 'Barista', 'Editor', 'Data Analyst', 'Mechanical Engineer', 'Physical Therapist', 'Editor', 'Network Administrator', 'Digital Marketing Manager', 'Pharmacist', 'Pharmacist', 'Film Producer', 'Marketing Specialist', 'Pilot', 'Human Resources Manager', 'Carpenter', 'Customer Success Manager', 'Physical Therapist', 'Geologist', 'Civil Engineer', 'Human Resources Manager', 'Event Planner', 'Fashion Stylist', 'Pharmacist', 'Veterinarian', 'Business Development Manager', 'Architect', 'UX/UI Designer', 'Director', 'Architect', 'Mason', 'Human Resources Manager', 'Air Traffic Controller', 'Medical Doctor', 'Mason', 'Chef', 'Sales Representative', 'Pilot', 'Physicist', 'Air Traffic Controller', 'Jewelry Designer', 'Astronomer', 'Photographer', 'Air Traffic Controller', 'Statistician', 'Musician', 'Software Engineer', 'Carpenter', 'Editor', 'Editor', 'Product Manager', 'Air Traffic Controller', 'Therapist', 'Plumber', 'Electrician', 'Graphic Designer', 'Fashion Stylist', 'Waiter/Waitress', 'Cloud Architect', 'Sales Representative', 'Interior Designer', 'Photographer', 'Environmental Scientist', 'Project Manager', 'Speech-Language Pathologist', 'Psychologist', 'Occupational Therapist', 'Barista', 'Physical Therapist', 'Project Manager', 'Statistician', 'Nurse', 'Flight Attendant', 'Human Resources Manager', 'Interior Designer', 'Cloud Architect', 'Chef', 'Physicist', 'Physicist', 'Teacher', 'Digital Marketing Manager', 'Physicist', 'Marketing Specialist', 'Database Administrator', 'Tour Guide', 'Chef', 'Chef', 'Journalist', 'Pharmacist', 'Landscaper', 'Medical Doctor', 'Financial Analyst', 'Editor', 'Financial Analyst', 'Librarian', 'Geologist', 'Film Producer', 'Mechanical Engineer', 'Librarian', 'Human Resources Manager', 'Travel Agent', 'Geologist', 'Bartender', 'Veterinarian', 'Mechanical Engineer', 'Biomedical Engineer', 'Chef', 'Air Traffic Controller', 'Flight Attendant', 'Geologist', 'Mechanic', 'Business Development Manager', 'Speech-Language Pathologist', 'Sales Representative', 'Sales Representative', 'Product Manager', 'Psychologist', 'Musician', 'UX/UI Designer', 'Human Resources Manager', 'Network Administrator', 'Travel Agent', 'Software Engineer', 'Social Worker', 'Content Writer', 'Welder', 'Speech-Language Pathologist', 'Social Worker', 'Carpenter', 'Photographer', 'UX/UI Designer', 'UX/UI Designer', 'Editor', 'Chef', 'Social Worker', 'Fashion Stylist', 'Flight Attendant', 'Software Engineer', 'Fashion Stylist', 'Event Planner', 'Chef', 'Director', 'Professor', 'Electrical Engineer', 'Landscaper', 'Interior Designer', 'Marketing Specialist', 'Tour Guide', 'Veterinarian', 'Librarian', 'Fashion Stylist', 'Cloud Architect', 'Actor', 'Baker', 'Photographer', 'Chemist', 'Travel Agent', 'Journalist', 'Speech-Language Pathologist', 'Barista', 'Human Resources Manager', 'Director', 'Project Manager', 'Dentist', 'Baker', 'UX/UI Designer', 'Photographer', 'Digital Marketing Manager', 'Product Manager', 'Fashion Stylist', 'Teacher', 'Economist', 'Barista', 'Statistician', 'Mathematician', 'Bartender', 'Actor', 'Customer Success Manager', 'Environmental Scientist', 'Social Worker', 'Urban Planner', 'Teacher', 'Chef', 'Speech-Language Pathologist', 'Teacher', 'Hotel Manager', 'Dentist', 'Air Traffic Controller', 'Event Planner', 'Actor', 'Editor', 'Journalist', 'Mechanic', 'Actor', 'Data Analyst', 'Videographer', 'Fashion Stylist', 'Operations Manager', 'Journalist', 'Chemist', 'Director', 'Financial Analyst', 'Data Analyst', 'Therapist', 'Statistician', 'Pharmacist', 'Hotel Manager', 'Product Manager', 'Actor', 'Editor', 'Financial Analyst', 'Urban Planner', 'Financial Analyst', 'Content Writer', 'Jewelry Designer', 'Pharmacist', 'Editor', 'Physicist', 'Occupational Therapist', 'Therapist', 'Social Worker', 'Project Manager', 'Landscaper', 'Speech-Language Pathologist', 'Economist', 'Occupational Therapist', 'Human Resources Manager', 'Dentist', 'Data Analyst', 'Librarian', 'Social Worker', 'Interior Designer', 'Physical Therapist', 'Baker', 'Software Engineer', 'Data Analyst', 'Nurse', 'Occupational Therapist', 'Photographer', 'Product Manager', 'Mason', 'Therapist', 'Air Traffic Controller', 'Mathematician', 'Operations Manager', 'Project Manager', 'Mechanic', 'Occupational Therapist', 'Marketing Specialist', 'Business Development Manager', 'Plumber', 'Barista', 'Tour Guide', 'Astronomer', 'Professor', 'Therapist', 'Product Manager', 'Physicist', 'Mason', 'Network Administrator', 'Environmental Scientist', 'Film Producer', 'Electrical Engineer', 'Financial Analyst', 'Fashion Designer', 'Digital Marketing Manager', 'Interior Designer', 'Travel Agent', 'Physical Therapist', 'Bartender', 'Network Administrator', 'UX/UI Designer', 'Operations Manager', 'Digital Marketing Manager', 'Mason', 'Content Writer', 'Therapist', 'Fashion Designer', 'Carpenter', 'Tour Guide', 'Marketing Specialist', 'Videographer', 'Chef', 'Social Worker', 'Dentist', 'Journalist', 'Musician', 'Veterinarian', 'Human Resources Manager', 'Baker', 'Flight Attendant', 'Interior Designer', 'Cybersecurity Analyst', 'Nurse', 'Therapist', 'Mason', 'Videographer', 'Mathematician', 'DevOps Engineer', 'Software Engineer', 'Hotel Manager', 'Barista', 'Hotel Manager', 'Jewelry Designer', 'Database Administrator', 'Actor', 'Air Traffic Controller', 'Journalist', 'Jewelry Designer', 'Astronomer', 'Carpenter', 'Therapist', 'Landscaper', 'Financial Analyst', 'Business Development Manager', 'Marketing Specialist', 'Videographer', 'Electrician', 'Network Administrator', 'Librarian', 'Landscaper', 'Physicist', 'Human Resources Manager', 'Software Engineer', 'Travel Agent', 'Civil Engineer', 'Physical Therapist', 'Fashion Stylist', 'Interior Designer', 'Marketing Specialist', 'Project Manager', 'Director', 'Environmental Scientist', 'Statistician', 'Network Administrator', 'Barista', 'Electrician', 'Photographer', 'Physical Therapist', 'Fashion Designer', 'Social Worker', 'Physicist', 'Human Resources Manager', 'Baker', 'Veterinarian', 'Cloud Architect', 'Digital Marketing Manager', 'Database Administrator', 'Data Analyst', 'Air Traffic Controller', 'Customer Success Manager', 'Pharmacist', 'Teacher', 'Environmental Scientist', 'Videographer', 'Electrical Engineer', 'Therapist', 'Baker', 'Content Writer', 'Customer Success Manager', 'Chef', 'Journalist', 'Veterinarian', 'Database Administrator', 'Journalist', 'Geologist', 'Chemist', 'Architect', 'Travel Agent', 'Speech-Language Pathologist', 'Marketing Specialist', 'Film Producer', 'Urban Planner', 'Network Administrator', 'Civil Engineer', 'Content Writer', 'Teacher', 'Pilot', 'Fashion Designer', 'Electrical Engineer', 'Marketing Specialist', 'Event Planner', 'Mathematician', 'Astronomer', 'Fashion Designer', 'Jewelry Designer', 'Electrical Engineer', 'Librarian', 'Director', 'Plumber', 'Musician', 'Hotel Manager', 'Welder', 'Astronomer', 'Bartender', 'Mechanical Engineer', 'Statistician', 'Therapist', 'Content Writer', 'Electrician', 'Data Analyst', 'Interior Designer', 'Network Administrator', 'Teacher', 'Photographer', 'Musician', 'Business Development Manager', 'Event Planner', 'Product Manager', 'Content Writer', 'Mathematician', 'Database Administrator', 'Sales Representative', 'Veterinarian', 'Network Administrator', 'Sales Representative', 'Medical Doctor', 'Physical Therapist', 'UX/UI Designer', 'Speech-Language Pathologist', 'Air Traffic Controller', 'Electrical Engineer', 'Photographer', 'Plumber', 'Database Administrator', 'Film Producer', 'Landscaper', 'Project Manager', 'DevOps Engineer', 'Software Engineer', 'Therapist', 'Financial Analyst', 'Air Traffic Controller', 'Psychologist', 'Mechanic', 'Environmental Scientist', 'Mechanic', 'Fashion Stylist', 'Marketing Specialist', 'Musician', 'Graphic Designer', 'Professor', 'Baker', 'Professor', 'Chemist', 'Hotel Manager', 'Economist', 'Film Producer', 'Interior Designer', 'Architect', 'Videographer', 'Sales Representative', 'Physical Therapist', 'Content Writer', 'Chef', 'Event Planner', 'Fashion Designer', 'Physicist', 'Biomedical Engineer', 'Statistician', 'Mathematician', 'Business Development Manager', 'Biomedical Engineer', 'Jewelry Designer', 'Air Traffic Controller', 'Videographer', 'Tour Guide', 'Editor', 'Operations Manager', 'Plumber', 'Marketing Specialist', 'Travel Agent', 'Chef', 'Speech-Language Pathologist', 'Biomedical Engineer', 'Baker', 'Social Worker', 'Environmental Scientist', 'Editor', 'Occupational Therapist', 'Mechanical Engineer', 'Baker', 'Jewelry Designer', 'Medical Doctor', 'Chemist', 'Event Planner', 'Medical Doctor', 'Photographer', 'Welder', 'Database Administrator', 'Human Resources Manager', 'Librarian', 'Software Engineer', 'Medical Doctor', 'Cloud Architect', 'Interior Designer', 'Therapist', 'Teacher', 'Environmental Scientist', 'Landscaper', 'Film Producer', 'Barista', 'Welder', 'Customer Success Manager', 'Cybersecurity Analyst', 'Physical Therapist', 'Astronomer', 'Sales Representative', 'Cybersecurity Analyst', 'Occupational Therapist', 'Speech-Language Pathologist', 'Actor', 'Carpenter', 'Landscaper', 'Digital Marketing Manager', 'Mechanical Engineer', 'Mason', 'Product Manager', 'Chemist', 'Business Development Manager', 'Network Administrator', 'Network Administrator', 'Director', 'Astronomer', 'Fashion Stylist', 'Medical Doctor', 'Research Scientist', 'Librarian', 'Graphic Designer', 'Physicist', 'Digital Marketing Manager', 'Fashion Designer', 'Pilot', 'Architect', 'Mason', 'Software Engineer', 'Environmental Scientist', 'Statistician', 'Chemist', 'Baker', 'Data Analyst', 'Cloud Architect', 'Financial Analyst', 'Physicist', 'Event Planner', 'Research Scientist', 'Baker', 'Civil Engineer', 'Civil Engineer', 'Teacher', 'Project Manager', 'Professor', 'Psychologist', 'Barista', 'Customer Success Manager', 'Cybersecurity Analyst', 'Chef', 'Product Manager', 'Pilot', 'Economist', 'Musician', 'Flight Attendant', 'Tour Guide', 'Waiter/Waitress', 'Marketing Specialist', 'Editor', 'Cloud Architect', 'Customer Success Manager', 'Journalist', 'Data Analyst', 'Bartender', 'Biomedical Engineer', 'Sales Representative', 'Operations Manager', 'Flight Attendant', 'Marketing Specialist', 'Baker', 'Photographer', 'Barista', 'Landscaper', 'Landscaper', 'UX/UI Designer', 'Librarian', 'Dentist', 'Photographer', 'Plumber', 'Social Worker', 'Graphic Designer', 'Fashion Stylist', 'Videographer', 'Financial Analyst', 'Mathematician', 'Pharmacist', 'Network Administrator', 'Tour Guide', 'Fashion Designer', 'Veterinarian', 'Network Administrator', 'Director', 'Bartender', 'Landscaper', 'Data Analyst', 'Biomedical Engineer', 'Sales Representative', 'Fashion Designer', 'Content Writer', 'Interior Designer', 'Videographer', 'Speech-Language Pathologist', 'Electrician', 'Digital Marketing Manager', 'Psychologist', 'Landscaper', 'Social Worker', 'Pilot', 'Musician', 'Biomedical Engineer', 'Mathematician', 'Civil Engineer', 'Tour Guide', 'Customer Success Manager', 'UX/UI Designer', 'Director', 'Statistician', 'Sales Representative', 'Speech-Language Pathologist', 'Air Traffic Controller', 'Biomedical Engineer', 'Customer Success Manager', 'Journalist', 'Tour Guide', 'Bartender', 'Flight Attendant', 'Speech-Language Pathologist', 'Software Engineer', 'Environmental Scientist', 'Marketing Specialist', 'Travel Agent', 'Flight Attendant', 'Environmental Scientist', 'Psychologist', 'Social Worker', 'Waiter/Waitress', 'Research Scientist', 'Financial Analyst', 'Financial Analyst', 'Chemist', 'Welder', 'Mathematician', 'Interior Designer', 'Mechanic', 'Physicist', 'Welder', 'Electrical Engineer', 'Operations Manager', 'Database Administrator', 'Jewelry Designer', 'Medical Doctor', 'Hotel Manager', 'Biomedical Engineer', 'Network Administrator', 'Interior Designer', 'Chemist', 'Tour Guide', 'Chemist', 'Air Traffic Controller', 'Content Writer', 'Content Writer', 'Project Manager', 'Bartender', 'Dentist', 'Pharmacist', 'Dentist', 'Chef', 'Environmental Scientist', 'Software Engineer', 'Videographer', 'Environmental Scientist', 'Biomedical Engineer', 'Actor', 'Flight Attendant', 'Travel Agent', 'Jewelry Designer', 'Mathematician', 'Database Administrator', 'Librarian', 'Astronomer', 'Astronomer', 'Landscaper', 'UX/UI Designer', 'Marketing Specialist', 'Software Engineer', 'Baker', 'Waiter/Waitress', 'Cybersecurity Analyst', 'Teacher', 'Project Manager', 'Financial Analyst', 'Nurse', 'Welder', 'Electrical Engineer', 'Research Scientist', 'Photographer', 'Cloud Architect', 'Event Planner', 'Travel Agent', 'Director', 'Director', 'Air Traffic Controller', 'Film Producer', 'Actor', 'Mechanic', 'Marketing Specialist', 'Astronomer', 'Project Manager', 'Carpenter', 'Sales Representative', 'Fashion Stylist', 'Sales Representative', 'Landscaper', 'Civil Engineer', 'Psychologist', 'Travel Agent', 'Waiter/Waitress', 'Cloud Architect', 'Electrician', 'Physical Therapist', 'Medical Doctor', 'Cloud Architect', 'Barista', 'Film Producer', 'Product Manager', 'DevOps Engineer', 'Photographer', 'Chemist', 'Event Planner', 'Marketing Specialist', 'Astronomer', 'Physicist', 'Content Writer', 'Waiter/Waitress', 'Medical Doctor', 'Nurse', 'Psychologist', 'Baker', 'Database Administrator', 'Nurse', 'Database Administrator', 'Astronomer', 'Astronomer', 'Customer Success Manager', 'Urban Planner', 'Marketing Specialist', 'Research Scientist', 'Landscaper', 'Plumber', 'Director', 'Hotel Manager', 'Photographer', 'Pilot', 'Economist', 'Jewelry Designer', 'Environmental Scientist', 'Tour Guide', 'Civil Engineer', 'Financial Analyst', 'Nurse', 'Nurse', 'Cloud Architect', 'Marketing Specialist', 'Geologist', 'Business Development Manager', 'Sales Representative', 'Electrical Engineer', 'Veterinarian', 'Social Worker', 'Electrical Engineer', 'Baker', 'Librarian', 'Biomedical Engineer', 'Statistician', 'Dentist', 'Fashion Stylist', 'Therapist', 'Tour Guide', 'Statistician', 'Barista', 'Pharmacist', 'Mechanical Engineer', 'UX/UI Designer', 'Flight Attendant', 'Dentist', 'Plumber', 'Mason', 'Musician', 'Travel Agent', 'Librarian', 'Landscaper', 'Waiter/Waitress', 'Software Engineer', 'Chemist', 'Journalist', 'Astronomer', 'Cloud Architect', 'Barista', 'Nurse', 'Carpenter', 'Hotel Manager', 'Network Administrator', 'Speech-Language Pathologist', 'Graphic Designer', 'Network Administrator', 'Chemist', 'Air Traffic Controller', 'Baker', 'Flight Attendant', 'Fashion Designer', 'Fashion Designer', 'Interior Designer', 'Film Producer', 'DevOps Engineer', 'Hotel Manager', 'Software Engineer', 'Therapist', 'Air Traffic Controller', 'Physical Therapist', 'Content Writer', 'Product Manager', 'Therapist', 'Travel Agent', 'Network Administrator', 'Customer Success Manager', 'Environmental Scientist', 'Carpenter', 'Air Traffic Controller', 'Physicist', 'Speech-Language Pathologist', 'Pilot', 'Librarian', 'Electrical Engineer', 'Mathematician', 'Professor', 'Geologist', 'Air Traffic Controller', 'Civil Engineer', 'Waiter/Waitress', 'Architect', 'Nurse', 'Plumber', 'Tour Guide', 'Electrician', 'Film Producer', 'Mathematician', 'Physicist', 'Digital Marketing Manager', 'Tour Guide', 'Cybersecurity Analyst', 'Network Administrator', 'DevOps Engineer', 'Data Analyst', 'Fashion Stylist', 'Business Development Manager', 'Architect', 'Tour Guide', 'Landscaper', 'Travel Agent', 'Musician', 'Chef', 'Carpenter', 'Teacher', 'Mechanic', 'Pilot', 'Bartender', 'Social Worker', 'Cloud Architect', 'Pharmacist', 'Graphic Designer', 'Geologist', 'Chemist', 'Project Manager', 'Human Resources Manager', 'Tour Guide', 'Urban Planner', 'Plumber', 'UX/UI Designer', 'Baker', 'Graphic Designer', 'Occupational Therapist', 'Editor', 'Welder', 'Architect', 'Physical Therapist', 'Film Producer', 'Network Administrator', 'Occupational Therapist', 'Data Analyst', 'Pilot', 'Graphic Designer', 'Speech-Language Pathologist', 'Actor', 'Digital Marketing Manager', 'Physical Therapist', 'Flight Attendant', 'Geologist', 'Musician', 'Fashion Stylist', 'Fashion Designer', 'Chemist', 'Baker', 'Teacher', 'Photographer', 'Interior Designer', 'Cybersecurity Analyst', 'Musician', 'Interior Designer', 'Operations Manager', 'Nurse', 'Physicist', 'Director', 'Database Administrator', 'Human Resources Manager', 'Mason', 'Event Planner', 'Plumber', 'Cloud Architect', 'Statistician', 'Biomedical Engineer', 'Carpenter', 'Professor', 'Air Traffic Controller', 'Landscaper', 'Dentist', 'Biomedical Engineer', 'Photographer', 'Speech-Language Pathologist', 'Chef', 'Occupational Therapist', 'Human Resources Manager', 'Astronomer', 'Digital Marketing Manager', 'Editor', 'Tour Guide', 'Biomedical Engineer', 'Digital Marketing Manager', 'Business Development Manager', 'Operations Manager', 'Fashion Designer', 'Teacher', 'Geologist', 'Geologist', 'Pharmacist', 'Customer Success Manager', 'DevOps Engineer', 'Plumber', 'Hotel Manager', 'Event Planner', 'Electrical Engineer', 'Electrical Engineer', 'Barista', 'Physical Therapist', 'Pharmacist', 'Pilot', 'Fashion Stylist', 'Project Manager', 'Urban Planner', 'Content Writer', 'Electrician', 'Electrician', 'Operations Manager', 'Waiter/Waitress', 'Nurse', 'Project Manager', 'Chemist', 'Mechanic', 'Veterinarian', 'Teacher', 'Mechanical Engineer', 'Pilot', 'Actor', 'Tour Guide', 'Cybersecurity Analyst', 'Psychologist', 'Customer Success Manager', 'Marketing Specialist', 'Hotel Manager', 'Travel Agent', 'Journalist', 'Event Planner', 'Pharmacist', 'Film Producer', 'Financial Analyst', 'Librarian', 'Mechanical Engineer', 'Therapist', 'DevOps Engineer', 'Physical Therapist', 'Sales Representative', 'Dentist', 'Event Planner', 'Database Administrator', 'Data Analyst', 'Mason', 'Film Producer', 'Human Resources Manager', 'Flight Attendant', 'Architect', 'Journalist', 'Environmental Scientist', 'Product Manager', 'Architect', 'Dentist', 'Human Resources Manager', 'Marketing Specialist', 'Air Traffic Controller', 'Chemist', 'Physicist', 'Fashion Stylist', 'Jewelry Designer', 'Travel Agent', 'Geologist', 'Nurse', 'Graphic Designer', 'Product Manager']\n"
          ]
        }
      ]
    },
    {
      "cell_type": "code",
      "source": [
        "managers = []\n",
        "for i in dummy_jobs:\n",
        "  if \"Manager\" in i:\n",
        "    managers.append(i)\n",
        "managers"
      ],
      "metadata": {
        "colab": {
          "base_uri": "https://localhost:8080/"
        },
        "id": "-HBR1GA9t_Vs",
        "outputId": "5dcbb208-32be-4fd4-bced-d971c5e3ca60"
      },
      "execution_count": null,
      "outputs": [
        {
          "output_type": "execute_result",
          "data": {
            "text/plain": [
              "['Business Development Manager',\n",
              " 'Project Manager',\n",
              " 'Hotel Manager',\n",
              " 'Project Manager',\n",
              " 'Project Manager',\n",
              " 'Project Manager',\n",
              " 'Hotel Manager',\n",
              " 'Digital Marketing Manager',\n",
              " 'Customer Success Manager',\n",
              " 'Operations Manager',\n",
              " 'Hotel Manager',\n",
              " 'Business Development Manager',\n",
              " 'Digital Marketing Manager',\n",
              " 'Project Manager',\n",
              " 'Human Resources Manager',\n",
              " 'Digital Marketing Manager',\n",
              " 'Human Resources Manager',\n",
              " 'Digital Marketing Manager',\n",
              " 'Product Manager',\n",
              " 'Operations Manager',\n",
              " 'Customer Success Manager',\n",
              " 'Digital Marketing Manager',\n",
              " 'Business Development Manager',\n",
              " 'Human Resources Manager',\n",
              " 'Customer Success Manager',\n",
              " 'Digital Marketing Manager',\n",
              " 'Operations Manager',\n",
              " 'Digital Marketing Manager',\n",
              " 'Business Development Manager',\n",
              " 'Digital Marketing Manager',\n",
              " 'Project Manager',\n",
              " 'Digital Marketing Manager',\n",
              " 'Customer Success Manager',\n",
              " 'Operations Manager',\n",
              " 'Human Resources Manager',\n",
              " 'Business Development Manager',\n",
              " 'Hotel Manager',\n",
              " 'Business Development Manager',\n",
              " 'Customer Success Manager',\n",
              " 'Operations Manager',\n",
              " 'Project Manager',\n",
              " 'Project Manager',\n",
              " 'Customer Success Manager',\n",
              " 'Human Resources Manager',\n",
              " 'Operations Manager',\n",
              " 'Operations Manager',\n",
              " 'Product Manager',\n",
              " 'Business Development Manager',\n",
              " 'Operations Manager',\n",
              " 'Operations Manager',\n",
              " 'Digital Marketing Manager',\n",
              " 'Product Manager',\n",
              " 'Human Resources Manager',\n",
              " 'Product Manager',\n",
              " 'Project Manager',\n",
              " 'Business Development Manager',\n",
              " 'Product Manager',\n",
              " 'Operations Manager',\n",
              " 'Hotel Manager',\n",
              " 'Product Manager',\n",
              " 'Hotel Manager',\n",
              " 'Product Manager',\n",
              " 'Business Development Manager',\n",
              " 'Digital Marketing Manager',\n",
              " 'Human Resources Manager',\n",
              " 'Operations Manager',\n",
              " 'Project Manager',\n",
              " 'Human Resources Manager',\n",
              " 'Business Development Manager',\n",
              " 'Product Manager',\n",
              " 'Product Manager',\n",
              " 'Hotel Manager',\n",
              " 'Operations Manager',\n",
              " 'Operations Manager',\n",
              " 'Operations Manager',\n",
              " 'Customer Success Manager',\n",
              " 'Project Manager',\n",
              " 'Business Development Manager',\n",
              " 'Hotel Manager',\n",
              " 'Project Manager',\n",
              " 'Business Development Manager',\n",
              " 'Customer Success Manager',\n",
              " 'Product Manager',\n",
              " 'Project Manager',\n",
              " 'Human Resources Manager',\n",
              " 'Product Manager',\n",
              " 'Operations Manager',\n",
              " 'Business Development Manager',\n",
              " 'Hotel Manager',\n",
              " 'Human Resources Manager',\n",
              " 'Operations Manager',\n",
              " 'Operations Manager',\n",
              " 'Digital Marketing Manager',\n",
              " 'Hotel Manager',\n",
              " 'Digital Marketing Manager',\n",
              " 'Human Resources Manager',\n",
              " 'Customer Success Manager',\n",
              " 'Human Resources Manager',\n",
              " 'Business Development Manager',\n",
              " 'Human Resources Manager',\n",
              " 'Product Manager',\n",
              " 'Project Manager',\n",
              " 'Project Manager',\n",
              " 'Human Resources Manager',\n",
              " 'Digital Marketing Manager',\n",
              " 'Human Resources Manager',\n",
              " 'Business Development Manager',\n",
              " 'Product Manager',\n",
              " 'Human Resources Manager',\n",
              " 'Human Resources Manager',\n",
              " 'Project Manager',\n",
              " 'Digital Marketing Manager',\n",
              " 'Product Manager',\n",
              " 'Customer Success Manager',\n",
              " 'Hotel Manager',\n",
              " 'Operations Manager',\n",
              " 'Hotel Manager',\n",
              " 'Product Manager',\n",
              " 'Project Manager',\n",
              " 'Human Resources Manager',\n",
              " 'Product Manager',\n",
              " 'Operations Manager',\n",
              " 'Project Manager',\n",
              " 'Business Development Manager',\n",
              " 'Product Manager',\n",
              " 'Digital Marketing Manager',\n",
              " 'Operations Manager',\n",
              " 'Digital Marketing Manager',\n",
              " 'Human Resources Manager',\n",
              " 'Hotel Manager',\n",
              " 'Hotel Manager',\n",
              " 'Business Development Manager',\n",
              " 'Human Resources Manager',\n",
              " 'Project Manager',\n",
              " 'Human Resources Manager',\n",
              " 'Digital Marketing Manager',\n",
              " 'Customer Success Manager',\n",
              " 'Customer Success Manager',\n",
              " 'Hotel Manager',\n",
              " 'Business Development Manager',\n",
              " 'Product Manager',\n",
              " 'Project Manager',\n",
              " 'Hotel Manager',\n",
              " 'Business Development Manager',\n",
              " 'Operations Manager',\n",
              " 'Human Resources Manager',\n",
              " 'Customer Success Manager',\n",
              " 'Digital Marketing Manager',\n",
              " 'Product Manager',\n",
              " 'Business Development Manager',\n",
              " 'Digital Marketing Manager',\n",
              " 'Project Manager',\n",
              " 'Customer Success Manager',\n",
              " 'Product Manager',\n",
              " 'Customer Success Manager',\n",
              " 'Operations Manager',\n",
              " 'Digital Marketing Manager',\n",
              " 'Customer Success Manager',\n",
              " 'Customer Success Manager',\n",
              " 'Operations Manager',\n",
              " 'Hotel Manager',\n",
              " 'Project Manager',\n",
              " 'Project Manager',\n",
              " 'Project Manager',\n",
              " 'Product Manager',\n",
              " 'Customer Success Manager',\n",
              " 'Hotel Manager',\n",
              " 'Business Development Manager',\n",
              " 'Hotel Manager',\n",
              " 'Hotel Manager',\n",
              " 'Product Manager',\n",
              " 'Customer Success Manager',\n",
              " 'Digital Marketing Manager',\n",
              " 'Business Development Manager',\n",
              " 'Project Manager',\n",
              " 'Human Resources Manager',\n",
              " 'Digital Marketing Manager',\n",
              " 'Operations Manager',\n",
              " 'Human Resources Manager',\n",
              " 'Human Resources Manager',\n",
              " 'Digital Marketing Manager',\n",
              " 'Digital Marketing Manager',\n",
              " 'Business Development Manager',\n",
              " 'Operations Manager',\n",
              " 'Customer Success Manager',\n",
              " 'Hotel Manager',\n",
              " 'Project Manager',\n",
              " 'Operations Manager',\n",
              " 'Project Manager',\n",
              " 'Customer Success Manager',\n",
              " 'Hotel Manager',\n",
              " 'Human Resources Manager',\n",
              " 'Product Manager',\n",
              " 'Human Resources Manager',\n",
              " 'Product Manager']"
            ]
          },
          "metadata": {},
          "execution_count": 10
        }
      ]
    },
    {
      "cell_type": "code",
      "source": [
        "all_manager = [x for x in dummy_jobs if \"Manager\" in x]\n",
        "all_manager"
      ],
      "metadata": {
        "colab": {
          "base_uri": "https://localhost:8080/"
        },
        "id": "GwsZABttwMR-",
        "outputId": "2b519669-b213-4241-ee9c-c89ecdc592f1"
      },
      "execution_count": null,
      "outputs": [
        {
          "output_type": "execute_result",
          "data": {
            "text/plain": [
              "['Business Development Manager',\n",
              " 'Project Manager',\n",
              " 'Hotel Manager',\n",
              " 'Project Manager',\n",
              " 'Project Manager',\n",
              " 'Project Manager',\n",
              " 'Hotel Manager',\n",
              " 'Digital Marketing Manager',\n",
              " 'Customer Success Manager',\n",
              " 'Operations Manager',\n",
              " 'Hotel Manager',\n",
              " 'Business Development Manager',\n",
              " 'Digital Marketing Manager',\n",
              " 'Project Manager',\n",
              " 'Human Resources Manager',\n",
              " 'Digital Marketing Manager',\n",
              " 'Human Resources Manager',\n",
              " 'Digital Marketing Manager',\n",
              " 'Product Manager',\n",
              " 'Operations Manager',\n",
              " 'Customer Success Manager',\n",
              " 'Digital Marketing Manager',\n",
              " 'Business Development Manager',\n",
              " 'Human Resources Manager',\n",
              " 'Customer Success Manager',\n",
              " 'Digital Marketing Manager',\n",
              " 'Operations Manager',\n",
              " 'Digital Marketing Manager',\n",
              " 'Business Development Manager',\n",
              " 'Digital Marketing Manager',\n",
              " 'Project Manager',\n",
              " 'Digital Marketing Manager',\n",
              " 'Customer Success Manager',\n",
              " 'Operations Manager',\n",
              " 'Human Resources Manager',\n",
              " 'Business Development Manager',\n",
              " 'Hotel Manager',\n",
              " 'Business Development Manager',\n",
              " 'Customer Success Manager',\n",
              " 'Operations Manager',\n",
              " 'Project Manager',\n",
              " 'Project Manager',\n",
              " 'Customer Success Manager',\n",
              " 'Human Resources Manager',\n",
              " 'Operations Manager',\n",
              " 'Operations Manager',\n",
              " 'Product Manager',\n",
              " 'Business Development Manager',\n",
              " 'Operations Manager',\n",
              " 'Operations Manager',\n",
              " 'Digital Marketing Manager',\n",
              " 'Product Manager',\n",
              " 'Human Resources Manager',\n",
              " 'Product Manager',\n",
              " 'Project Manager',\n",
              " 'Business Development Manager',\n",
              " 'Product Manager',\n",
              " 'Operations Manager',\n",
              " 'Hotel Manager',\n",
              " 'Product Manager',\n",
              " 'Hotel Manager',\n",
              " 'Product Manager',\n",
              " 'Business Development Manager',\n",
              " 'Digital Marketing Manager',\n",
              " 'Human Resources Manager',\n",
              " 'Operations Manager',\n",
              " 'Project Manager',\n",
              " 'Human Resources Manager',\n",
              " 'Business Development Manager',\n",
              " 'Product Manager',\n",
              " 'Product Manager',\n",
              " 'Hotel Manager',\n",
              " 'Operations Manager',\n",
              " 'Operations Manager',\n",
              " 'Operations Manager',\n",
              " 'Customer Success Manager',\n",
              " 'Project Manager',\n",
              " 'Business Development Manager',\n",
              " 'Hotel Manager',\n",
              " 'Project Manager',\n",
              " 'Business Development Manager',\n",
              " 'Customer Success Manager',\n",
              " 'Product Manager',\n",
              " 'Project Manager',\n",
              " 'Human Resources Manager',\n",
              " 'Product Manager',\n",
              " 'Operations Manager',\n",
              " 'Business Development Manager',\n",
              " 'Hotel Manager',\n",
              " 'Human Resources Manager',\n",
              " 'Operations Manager',\n",
              " 'Operations Manager',\n",
              " 'Digital Marketing Manager',\n",
              " 'Hotel Manager',\n",
              " 'Digital Marketing Manager',\n",
              " 'Human Resources Manager',\n",
              " 'Customer Success Manager',\n",
              " 'Human Resources Manager',\n",
              " 'Business Development Manager',\n",
              " 'Human Resources Manager',\n",
              " 'Product Manager',\n",
              " 'Project Manager',\n",
              " 'Project Manager',\n",
              " 'Human Resources Manager',\n",
              " 'Digital Marketing Manager',\n",
              " 'Human Resources Manager',\n",
              " 'Business Development Manager',\n",
              " 'Product Manager',\n",
              " 'Human Resources Manager',\n",
              " 'Human Resources Manager',\n",
              " 'Project Manager',\n",
              " 'Digital Marketing Manager',\n",
              " 'Product Manager',\n",
              " 'Customer Success Manager',\n",
              " 'Hotel Manager',\n",
              " 'Operations Manager',\n",
              " 'Hotel Manager',\n",
              " 'Product Manager',\n",
              " 'Project Manager',\n",
              " 'Human Resources Manager',\n",
              " 'Product Manager',\n",
              " 'Operations Manager',\n",
              " 'Project Manager',\n",
              " 'Business Development Manager',\n",
              " 'Product Manager',\n",
              " 'Digital Marketing Manager',\n",
              " 'Operations Manager',\n",
              " 'Digital Marketing Manager',\n",
              " 'Human Resources Manager',\n",
              " 'Hotel Manager',\n",
              " 'Hotel Manager',\n",
              " 'Business Development Manager',\n",
              " 'Human Resources Manager',\n",
              " 'Project Manager',\n",
              " 'Human Resources Manager',\n",
              " 'Digital Marketing Manager',\n",
              " 'Customer Success Manager',\n",
              " 'Customer Success Manager',\n",
              " 'Hotel Manager',\n",
              " 'Business Development Manager',\n",
              " 'Product Manager',\n",
              " 'Project Manager',\n",
              " 'Hotel Manager',\n",
              " 'Business Development Manager',\n",
              " 'Operations Manager',\n",
              " 'Human Resources Manager',\n",
              " 'Customer Success Manager',\n",
              " 'Digital Marketing Manager',\n",
              " 'Product Manager',\n",
              " 'Business Development Manager',\n",
              " 'Digital Marketing Manager',\n",
              " 'Project Manager',\n",
              " 'Customer Success Manager',\n",
              " 'Product Manager',\n",
              " 'Customer Success Manager',\n",
              " 'Operations Manager',\n",
              " 'Digital Marketing Manager',\n",
              " 'Customer Success Manager',\n",
              " 'Customer Success Manager',\n",
              " 'Operations Manager',\n",
              " 'Hotel Manager',\n",
              " 'Project Manager',\n",
              " 'Project Manager',\n",
              " 'Project Manager',\n",
              " 'Product Manager',\n",
              " 'Customer Success Manager',\n",
              " 'Hotel Manager',\n",
              " 'Business Development Manager',\n",
              " 'Hotel Manager',\n",
              " 'Hotel Manager',\n",
              " 'Product Manager',\n",
              " 'Customer Success Manager',\n",
              " 'Digital Marketing Manager',\n",
              " 'Business Development Manager',\n",
              " 'Project Manager',\n",
              " 'Human Resources Manager',\n",
              " 'Digital Marketing Manager',\n",
              " 'Operations Manager',\n",
              " 'Human Resources Manager',\n",
              " 'Human Resources Manager',\n",
              " 'Digital Marketing Manager',\n",
              " 'Digital Marketing Manager',\n",
              " 'Business Development Manager',\n",
              " 'Operations Manager',\n",
              " 'Customer Success Manager',\n",
              " 'Hotel Manager',\n",
              " 'Project Manager',\n",
              " 'Operations Manager',\n",
              " 'Project Manager',\n",
              " 'Customer Success Manager',\n",
              " 'Hotel Manager',\n",
              " 'Human Resources Manager',\n",
              " 'Product Manager',\n",
              " 'Human Resources Manager',\n",
              " 'Product Manager']"
            ]
          },
          "metadata": {},
          "execution_count": 11
        }
      ]
    },
    {
      "cell_type": "code",
      "source": [
        "# Define data science job roles and required skills\n",
        "job_roles = [\n",
        "    {'role': 'Data Analyst', 'skills': ['Python', 'SQL', 'Excel']},\n",
        "    {'role': 'Data Scientist', 'skills': ['Python', 'R', 'Machine Learning', 'Deep Learning']},\n",
        "    {'role': 'Machine Learning Engineer', 'skills': ['Python', 'TensorFlow', 'PyTorch', 'Scikit-Learn']},\n",
        "    {'role': 'Data Engineer', 'skills': ['Python', 'Apache Spark', 'Hadoop', 'SQL']},\n",
        "    {'role': 'Business Intelligence Analyst', 'skills': ['Python', 'SQL', 'Tableau', 'Power BI', 'Excel']},\n",
        "    {'role': 'Quantitative Analyst', 'skills': ['R', 'Python', 'MATLAB', 'Statistics']},\n",
        "    {'role': 'Operations Analyst', 'skills': ['Python', 'SQL', 'Data Visualization', 'Process Improvement']},\n",
        "    {'role': 'Database Administrator', 'skills': ['SQL', 'Oracle', 'MySQL', 'Database Management']},\n",
        "    {'role': 'AI Engineer', 'skills': ['Python', 'TensorFlow', 'PyTorch', 'Computer Vision']},\n",
        "    {'role': 'Statistician', 'skills': ['R', 'SAS', 'Python', 'Statistical Modeling']}\n",
        "]"
      ],
      "metadata": {
        "id": "vFLla0LZwo0O"
      },
      "execution_count": null,
      "outputs": []
    },
    {
      "cell_type": "code",
      "source": [
        "job_roles"
      ],
      "metadata": {
        "colab": {
          "base_uri": "https://localhost:8080/"
        },
        "id": "isujGV6KywuG",
        "outputId": "71b7a262-4ac4-4224-c653-9a9589d38c91"
      },
      "execution_count": null,
      "outputs": [
        {
          "output_type": "execute_result",
          "data": {
            "text/plain": [
              "[{'role': 'Data Analyst', 'skills': ['Python', 'SQL', 'Excel']},\n",
              " {'role': 'Data Scientist',\n",
              "  'skills': ['Python', 'R', 'Machine Learning', 'Deep Learning']},\n",
              " {'role': 'Machine Learning Engineer',\n",
              "  'skills': ['Python', 'TensorFlow', 'PyTorch', 'Scikit-Learn']},\n",
              " {'role': 'Data Engineer',\n",
              "  'skills': ['Python', 'Apache Spark', 'Hadoop', 'SQL']},\n",
              " {'role': 'Business Intelligence Analyst',\n",
              "  'skills': ['Python', 'SQL', 'Tableau', 'Power BI', 'Excel']},\n",
              " {'role': 'Quantitative Analyst',\n",
              "  'skills': ['R', 'Python', 'MATLAB', 'Statistics']},\n",
              " {'role': 'Operations Analyst',\n",
              "  'skills': ['Python', 'SQL', 'Data Visualization', 'Process Improvement']},\n",
              " {'role': 'Database Administrator',\n",
              "  'skills': ['SQL', 'Oracle', 'MySQL', 'Database Management']},\n",
              " {'role': 'AI Engineer',\n",
              "  'skills': ['Python', 'TensorFlow', 'PyTorch', 'Computer Vision']},\n",
              " {'role': 'Statistician',\n",
              "  'skills': ['R', 'SAS', 'Python', 'Statistical Modeling']}]"
            ]
          },
          "metadata": {},
          "execution_count": 13
        }
      ]
    },
    {
      "cell_type": "code",
      "source": [
        "My_skill = ['Python', 'SQL', 'Excel']\n",
        "Ml_skill = ['Python', 'Deep Learning', 'Machine Learning']\n",
        "De_skill = ['Python', 'SQL', 'Apache Spark']"
      ],
      "metadata": {
        "id": "80CWC331_46M"
      },
      "execution_count": null,
      "outputs": []
    },
    {
      "cell_type": "code",
      "source": [
        "### Pick up the qualified peoples who matches My_skills requirements.\n",
        "\n",
        "qualified_roles = []\n",
        "for job in job_roles:\n",
        "  qualified = True\n",
        "\n",
        "  for skill in My_skill:\n",
        "    if skill not in job[\"skills\"]:\n",
        "      qualified = False\n",
        "      break\n",
        "  if qualified is True:\n",
        "    qualified_roles.append(job[\"role\"])\n",
        "\n",
        "qualified_roles"
      ],
      "metadata": {
        "id": "JHxVNWDAy8B0",
        "colab": {
          "base_uri": "https://localhost:8080/"
        },
        "outputId": "406f5c77-c2ff-4784-aad4-2fffbd3172af"
      },
      "execution_count": null,
      "outputs": [
        {
          "output_type": "execute_result",
          "data": {
            "text/plain": [
              "['Data Analyst', 'Business Intelligence Analyst']"
            ]
          },
          "metadata": {},
          "execution_count": 43
        }
      ]
    },
    {
      "cell_type": "code",
      "source": [
        "### Pick up the qualified peoples who matches Ml_skills requirements.\n",
        "qualified_roles = []\n",
        "\n",
        "for job in job_roles:\n",
        "  qualified = True\n",
        "\n",
        "  for skill in Ml_skill:\n",
        "    if skill not in job[\"skills\"]:\n",
        "      qualified = False\n",
        "      break\n",
        "  if qualified is True:\n",
        "    qualified_roles.append(job[\"role\"])\n",
        "\n",
        "qualified_roles"
      ],
      "metadata": {
        "colab": {
          "base_uri": "https://localhost:8080/"
        },
        "id": "TJPyjjur_y_i",
        "outputId": "e9cf74a9-2262-4e71-b9a2-926c60cd8a3f"
      },
      "execution_count": null,
      "outputs": [
        {
          "output_type": "execute_result",
          "data": {
            "text/plain": [
              "['Data Scientist']"
            ]
          },
          "metadata": {},
          "execution_count": 44
        }
      ]
    },
    {
      "cell_type": "code",
      "source": [
        " ### Pick up the qualified peoples who matches Data_Engineering_skill requirements.\n",
        "qualified_role = []\n",
        "\n",
        "for job in job_roles:\n",
        "  qualified = True\n",
        "\n",
        "  for skill in De_skill:\n",
        "    if skill not in job['skills']:\n",
        "      qualified = False\n",
        "      break\n",
        "\n",
        "  if qualified is True:\n",
        "    qualified_role.append(job['role'])\n",
        "qualified_role"
      ],
      "metadata": {
        "colab": {
          "base_uri": "https://localhost:8080/"
        },
        "id": "UHTB4MxaHUH4",
        "outputId": "c3322cbb-65b1-42c5-c96c-102531f3c5bd"
      },
      "execution_count": null,
      "outputs": [
        {
          "output_type": "execute_result",
          "data": {
            "text/plain": [
              "['Data Engineer']"
            ]
          },
          "metadata": {},
          "execution_count": 48
        }
      ]
    },
    {
      "cell_type": "code",
      "source": [],
      "metadata": {
        "id": "FrEkIoa8Jhgo"
      },
      "execution_count": null,
      "outputs": []
    }
  ]
}