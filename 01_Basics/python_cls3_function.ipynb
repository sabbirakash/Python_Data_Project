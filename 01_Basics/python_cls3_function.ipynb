{
  "nbformat": 4,
  "nbformat_minor": 0,
  "metadata": {
    "colab": {
      "provenance": []
    },
    "kernelspec": {
      "name": "python3",
      "display_name": "Python 3"
    },
    "language_info": {
      "name": "python"
    }
  },
  "cells": [
    {
      "cell_type": "markdown",
      "source": [
        "### User Defined Functions"
      ],
      "metadata": {
        "id": "08beg7ty2I-J"
      }
    },
    {
      "cell_type": "code",
      "execution_count": null,
      "metadata": {
        "id": "A1miWLnl17jd"
      },
      "outputs": [],
      "source": [
        "def calculate_salary(base_salary, bonus):\n",
        "  total_salary = base_salary*(1+bonus)\n",
        "  return total_salary"
      ]
    },
    {
      "cell_type": "code",
      "source": [
        "calculate_salary(15000,0.25)"
      ],
      "metadata": {
        "colab": {
          "base_uri": "https://localhost:8080/"
        },
        "id": "Lh_6wamq2gCf",
        "outputId": "f54d5cb2-9116-45b0-f6f3-aa270d8ea595"
      },
      "execution_count": null,
      "outputs": [
        {
          "output_type": "execute_result",
          "data": {
            "text/plain": [
              "18750.0"
            ]
          },
          "metadata": {},
          "execution_count": 2
        }
      ]
    },
    {
      "cell_type": "code",
      "source": [
        "def avg():\n",
        "  a = int(input(\"Enter your number : \"))\n",
        "  b = int(input(\"Enter your number : \"))\n",
        "  c = int(input(\"Enter your number : \"))\n",
        "  print((a+b+c)/3)"
      ],
      "metadata": {
        "id": "BYAom62z2pjz"
      },
      "execution_count": null,
      "outputs": []
    },
    {
      "cell_type": "code",
      "source": [
        "avg()\n",
        "avg()\n",
        "avg()"
      ],
      "metadata": {
        "colab": {
          "base_uri": "https://localhost:8080/"
        },
        "id": "91Wq1Nli50FM",
        "outputId": "4e7084ef-6b64-43b0-d3ef-9ae466592bcd"
      },
      "execution_count": null,
      "outputs": [
        {
          "output_type": "stream",
          "name": "stdout",
          "text": [
            "Enter your number : 5\n",
            "Enter your number : 4\n",
            "Enter your number : 5\n",
            "4.666666666666667\n",
            "Enter your number : 22\n",
            "Enter your number : 33\n",
            "Enter your number : 44\n",
            "33.0\n",
            "Enter your number : 55\n",
            "Enter your number : 66\n",
            "Enter your number : 55\n",
            "58.666666666666664\n"
          ]
        }
      ]
    },
    {
      "cell_type": "code",
      "source": [
        "def greet():\n",
        "  user_name = input(\"What is your name?\\n\")\n",
        "  print(\"Good day\" ,user_name)"
      ],
      "metadata": {
        "id": "KV14n6PH52kb"
      },
      "execution_count": null,
      "outputs": []
    },
    {
      "cell_type": "code",
      "source": [
        "greet()"
      ],
      "metadata": {
        "colab": {
          "base_uri": "https://localhost:8080/"
        },
        "id": "7gusjC9aZIqt",
        "outputId": "0d70735d-2338-4bf3-bb08-128e62400a40"
      },
      "execution_count": null,
      "outputs": [
        {
          "output_type": "stream",
          "name": "stdout",
          "text": [
            "What is your name?\n",
            "jnsadhn\n",
            "Good day jnsadhn\n"
          ]
        }
      ]
    },
    {
      "cell_type": "code",
      "source": [
        "def greet_1(name, ending):\n",
        "  print(\"Good Day, \"+name)\n",
        "  print(ending)"
      ],
      "metadata": {
        "id": "nl2nGri4ZKA7"
      },
      "execution_count": null,
      "outputs": []
    },
    {
      "cell_type": "code",
      "source": [
        "a = greet_1(\"Sabbir\", \"Thanks\")\n",
        "print(a)"
      ],
      "metadata": {
        "colab": {
          "base_uri": "https://localhost:8080/"
        },
        "id": "vMuThmWpaTY7",
        "outputId": "1c2bae70-4468-4934-ba89-cc51dbb64071"
      },
      "execution_count": null,
      "outputs": [
        {
          "output_type": "stream",
          "name": "stdout",
          "text": [
            "Good Day, Sabbir\n",
            "Thanks\n",
            "None\n"
          ]
        }
      ]
    },
    {
      "cell_type": "code",
      "source": [
        "greet_1(\"Abs\", \"You are awesome\")"
      ],
      "metadata": {
        "colab": {
          "base_uri": "https://localhost:8080/"
        },
        "id": "LHfDoCuaaVMS",
        "outputId": "09bc9b19-965f-4b4b-c3c1-fab4073b7d02"
      },
      "execution_count": null,
      "outputs": [
        {
          "output_type": "stream",
          "name": "stdout",
          "text": [
            "Good Day, Abs\n",
            "You are awesome\n"
          ]
        }
      ]
    },
    {
      "cell_type": "code",
      "source": [
        "def wish_1(name):\n",
        "  gr = \"Good Day \"+name\n",
        "  return gr"
      ],
      "metadata": {
        "id": "Vi9LVkj5acO7"
      },
      "execution_count": null,
      "outputs": []
    },
    {
      "cell_type": "code",
      "source": [
        "c = wish_1(\"Sabbir\")"
      ],
      "metadata": {
        "id": "tDqUO67Zee3B"
      },
      "execution_count": null,
      "outputs": []
    },
    {
      "cell_type": "code",
      "source": [
        "c"
      ],
      "metadata": {
        "colab": {
          "base_uri": "https://localhost:8080/",
          "height": 36
        },
        "id": "cBu_acl9ei3j",
        "outputId": "2253f1dc-547f-474a-dd4b-34377b83adcd"
      },
      "execution_count": null,
      "outputs": [
        {
          "output_type": "execute_result",
          "data": {
            "text/plain": [
              "'Good Day Sabbir'"
            ],
            "application/vnd.google.colaboratory.intrinsic+json": {
              "type": "string"
            }
          },
          "metadata": {},
          "execution_count": 12
        }
      ]
    },
    {
      "cell_type": "code",
      "source": [
        "def ac(name):\n",
        "  ttt = \"Hi \"+name\n",
        "  print(ttt)\n",
        "  return 7"
      ],
      "metadata": {
        "id": "NiLJdei6emST"
      },
      "execution_count": null,
      "outputs": []
    },
    {
      "cell_type": "code",
      "source": [
        "o = ac(\"Abs\")\n",
        "print(o)"
      ],
      "metadata": {
        "colab": {
          "base_uri": "https://localhost:8080/"
        },
        "id": "5qQ1v0AKgOCy",
        "outputId": "23de280f-1e68-498a-cc1d-f3fa8a2bea7a"
      },
      "execution_count": null,
      "outputs": [
        {
          "output_type": "stream",
          "name": "stdout",
          "text": [
            "Hi Abs\n",
            "7\n"
          ]
        }
      ]
    },
    {
      "cell_type": "code",
      "source": [
        "def greeting(name, ending = \"Thank you.\"):\n",
        "  return name+\" \"+ending"
      ],
      "metadata": {
        "id": "TJqTdj4jgPWR"
      },
      "execution_count": null,
      "outputs": []
    },
    {
      "cell_type": "code",
      "source": [
        "w = greeting(\"Sabbir\", \"Good Bye\")"
      ],
      "metadata": {
        "id": "8O4CP4afFf87"
      },
      "execution_count": null,
      "outputs": []
    },
    {
      "cell_type": "code",
      "source": [
        "w"
      ],
      "metadata": {
        "colab": {
          "base_uri": "https://localhost:8080/",
          "height": 36
        },
        "id": "yEFHw5qIFiGw",
        "outputId": "86268b26-fc88-4569-95c5-9af4891a2188"
      },
      "execution_count": null,
      "outputs": [
        {
          "output_type": "execute_result",
          "data": {
            "text/plain": [
              "'Sabbir Good Bye'"
            ],
            "application/vnd.google.colaboratory.intrinsic+json": {
              "type": "string"
            }
          },
          "metadata": {},
          "execution_count": 17
        }
      ]
    },
    {
      "cell_type": "code",
      "source": [
        "def greetings(name, ending = \"Thank you.\"):\n",
        "  print(name+\" \"+ending)"
      ],
      "metadata": {
        "id": "fYCZA8tAGVyj"
      },
      "execution_count": null,
      "outputs": []
    },
    {
      "cell_type": "code",
      "source": [
        "x = print(greetings(\"Abs\"))\n",
        "x"
      ],
      "metadata": {
        "colab": {
          "base_uri": "https://localhost:8080/"
        },
        "id": "0IRVEC6CGcSt",
        "outputId": "8062c8a6-1330-48b6-e32d-c5b2ba6d0a25"
      },
      "execution_count": null,
      "outputs": [
        {
          "output_type": "stream",
          "name": "stdout",
          "text": [
            "Abs Thank you.\n",
            "None\n"
          ]
        }
      ]
    },
    {
      "cell_type": "code",
      "source": [
        "x"
      ],
      "metadata": {
        "id": "6Nqu69P8GgVK"
      },
      "execution_count": null,
      "outputs": []
    },
    {
      "cell_type": "markdown",
      "source": [
        "## Recursion"
      ],
      "metadata": {
        "id": "Y3BoQR5pOI12"
      }
    },
    {
      "cell_type": "code",
      "source": [
        "def factorial(n):\n",
        "  if (n == 0 or n == 1):\n",
        "    return 1\n",
        "  return n * factorial(n-1)"
      ],
      "metadata": {
        "id": "4FUCT4ViGjhR"
      },
      "execution_count": null,
      "outputs": []
    },
    {
      "cell_type": "code",
      "source": [
        "factorial(4)"
      ],
      "metadata": {
        "colab": {
          "base_uri": "https://localhost:8080/"
        },
        "id": "H5UAOqKMOAtu",
        "outputId": "73d4d6b5-d404-49fb-ef06-af176e69b93e"
      },
      "execution_count": null,
      "outputs": [
        {
          "output_type": "execute_result",
          "data": {
            "text/plain": [
              "24"
            ]
          },
          "metadata": {},
          "execution_count": 22
        }
      ]
    },
    {
      "cell_type": "markdown",
      "source": [
        "**Functions & Recursions Practice Set**"
      ],
      "metadata": {
        "id": "vTyGL_0IO8pG"
      }
    },
    {
      "cell_type": "code",
      "source": [
        "# Q1 : Write a program using functions to find greatest of three numbers.\n",
        "def big_num(a,b,c):\n",
        "  if (a>b and a>c):\n",
        "    return a, \" is the biggest number.\"\n",
        "  elif (b>c and b>a):\n",
        "    return b, \" is the biggest number.\"\n",
        "  elif (c>a and c>b):\n",
        "    return c, \" is the biggest number.\"\n",
        "  else:\n",
        "    return \"Biggest numbers are same.\""
      ],
      "metadata": {
        "id": "NcFsGahfOCgm"
      },
      "execution_count": null,
      "outputs": []
    },
    {
      "cell_type": "code",
      "source": [
        "a = big_num(-99,103,103)\n",
        "print(a)"
      ],
      "metadata": {
        "colab": {
          "base_uri": "https://localhost:8080/"
        },
        "id": "P-M8A8A8ZTyF",
        "outputId": "83e30437-c571-48d5-a645-d63a792de125"
      },
      "execution_count": null,
      "outputs": [
        {
          "output_type": "stream",
          "name": "stdout",
          "text": [
            "Biggest numbers are same.\n"
          ]
        }
      ]
    },
    {
      "cell_type": "code",
      "source": [
        "# Q2 : Write a python program using functions to convert Celsius to Fahrenheit.\n",
        "def f_to_c(f):\n",
        "  return print(f\"{round((5*(f-32)/9),2)}°C\")"
      ],
      "metadata": {
        "id": "rIPoZHvsPZgG"
      },
      "execution_count": null,
      "outputs": []
    },
    {
      "cell_type": "code",
      "source": [
        "f_to_c(156)"
      ],
      "metadata": {
        "colab": {
          "base_uri": "https://localhost:8080/"
        },
        "id": "9rLPeZkDjOhV",
        "outputId": "1db46c3b-7fb6-411e-b5ed-5a60123c1fe2"
      },
      "execution_count": null,
      "outputs": [
        {
          "output_type": "stream",
          "name": "stdout",
          "text": [
            "68.89°C\n"
          ]
        }
      ]
    },
    {
      "cell_type": "code",
      "source": [
        "# Q3 : How do you prevent a python print() function to print a new line at the end.\n",
        "print(\"a\")\n",
        "print(\"b\")\n",
        "print(\"c\", end = \"\")\n",
        "print(\"d\", end = \"\")"
      ],
      "metadata": {
        "colab": {
          "base_uri": "https://localhost:8080/"
        },
        "id": "2MI8HYmjPju-",
        "outputId": "fd9dbb4e-3d39-4e5f-f481-28c1c63279f2"
      },
      "execution_count": null,
      "outputs": [
        {
          "output_type": "stream",
          "name": "stdout",
          "text": [
            "a\n",
            "b\n",
            "cd"
          ]
        }
      ]
    },
    {
      "cell_type": "code",
      "source": [
        "# Q4 : Write a recursive function to calculate the sum of first n natural numbers.\n",
        "def cal(n):\n",
        "  if (n == 1):\n",
        "    return 1\n",
        "  return cal(n-1)+n"
      ],
      "metadata": {
        "id": "qTIRpp95Ps7-"
      },
      "execution_count": null,
      "outputs": []
    },
    {
      "cell_type": "code",
      "source": [
        "cal(5)"
      ],
      "metadata": {
        "colab": {
          "base_uri": "https://localhost:8080/"
        },
        "id": "xFC39PwjoI4r",
        "outputId": "4bcfe73a-088e-4b52-a796-5175527ed855"
      },
      "execution_count": null,
      "outputs": [
        {
          "output_type": "execute_result",
          "data": {
            "text/plain": [
              "15"
            ]
          },
          "metadata": {},
          "execution_count": 29
        }
      ]
    },
    {
      "cell_type": "code",
      "source": [
        "## Same answer with while loop\n",
        "num = int(input(\"Enter your number : \"))\n",
        "sum = 0\n",
        "i = 1\n",
        "while (i<=num):\n",
        "  sum = sum + i\n",
        "  i += 1\n",
        "print(sum)"
      ],
      "metadata": {
        "colab": {
          "base_uri": "https://localhost:8080/"
        },
        "id": "GoT5HlQBpzE5",
        "outputId": "0c9ae74a-f710-4e84-d4f0-1a3c9bfef7dd"
      },
      "execution_count": null,
      "outputs": [
        {
          "output_type": "stream",
          "name": "stdout",
          "text": [
            "Enter your number : 12\n",
            "78\n"
          ]
        }
      ]
    },
    {
      "cell_type": "code",
      "source": [
        "# Q5 : Write a python function to print first n lines of the following pattern:\n",
        "# ***\n",
        "# **    for n=3\n",
        "# *\n",
        "def pattern(n):\n",
        "  if (n == 0):\n",
        "    return\n",
        "  print(\"*\" * n)\n",
        "  pattern(n-1)"
      ],
      "metadata": {
        "id": "Q6asATRIP3Dm"
      },
      "execution_count": null,
      "outputs": []
    },
    {
      "cell_type": "code",
      "source": [
        "pattern(3)"
      ],
      "metadata": {
        "colab": {
          "base_uri": "https://localhost:8080/"
        },
        "id": "5ntNgNe7hW9n",
        "outputId": "c425c896-0bce-4cae-b5f8-46e5d7d58203"
      },
      "execution_count": null,
      "outputs": [
        {
          "output_type": "stream",
          "name": "stdout",
          "text": [
            "***\n",
            "**\n",
            "*\n"
          ]
        }
      ]
    },
    {
      "cell_type": "code",
      "source": [
        "# Q6 : Write a python function which converts inches to cms.\n",
        "def i_to_c(n):\n",
        "  return print(f\"{n}inches = {n*2.54}cm\")"
      ],
      "metadata": {
        "id": "dKjvRbIfQJzW"
      },
      "execution_count": null,
      "outputs": []
    },
    {
      "cell_type": "code",
      "source": [
        "i_to_c(12)"
      ],
      "metadata": {
        "colab": {
          "base_uri": "https://localhost:8080/"
        },
        "id": "xLKJtDGRlnWs",
        "outputId": "adeab0f8-d604-4841-8f5b-859dd6664654"
      },
      "execution_count": null,
      "outputs": [
        {
          "output_type": "stream",
          "name": "stdout",
          "text": [
            "12inches = 30.48cm\n"
          ]
        }
      ]
    },
    {
      "cell_type": "code",
      "source": [
        "# Q7 : Write a python function to remove a given word from a list and strip it at the same time.\n",
        "name_list = [\"Sabbir\", \"Akash\", \"Saima\", \"Morsel\", \"Naima\", \"Shuvo\", \"Porosh\"]\n",
        "def check(name):\n",
        "  n = []\n",
        "  for items in name_list:\n",
        "    if not(items == name):\n",
        "      n.append(items.strip(name))\n",
        "  return n"
      ],
      "metadata": {
        "id": "iiWiuU2HQSk2"
      },
      "execution_count": null,
      "outputs": []
    },
    {
      "cell_type": "code",
      "source": [
        "check(\"S\")"
      ],
      "metadata": {
        "colab": {
          "base_uri": "https://localhost:8080/"
        },
        "id": "rLqYA5j-qC8N",
        "outputId": "11e649dc-b048-4873-92d5-1a5adb1e3ea4"
      },
      "execution_count": null,
      "outputs": [
        {
          "output_type": "execute_result",
          "data": {
            "text/plain": [
              "['abbir', 'Akash', 'aima', 'Morsel', 'Naima', 'huvo', 'Porosh']"
            ]
          },
          "metadata": {},
          "execution_count": 36
        }
      ]
    },
    {
      "cell_type": "code",
      "source": [
        "# Q8 : Write a python function to print multiplication table of a given number.\n",
        "def mul(n):\n",
        "  for i in range(11):\n",
        "    if (i == 0):\n",
        "      continue\n",
        "    print(f\"{n} X {i} = {i * n}\")"
      ],
      "metadata": {
        "id": "b3dxM0gLQdF-"
      },
      "execution_count": null,
      "outputs": []
    },
    {
      "cell_type": "code",
      "source": [
        "mul(16)"
      ],
      "metadata": {
        "id": "h9sSfCoyQk1-",
        "colab": {
          "base_uri": "https://localhost:8080/"
        },
        "outputId": "ff970f29-2393-4879-97a4-fb369f00f6eb"
      },
      "execution_count": null,
      "outputs": [
        {
          "output_type": "stream",
          "name": "stdout",
          "text": [
            "16 X 1 = 16\n",
            "16 X 2 = 32\n",
            "16 X 3 = 48\n",
            "16 X 4 = 64\n",
            "16 X 5 = 80\n",
            "16 X 6 = 96\n",
            "16 X 7 = 112\n",
            "16 X 8 = 128\n",
            "16 X 9 = 144\n",
            "16 X 10 = 160\n"
          ]
        }
      ]
    },
    {
      "cell_type": "code",
      "source": [
        "# Q8 : Write a function to calculate and return the square of a number.\n",
        "def number(num):\n",
        "  return num**2\n"
      ],
      "metadata": {
        "id": "yZ0MUXvvaLGS"
      },
      "execution_count": null,
      "outputs": []
    },
    {
      "cell_type": "code",
      "source": [
        "number(-3)"
      ],
      "metadata": {
        "colab": {
          "base_uri": "https://localhost:8080/"
        },
        "id": "3ENMyXnBbZUF",
        "outputId": "d4b21555-8e1c-4f5e-df48-1cd6f422dc0d"
      },
      "execution_count": null,
      "outputs": [
        {
          "output_type": "execute_result",
          "data": {
            "text/plain": [
              "9"
            ]
          },
          "metadata": {},
          "execution_count": 40
        }
      ]
    },
    {
      "cell_type": "code",
      "source": [
        "# Q9 : Create a function that takes two numbers as parameters and returns their sum.\n",
        "def sum(n1, n2):\n",
        "  return n1+n2"
      ],
      "metadata": {
        "id": "Mr7h5EOAbad9"
      },
      "execution_count": null,
      "outputs": []
    },
    {
      "cell_type": "code",
      "source": [
        "sum(2,6)"
      ],
      "metadata": {
        "colab": {
          "base_uri": "https://localhost:8080/"
        },
        "id": "urDMAOFfc4Ol",
        "outputId": "36e009d5-a2da-440f-e4af-cfde17076982"
      },
      "execution_count": null,
      "outputs": [
        {
          "output_type": "execute_result",
          "data": {
            "text/plain": [
              "8"
            ]
          },
          "metadata": {},
          "execution_count": 42
        }
      ]
    },
    {
      "cell_type": "code",
      "source": [
        "# Q10 : Write a function multiply that multiplies two numbers, but can also accept and multiply strings.\n",
        "def multiply(n1, n2):\n",
        "  a = n1 * n2\n",
        "  return a\n"
      ],
      "metadata": {
        "id": "kL5QFDrWc6SV"
      },
      "execution_count": null,
      "outputs": []
    },
    {
      "cell_type": "code",
      "source": [
        "x = multiply(\"Abs\", 3)\n",
        "y = multiply(5, 9)\n",
        "print(x, y)"
      ],
      "metadata": {
        "colab": {
          "base_uri": "https://localhost:8080/"
        },
        "id": "skm2oF_cdnVx",
        "outputId": "546270ad-73c2-4bf6-b1cf-5742508e31c7"
      },
      "execution_count": null,
      "outputs": [
        {
          "output_type": "stream",
          "name": "stdout",
          "text": [
            "AbsAbsAbs 45\n"
          ]
        }
      ]
    },
    {
      "cell_type": "code",
      "source": [
        "# Q11 : Create a function that rerurns area and circumference of a circle given its radius.\n",
        "import math\n",
        "\n",
        "def circle(r):\n",
        "  area = math.pi * (r**2)\n",
        "  circumference = 2 * math.pi * r\n",
        "  return f\"The area of this circle is = {area} sq unit, The circumference of this circle is = {circumference} unit\""
      ],
      "metadata": {
        "id": "TCSHCK0FeC72"
      },
      "execution_count": null,
      "outputs": []
    },
    {
      "cell_type": "code",
      "source": [
        "circle(3)"
      ],
      "metadata": {
        "colab": {
          "base_uri": "https://localhost:8080/",
          "height": 36
        },
        "id": "Yx7nCJk5dpu1",
        "outputId": "850db00b-88b0-49d6-b687-8e4390a159fb"
      },
      "execution_count": null,
      "outputs": [
        {
          "output_type": "execute_result",
          "data": {
            "text/plain": [
              "'The area of this circle is = 28.274333882308138 sq unit, The circumference of this circle is = 18.84955592153876 unit'"
            ],
            "application/vnd.google.colaboratory.intrinsic+json": {
              "type": "string"
            }
          },
          "metadata": {},
          "execution_count": 46
        }
      ]
    },
    {
      "cell_type": "code",
      "source": [
        "# Q12 : Write a function that greet a user. If no name is provided, it should greet with a default name.\n",
        "def greet(name = \"Abs\"):\n",
        "  return \"Hello\"+\" \"+name+\", What's up?\""
      ],
      "metadata": {
        "id": "_e2oBN83fRjS"
      },
      "execution_count": null,
      "outputs": []
    },
    {
      "cell_type": "code",
      "source": [
        "print(greet(\"Sabbir\"))"
      ],
      "metadata": {
        "colab": {
          "base_uri": "https://localhost:8080/"
        },
        "id": "n9gqYBozySi3",
        "outputId": "470c325f-cdec-4f1d-b75e-6346ff77ede5"
      },
      "execution_count": null,
      "outputs": [
        {
          "output_type": "stream",
          "name": "stdout",
          "text": [
            "Hello Sabbir, What's up?\n"
          ]
        }
      ]
    },
    {
      "cell_type": "code",
      "source": [
        "# Q13 : Create a Lambda function to compute the cube of a number.\n",
        "cube = lambda x: x**3"
      ],
      "metadata": {
        "id": "-MTB5CF5yTst"
      },
      "execution_count": null,
      "outputs": []
    },
    {
      "cell_type": "code",
      "source": [
        "cube(5)"
      ],
      "metadata": {
        "colab": {
          "base_uri": "https://localhost:8080/"
        },
        "id": "3RPauRki1XMo",
        "outputId": "82f60a31-e4ab-4eb9-b619-1e8ef2bac25e"
      },
      "execution_count": null,
      "outputs": [
        {
          "output_type": "execute_result",
          "data": {
            "text/plain": [
              "125"
            ]
          },
          "metadata": {},
          "execution_count": 50
        }
      ]
    },
    {
      "cell_type": "code",
      "source": [
        "# Q14 : Write functions that takes variable number of arguments and return their sum.\n",
        "del sum\n",
        "def sum_all(*args):\n",
        "  print(args)\n",
        "  for i in args:\n",
        "    print(i * 2)\n",
        "  return sum(args)\n",
        "\n",
        "print(sum_all(1, 2, 3, 65))\n"
      ],
      "metadata": {
        "colab": {
          "base_uri": "https://localhost:8080/"
        },
        "id": "G0HHJbR63Yzu",
        "outputId": "6cdd2f10-3eda-4f7c-d7b3-ef5636d9e99b"
      },
      "execution_count": null,
      "outputs": [
        {
          "output_type": "stream",
          "name": "stdout",
          "text": [
            "(1, 2, 3, 65)\n",
            "2\n",
            "4\n",
            "6\n",
            "130\n",
            "71\n"
          ]
        }
      ]
    },
    {
      "cell_type": "code",
      "source": [
        "# Q15 : Create a function that accepts any number of keyword arguments and prints them in the format key: value\n",
        "def print_kwargs(**kwargs):\n",
        "  for key, value in kwargs.items():\n",
        "    print(f\"{key} : {value}\")"
      ],
      "metadata": {
        "id": "Lsu1GaH65J5e"
      },
      "execution_count": null,
      "outputs": []
    },
    {
      "cell_type": "code",
      "source": [
        "print_kwargs(name = \"Saktimaan\", power = \"Fly\")\n",
        "print_kwargs(name = \"Saktimaan\")\n",
        "print_kwargs(power = \"Fly\", enemy = \"Karma\")\n",
        "print_kwargs(name = \"Saktimaan\", power = \"Fly\", enemy = \"Karma\")"
      ],
      "metadata": {
        "colab": {
          "base_uri": "https://localhost:8080/"
        },
        "id": "OO4tVRLUA6sQ",
        "outputId": "4c111a32-a151-4491-cbe0-2e5be3c0da71"
      },
      "execution_count": null,
      "outputs": [
        {
          "output_type": "stream",
          "name": "stdout",
          "text": [
            "name : Saktimaan\n",
            "power : Fly\n",
            "name : Saktimaan\n",
            "power : Fly\n",
            "enemy : Karma\n",
            "name : Saktimaan\n",
            "power : Fly\n",
            "enemy : Karma\n"
          ]
        }
      ]
    },
    {
      "cell_type": "code",
      "source": [
        "# Q16 : Write a generator function that yields even number up to a specific limit.\n",
        "def even_generator(limit):\n",
        "  for i in range(2, limit+1, 2):\n",
        "    yield i\n",
        "\n",
        "for i in even_generator(20):\n",
        "  print(i)"
      ],
      "metadata": {
        "colab": {
          "base_uri": "https://localhost:8080/"
        },
        "id": "A_2aiRY6yhuz",
        "outputId": "a544c6ad-0cd1-4518-e348-f8a337e66073"
      },
      "execution_count": null,
      "outputs": [
        {
          "output_type": "stream",
          "name": "stdout",
          "text": [
            "2\n",
            "4\n",
            "6\n",
            "8\n",
            "10\n",
            "12\n",
            "14\n",
            "16\n",
            "18\n",
            "20\n"
          ]
        }
      ]
    },
    {
      "cell_type": "code",
      "source": [
        "# Q17 : Create a recursive function to calculate the factorial of a number.\n",
        "def facto(num):\n",
        "  if (num == 1 or num == 0):\n",
        "    return 1\n",
        "  return (num * facto(num-1))"
      ],
      "metadata": {
        "id": "eqgUx-n62uWU"
      },
      "execution_count": null,
      "outputs": []
    },
    {
      "cell_type": "code",
      "source": [
        "facto(3)"
      ],
      "metadata": {
        "colab": {
          "base_uri": "https://localhost:8080/"
        },
        "id": "fQPRu-WS7bRz",
        "outputId": "9ace9fd6-744e-43b0-d526-8cda611c5edd"
      },
      "execution_count": null,
      "outputs": [
        {
          "output_type": "execute_result",
          "data": {
            "text/plain": [
              "6"
            ]
          },
          "metadata": {},
          "execution_count": 56
        }
      ]
    },
    {
      "cell_type": "markdown",
      "source": [
        "**Lambda Function**"
      ],
      "metadata": {
        "id": "uKG83gJI_QrQ"
      }
    },
    {
      "cell_type": "code",
      "source": [
        "a = lambda x : x**2\n",
        "a(2)"
      ],
      "metadata": {
        "colab": {
          "base_uri": "https://localhost:8080/"
        },
        "id": "xxD6sgL27cN8",
        "outputId": "22769df0-3d66-479c-ccbf-da9b468fde8b"
      },
      "execution_count": null,
      "outputs": [
        {
          "output_type": "execute_result",
          "data": {
            "text/plain": [
              "4"
            ]
          },
          "metadata": {},
          "execution_count": 57
        }
      ]
    },
    {
      "cell_type": "code",
      "source": [
        "(lambda x: x+3)(2)"
      ],
      "metadata": {
        "colab": {
          "base_uri": "https://localhost:8080/"
        },
        "id": "Ro9gb5kG_gJd",
        "outputId": "46d78ece-5882-4c33-f246-f69ec3bff41a"
      },
      "execution_count": null,
      "outputs": [
        {
          "output_type": "execute_result",
          "data": {
            "text/plain": [
              "5"
            ]
          },
          "metadata": {},
          "execution_count": 58
        }
      ]
    },
    {
      "cell_type": "code",
      "source": [
        "(lambda m, n : (m*3)+n)(2,3)"
      ],
      "metadata": {
        "colab": {
          "base_uri": "https://localhost:8080/"
        },
        "id": "9D62iOnY_vTc",
        "outputId": "97252a21-ecc9-439e-8576-e467d240898a"
      },
      "execution_count": null,
      "outputs": [
        {
          "output_type": "execute_result",
          "data": {
            "text/plain": [
              "9"
            ]
          },
          "metadata": {},
          "execution_count": 59
        }
      ]
    },
    {
      "cell_type": "code",
      "source": [
        "salary_list = [10000, 15000, 20000, 21000, 18000, 35000, 65000, 14500]\n",
        "def cal_salary(base_salary, bonus_rate = .1):\n",
        "  salary = base_salary * (1 + bonus_rate)\n",
        "  return salary"
      ],
      "metadata": {
        "id": "HbJf-F9JAO-E"
      },
      "execution_count": null,
      "outputs": []
    },
    {
      "cell_type": "code",
      "source": [
        "cal_salary(15000, .3)"
      ],
      "metadata": {
        "colab": {
          "base_uri": "https://localhost:8080/"
        },
        "id": "M-0y-t6h07m4",
        "outputId": "f0d2d774-74b4-449c-b98a-e454abd95a6d"
      },
      "execution_count": null,
      "outputs": [
        {
          "output_type": "execute_result",
          "data": {
            "text/plain": [
              "19500.0"
            ]
          },
          "metadata": {},
          "execution_count": 61
        }
      ]
    },
    {
      "cell_type": "code",
      "source": [
        "## List Comprehension with function\n",
        "salary_list = [10000, 15000, 20000, 21000, 18000, 35000, 65000, 14500]\n",
        "full_salary = [cal_salary(salary) for salary in salary_list]\n",
        "full_salary"
      ],
      "metadata": {
        "colab": {
          "base_uri": "https://localhost:8080/"
        },
        "id": "goOIENuH0_tO",
        "outputId": "7986e9c2-b1e0-4775-942d-e59fdd8a2740"
      },
      "execution_count": null,
      "outputs": [
        {
          "output_type": "execute_result",
          "data": {
            "text/plain": [
              "[11000.0,\n",
              " 16500.0,\n",
              " 22000.0,\n",
              " 23100.000000000004,\n",
              " 19800.0,\n",
              " 38500.0,\n",
              " 71500.0,\n",
              " 15950.000000000002]"
            ]
          },
          "metadata": {},
          "execution_count": 62
        }
      ]
    },
    {
      "cell_type": "code",
      "source": [
        "## List Comprehension with lambda function\n",
        "salary_list = [10000, 15000, 20000, 18000, 21000]\n",
        "final_salary = [(lambda x : x*1.1)(salary) for salary in salary_list]\n",
        "final_salary\n"
      ],
      "metadata": {
        "colab": {
          "base_uri": "https://localhost:8080/"
        },
        "id": "2YqVJ-um1kKf",
        "outputId": "d4bf5717-1325-4f3f-ad39-623d7326de83"
      },
      "execution_count": null,
      "outputs": [
        {
          "output_type": "execute_result",
          "data": {
            "text/plain": [
              "[11000.0, 16500.0, 22000.0, 19800.0, 23100.000000000004]"
            ]
          },
          "metadata": {},
          "execution_count": 63
        }
      ]
    },
    {
      "cell_type": "code",
      "source": [
        "job_data = [\n",
        "    {\n",
        "        \"job_title\": \"Senior Data Scientist\",\n",
        "        \"job_skill\": [\"Python\", \"Machine Learning\", \"SQL\", \"TensorFlow\", \"Data Visualization\"],\n",
        "        \"remote\": True\n",
        "    },\n",
        "    {\n",
        "        \"job_title\": \"Data Analyst\",\n",
        "        \"job_skill\": [\"SQL\", \"Excel\", \"Tableau\", \"Statistics\", \"Data Cleaning\"],\n",
        "        \"remote\": False\n",
        "    },\n",
        "    {\n",
        "        \"job_title\": \"Machine Learning Engineer\",\n",
        "        \"job_skill\": [\"Python\", \"PyTorch\", \"Deep Learning\", \"AWS\", \"Natural Language Processing\"],\n",
        "        \"remote\": True\n",
        "    },\n",
        "    {\n",
        "        \"job_title\": \"Business Intelligence Analyst\",\n",
        "        \"job_skill\": [\"Power BI\", \"SQL\", \"Data Warehousing\", \"ETL\", \"Dashboarding\"],\n",
        "        \"remote\": False\n",
        "    },\n",
        "    {\n",
        "        \"job_title\": \"Data Science Manager\",\n",
        "        \"job_skill\": [\"Python\", \"Team Leadership\", \"Project Management\", \"Big Data\", \"Strategic Planning\"],\n",
        "        \"remote\": True\n",
        "    }\n",
        "]\n",
        "job_data"
      ],
      "metadata": {
        "colab": {
          "base_uri": "https://localhost:8080/"
        },
        "id": "FVCdqM_73xv_",
        "outputId": "72807867-1aac-4f60-b26f-b221161823d3"
      },
      "execution_count": null,
      "outputs": [
        {
          "output_type": "execute_result",
          "data": {
            "text/plain": [
              "[{'job_title': 'Senior Data Scientist',\n",
              "  'job_skill': ['Python',\n",
              "   'Machine Learning',\n",
              "   'SQL',\n",
              "   'TensorFlow',\n",
              "   'Data Visualization'],\n",
              "  'remote': True},\n",
              " {'job_title': 'Data Analyst',\n",
              "  'job_skill': ['SQL', 'Excel', 'Tableau', 'Statistics', 'Data Cleaning'],\n",
              "  'remote': False},\n",
              " {'job_title': 'Machine Learning Engineer',\n",
              "  'job_skill': ['Python',\n",
              "   'PyTorch',\n",
              "   'Deep Learning',\n",
              "   'AWS',\n",
              "   'Natural Language Processing'],\n",
              "  'remote': True},\n",
              " {'job_title': 'Business Intelligence Analyst',\n",
              "  'job_skill': ['Power BI', 'SQL', 'Data Warehousing', 'ETL', 'Dashboarding'],\n",
              "  'remote': False},\n",
              " {'job_title': 'Data Science Manager',\n",
              "  'job_skill': ['Python',\n",
              "   'Team Leadership',\n",
              "   'Project Management',\n",
              "   'Big Data',\n",
              "   'Strategic Planning'],\n",
              "  'remote': True}]"
            ]
          },
          "metadata": {},
          "execution_count": 64
        }
      ]
    },
    {
      "cell_type": "code",
      "source": [
        "list(filter(lambda jobs : ((jobs[\"remote\"]) and (\"Python\" in jobs['job_skill'])), job_data))"
      ],
      "metadata": {
        "colab": {
          "base_uri": "https://localhost:8080/"
        },
        "id": "dR7Q6U7J5U13",
        "outputId": "5f705014-85da-4eb4-8bcd-e5c825dae652"
      },
      "execution_count": null,
      "outputs": [
        {
          "output_type": "execute_result",
          "data": {
            "text/plain": [
              "[{'job_title': 'Senior Data Scientist',\n",
              "  'job_skill': ['Python',\n",
              "   'Machine Learning',\n",
              "   'SQL',\n",
              "   'TensorFlow',\n",
              "   'Data Visualization'],\n",
              "  'remote': True},\n",
              " {'job_title': 'Machine Learning Engineer',\n",
              "  'job_skill': ['Python',\n",
              "   'PyTorch',\n",
              "   'Deep Learning',\n",
              "   'AWS',\n",
              "   'Natural Language Processing'],\n",
              "  'remote': True},\n",
              " {'job_title': 'Data Science Manager',\n",
              "  'job_skill': ['Python',\n",
              "   'Team Leadership',\n",
              "   'Project Management',\n",
              "   'Big Data',\n",
              "   'Strategic Planning'],\n",
              "  'remote': True}]"
            ]
          },
          "metadata": {},
          "execution_count": 65
        }
      ]
    },
    {
      "cell_type": "code",
      "source": [
        "abc = [2,3,4,5]\n",
        "list(map(lambda x : x + x, abc))"
      ],
      "metadata": {
        "colab": {
          "base_uri": "https://localhost:8080/"
        },
        "id": "oNgiv2hv70Zo",
        "outputId": "0a873143-5c09-4e0e-b247-3b9c5966e406"
      },
      "execution_count": null,
      "outputs": [
        {
          "output_type": "execute_result",
          "data": {
            "text/plain": [
              "[4, 6, 8, 10]"
            ]
          },
          "metadata": {},
          "execution_count": 66
        }
      ]
    },
    {
      "cell_type": "code",
      "source": [
        "string = [\"Python\", \"abs\"]\n",
        "list(map(lambda x: str.upper(x), string))"
      ],
      "metadata": {
        "colab": {
          "base_uri": "https://localhost:8080/"
        },
        "id": "TXoPBQLPFUFD",
        "outputId": "73b39146-8587-4cf2-83d3-57af3772a204"
      },
      "execution_count": null,
      "outputs": [
        {
          "output_type": "execute_result",
          "data": {
            "text/plain": [
              "['PYTHON', 'ABS']"
            ]
          },
          "metadata": {},
          "execution_count": 67
        }
      ]
    },
    {
      "cell_type": "code",
      "source": [
        "class_att = [('9C', 39),('9A', 41),('9C', 40),('9B', 43),('9A', 43)]"
      ],
      "metadata": {
        "id": "IKB1YAGvJY5f"
      },
      "execution_count": null,
      "outputs": []
    },
    {
      "cell_type": "code",
      "source": [
        "sorted(class_att, key = lambda x : x[1])"
      ],
      "metadata": {
        "colab": {
          "base_uri": "https://localhost:8080/"
        },
        "id": "5ugjJ-_ZKjbi",
        "outputId": "9fcd2b17-85c7-4e66-fe5c-f51590519d24"
      },
      "execution_count": null,
      "outputs": [
        {
          "output_type": "execute_result",
          "data": {
            "text/plain": [
              "[('9C', 39), ('9C', 40), ('9A', 41), ('9B', 43), ('9A', 43)]"
            ]
          },
          "metadata": {},
          "execution_count": 69
        }
      ]
    },
    {
      "cell_type": "code",
      "source": [
        "att = [35,39,49,40,32,30,29]\n",
        "\n",
        "list(filter(lambda x: x>=35, att))"
      ],
      "metadata": {
        "id": "vAIrtpkSK5bb",
        "colab": {
          "base_uri": "https://localhost:8080/"
        },
        "outputId": "32f95ba6-ac8c-486a-97da-4bf7b06c63d5"
      },
      "execution_count": null,
      "outputs": [
        {
          "output_type": "execute_result",
          "data": {
            "text/plain": [
              "[35, 39, 49, 40]"
            ]
          },
          "metadata": {},
          "execution_count": 70
        }
      ]
    },
    {
      "cell_type": "code",
      "source": [
        "country = [\"India\", \"USA\", \"Canada\", \"Bangladesh\", \"UK\", \"Japan\"]\n",
        "\n",
        "list(filter(lambda x: len(x) > 3, country))"
      ],
      "metadata": {
        "colab": {
          "base_uri": "https://localhost:8080/"
        },
        "id": "uSxJdjJ4V7mP",
        "outputId": "a98ad2db-80c4-42bf-93bf-bf24ca1ee204"
      },
      "execution_count": null,
      "outputs": [
        {
          "output_type": "execute_result",
          "data": {
            "text/plain": [
              "['India', 'Canada', 'Bangladesh', 'Japan']"
            ]
          },
          "metadata": {},
          "execution_count": 71
        }
      ]
    },
    {
      "cell_type": "code",
      "source": [
        "### Reduce Funtion and Lambda Expression\n",
        "from functools import reduce\n",
        "\n",
        "num = [10,20,22,26,28,31,30]\n",
        "sumed = reduce(lambda x,y : x+y, num)\n",
        "sumed\n"
      ],
      "metadata": {
        "colab": {
          "base_uri": "https://localhost:8080/"
        },
        "id": "rm1z71JwWcVn",
        "outputId": "71c8e46f-8f1a-44ab-d5f1-03329ddc6195"
      },
      "execution_count": null,
      "outputs": [
        {
          "output_type": "execute_result",
          "data": {
            "text/plain": [
              "167"
            ]
          },
          "metadata": {},
          "execution_count": 78
        }
      ]
    },
    {
      "cell_type": "code",
      "source": [
        "max_num = reduce(lambda x,y : max(x,y), num)\n",
        "max_num"
      ],
      "metadata": {
        "colab": {
          "base_uri": "https://localhost:8080/"
        },
        "id": "OoqmZCS_XtGw",
        "outputId": "baf36875-e019-49e6-f1ae-98357326c3a8"
      },
      "execution_count": null,
      "outputs": [
        {
          "output_type": "execute_result",
          "data": {
            "text/plain": [
              "31"
            ]
          },
          "metadata": {},
          "execution_count": 81
        }
      ]
    },
    {
      "cell_type": "code",
      "source": [
        "min_num = reduce(lambda x,y : min(x,y), num)\n",
        "min_num"
      ],
      "metadata": {
        "colab": {
          "base_uri": "https://localhost:8080/"
        },
        "id": "wEO3mepvYqBN",
        "outputId": "9a2d2d97-89e3-45d2-e651-529cd3ae6a8c"
      },
      "execution_count": null,
      "outputs": [
        {
          "output_type": "execute_result",
          "data": {
            "text/plain": [
              "10"
            ]
          },
          "metadata": {},
          "execution_count": 82
        }
      ]
    },
    {
      "cell_type": "code",
      "source": [
        "if_max = reduce(lambda x,y : (x if x>y else y), num)\n",
        "if_max"
      ],
      "metadata": {
        "colab": {
          "base_uri": "https://localhost:8080/"
        },
        "id": "sQRxQ1rRZZPd",
        "outputId": "01ba53f9-0b42-46ce-f0f1-6e2fb78dcb5c"
      },
      "execution_count": null,
      "outputs": [
        {
          "output_type": "execute_result",
          "data": {
            "text/plain": [
              "31"
            ]
          },
          "metadata": {},
          "execution_count": 83
        }
      ]
    },
    {
      "cell_type": "code",
      "source": [
        "if_min = reduce(lambda x,y : (x if x<y else y), num)\n",
        "if_min"
      ],
      "metadata": {
        "colab": {
          "base_uri": "https://localhost:8080/"
        },
        "id": "OAZ2HRtmZmgF",
        "outputId": "5f07a7ec-da38-46cd-b4ad-4553f3b911e1"
      },
      "execution_count": null,
      "outputs": [
        {
          "output_type": "execute_result",
          "data": {
            "text/plain": [
              "10"
            ]
          },
          "metadata": {},
          "execution_count": 84
        }
      ]
    },
    {
      "cell_type": "code",
      "source": [
        "### Lambda function of nested list\n",
        "scores = [[1,35,80],[2,34,76],[3,40,56],[4,30,74],[5,39,61]]\n",
        "avg_attendence = 35\n",
        "p = list(map(lambda x : x[2]+2 if x[1] >= avg_attendence else x[2]-2, scores))\n",
        "p"
      ],
      "metadata": {
        "colab": {
          "base_uri": "https://localhost:8080/"
        },
        "id": "A-dWQMh0Z822",
        "outputId": "8379c2f9-f9c8-4b58-8d15-9bf13f73eb27"
      },
      "execution_count": null,
      "outputs": [
        {
          "output_type": "execute_result",
          "data": {
            "text/plain": [
              "[82, 74, 58, 72, 63]"
            ]
          },
          "metadata": {},
          "execution_count": 93
        }
      ]
    },
    {
      "cell_type": "code",
      "source": [
        "country_sales =[\n",
        "    {\"Country\" : \"USA\", \"Sales\" : 150000},\n",
        "    {\"Country\" : \"Canada\", \"Sales\" : 75000},\n",
        "    {\"Country\" : \"Germany\", \"Sales\" : 120000},\n",
        "    {\"Country\" : \"France\", \"Sales\" : 90000},\n",
        "    {\"Country\" : \"Japan\", \"Sales\" : 180000}]"
      ],
      "metadata": {
        "id": "o5neFsEDcQl2"
      },
      "execution_count": null,
      "outputs": []
    },
    {
      "cell_type": "code",
      "source": [
        "list(map(lambda x : x[\"Country\"], country_sales))"
      ],
      "metadata": {
        "colab": {
          "base_uri": "https://localhost:8080/"
        },
        "id": "T1KhL0ITeOjA",
        "outputId": "e577740a-d059-44f7-f612-b579e17549e2"
      },
      "execution_count": null,
      "outputs": [
        {
          "output_type": "execute_result",
          "data": {
            "text/plain": [
              "['USA', 'Canada', 'Germany', 'France', 'Japan']"
            ]
          },
          "metadata": {},
          "execution_count": 96
        }
      ]
    },
    {
      "cell_type": "code",
      "source": [
        "list(map(lambda x : x[\"Sales\"], country_sales))"
      ],
      "metadata": {
        "colab": {
          "base_uri": "https://localhost:8080/"
        },
        "id": "2w9QfrQNe5bW",
        "outputId": "ded701ce-21cd-4d07-9cc8-d0349c8d464a"
      },
      "execution_count": null,
      "outputs": [
        {
          "output_type": "execute_result",
          "data": {
            "text/plain": [
              "[150000, 75000, 120000, 90000, 180000]"
            ]
          },
          "metadata": {},
          "execution_count": 98
        }
      ]
    },
    {
      "cell_type": "code",
      "source": [
        "list(filter(lambda x : x[\"Country\"] == \"Canada\", country_sales))"
      ],
      "metadata": {
        "colab": {
          "base_uri": "https://localhost:8080/"
        },
        "id": "5NjSoScte_ju",
        "outputId": "b5c488c5-a3a1-48e1-cb8b-98f8c8a7e18d"
      },
      "execution_count": null,
      "outputs": [
        {
          "output_type": "execute_result",
          "data": {
            "text/plain": [
              "[{'Country': 'Canada', 'Sales': 75000}]"
            ]
          },
          "metadata": {},
          "execution_count": 99
        }
      ]
    },
    {
      "cell_type": "code",
      "source": [
        "list(filter(lambda x : x[\"Sales\"] > 90000, country_sales))"
      ],
      "metadata": {
        "colab": {
          "base_uri": "https://localhost:8080/"
        },
        "id": "d9olTlBQfQPG",
        "outputId": "8a4148be-a346-4672-cb38-5f5a2595328a"
      },
      "execution_count": null,
      "outputs": [
        {
          "output_type": "execute_result",
          "data": {
            "text/plain": [
              "[{'Country': 'USA', 'Sales': 150000},\n",
              " {'Country': 'Germany', 'Sales': 120000},\n",
              " {'Country': 'Japan', 'Sales': 180000}]"
            ]
          },
          "metadata": {},
          "execution_count": 101
        }
      ]
    },
    {
      "cell_type": "code",
      "source": [
        "li_1 = [10,20,30,40]\n",
        "li_2 = [3,5,7,9]\n",
        "\n",
        "list(map(lambda x,y : x+y, li_1, li_2))"
      ],
      "metadata": {
        "colab": {
          "base_uri": "https://localhost:8080/"
        },
        "id": "At7OiMnBfXkG",
        "outputId": "18bcca44-58be-4a2a-a485-bfbc69e73012"
      },
      "execution_count": null,
      "outputs": [
        {
          "output_type": "execute_result",
          "data": {
            "text/plain": [
              "[13, 25, 37, 49]"
            ]
          },
          "metadata": {},
          "execution_count": 108
        }
      ]
    },
    {
      "cell_type": "code",
      "source": [],
      "metadata": {
        "id": "9qSnjlKRhg3e"
      },
      "execution_count": null,
      "outputs": []
    }
  ]
}