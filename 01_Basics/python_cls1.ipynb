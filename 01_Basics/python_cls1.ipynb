{
  "nbformat": 4,
  "nbformat_minor": 0,
  "metadata": {
    "colab": {
      "provenance": []
    },
    "kernelspec": {
      "name": "python3",
      "display_name": "Python 3"
    },
    "language_info": {
      "name": "python"
    }
  },
  "cells": [
    {
      "cell_type": "code",
      "execution_count": null,
      "metadata": {
        "colab": {
          "base_uri": "https://localhost:8080/"
        },
        "id": "lLsUvJW08YqD",
        "outputId": "749e2071-ff58-482e-ea98-ef55ea9e28d3"
      },
      "outputs": [
        {
          "output_type": "stream",
          "name": "stdout",
          "text": [
            "Hello World\n"
          ]
        }
      ],
      "source": [
        "print(\"Hello World\")"
      ]
    },
    {
      "cell_type": "code",
      "source": [
        "job_title = \"Data Analyst\"\n",
        "job_location = \"United States\"\n",
        "job_salary = 90000"
      ],
      "metadata": {
        "id": "TkHx7MVA8_Fb"
      },
      "execution_count": null,
      "outputs": []
    },
    {
      "cell_type": "code",
      "source": [
        "print(f\"JOb:         {job_title}\\nLocation:    {job_location}\\nSalary:      ${job_salary:,.0f}\")"
      ],
      "metadata": {
        "colab": {
          "base_uri": "https://localhost:8080/"
        },
        "id": "Gk8uayHc9Lzq",
        "outputId": "fe0a3d80-5990-44f5-b50e-2868ecd7d5fa"
      },
      "execution_count": null,
      "outputs": [
        {
          "output_type": "stream",
          "name": "stdout",
          "text": [
            "JOb:         Data Analyst\n",
            "Location:    United States\n",
            "Salary:      $90,000\n"
          ]
        }
      ]
    },
    {
      "cell_type": "code",
      "source": [
        "def display_info():\n",
        "  return print(f\"JOb:         {job_title}\\nLocation:    {job_location}\\nSalary:      ${job_salary:,.0f}\")"
      ],
      "metadata": {
        "id": "DAjx_vQ3-BKr"
      },
      "execution_count": null,
      "outputs": []
    },
    {
      "cell_type": "code",
      "source": [
        "display_info()"
      ],
      "metadata": {
        "colab": {
          "base_uri": "https://localhost:8080/"
        },
        "id": "A5ENqpX4-Z0C",
        "outputId": "63634f53-8390-42d2-ee19-34735205ed5a"
      },
      "execution_count": null,
      "outputs": [
        {
          "output_type": "stream",
          "name": "stdout",
          "text": [
            "JOb:         Data Analyst\n",
            "Location:    United States\n",
            "Salary:      $90,000\n"
          ]
        }
      ]
    },
    {
      "cell_type": "code",
      "source": [
        "class JobPost:\n",
        "  def __init__(self, title, location, salary):\n",
        "    self.title = title\n",
        "    self.location = location\n",
        "    self.salary = salary"
      ],
      "metadata": {
        "id": "M8L2MAoI-mEK"
      },
      "execution_count": null,
      "outputs": []
    },
    {
      "cell_type": "code",
      "source": [
        "Job1 = JobPost(job_title, job_location, job_salary)"
      ],
      "metadata": {
        "id": "UM4SGSbyAr9b"
      },
      "execution_count": null,
      "outputs": []
    },
    {
      "cell_type": "code",
      "source": [
        "Job1.location"
      ],
      "metadata": {
        "colab": {
          "base_uri": "https://localhost:8080/",
          "height": 35
        },
        "id": "2Nh_0Tt5A7Xt",
        "outputId": "ca03f6f1-2a81-4897-c3d9-fbcbff73c70a"
      },
      "execution_count": null,
      "outputs": [
        {
          "output_type": "execute_result",
          "data": {
            "text/plain": [
              "'United States'"
            ],
            "application/vnd.google.colaboratory.intrinsic+json": {
              "type": "string"
            }
          },
          "metadata": {},
          "execution_count": 124
        }
      ]
    },
    {
      "cell_type": "code",
      "source": [
        "Job1.title"
      ],
      "metadata": {
        "colab": {
          "base_uri": "https://localhost:8080/",
          "height": 35
        },
        "id": "G0M66qYoBCGS",
        "outputId": "05ed4398-6af2-482f-d326-3ec259394195"
      },
      "execution_count": null,
      "outputs": [
        {
          "output_type": "execute_result",
          "data": {
            "text/plain": [
              "'Data Analyst'"
            ],
            "application/vnd.google.colaboratory.intrinsic+json": {
              "type": "string"
            }
          },
          "metadata": {},
          "execution_count": 125
        }
      ]
    },
    {
      "cell_type": "code",
      "source": [
        "string = \"PYTHON\""
      ],
      "metadata": {
        "id": "3ZgyfifGBFeh"
      },
      "execution_count": null,
      "outputs": []
    },
    {
      "cell_type": "code",
      "source": [
        "type(string)"
      ],
      "metadata": {
        "colab": {
          "base_uri": "https://localhost:8080/"
        },
        "id": "8TMqCndKUVoO",
        "outputId": "a7adf0c0-3bed-47a3-8277-0ddc4810207c"
      },
      "execution_count": null,
      "outputs": [
        {
          "output_type": "execute_result",
          "data": {
            "text/plain": [
              "str"
            ]
          },
          "metadata": {},
          "execution_count": 127
        }
      ]
    },
    {
      "cell_type": "code",
      "source": [
        "string.capitalize()"
      ],
      "metadata": {
        "colab": {
          "base_uri": "https://localhost:8080/",
          "height": 35
        },
        "id": "c6i67CF9UX9C",
        "outputId": "1459a549-d931-43d6-a18c-51398d7e0bcb"
      },
      "execution_count": null,
      "outputs": [
        {
          "output_type": "execute_result",
          "data": {
            "text/plain": [
              "'Python'"
            ],
            "application/vnd.google.colaboratory.intrinsic+json": {
              "type": "string"
            }
          },
          "metadata": {},
          "execution_count": 128
        }
      ]
    },
    {
      "cell_type": "code",
      "source": [
        "string.lower()"
      ],
      "metadata": {
        "colab": {
          "base_uri": "https://localhost:8080/",
          "height": 35
        },
        "id": "l2hRHjtIUbe7",
        "outputId": "d5535216-4bc1-4f86-88af-01691101814d"
      },
      "execution_count": null,
      "outputs": [
        {
          "output_type": "execute_result",
          "data": {
            "text/plain": [
              "'python'"
            ],
            "application/vnd.google.colaboratory.intrinsic+json": {
              "type": "string"
            }
          },
          "metadata": {},
          "execution_count": 129
        }
      ]
    },
    {
      "cell_type": "code",
      "source": [
        "string.upper()"
      ],
      "metadata": {
        "colab": {
          "base_uri": "https://localhost:8080/",
          "height": 35
        },
        "id": "mBdseDYdUeHi",
        "outputId": "dbdd0db2-cf6c-4437-ed56-fe5113648b9d"
      },
      "execution_count": null,
      "outputs": [
        {
          "output_type": "execute_result",
          "data": {
            "text/plain": [
              "'PYTHON'"
            ],
            "application/vnd.google.colaboratory.intrinsic+json": {
              "type": "string"
            }
          },
          "metadata": {},
          "execution_count": 130
        }
      ]
    },
    {
      "cell_type": "code",
      "source": [
        "string.replace(\"T\", \"X\")"
      ],
      "metadata": {
        "colab": {
          "base_uri": "https://localhost:8080/",
          "height": 35
        },
        "id": "LyfOEwpDUl1S",
        "outputId": "7175bb60-8a95-4401-f2fd-3aa2dbfbc5a5"
      },
      "execution_count": null,
      "outputs": [
        {
          "output_type": "execute_result",
          "data": {
            "text/plain": [
              "'PYXHON'"
            ],
            "application/vnd.google.colaboratory.intrinsic+json": {
              "type": "string"
            }
          },
          "metadata": {},
          "execution_count": 131
        }
      ]
    },
    {
      "cell_type": "code",
      "source": [
        "job_title.replace('a', 'o', 2)"
      ],
      "metadata": {
        "colab": {
          "base_uri": "https://localhost:8080/",
          "height": 35
        },
        "id": "5Nv3suF7WMky",
        "outputId": "d50e4926-3519-4a46-dfb6-c1584856eaf4"
      },
      "execution_count": null,
      "outputs": [
        {
          "output_type": "execute_result",
          "data": {
            "text/plain": [
              "'Doto Analyst'"
            ],
            "application/vnd.google.colaboratory.intrinsic+json": {
              "type": "string"
            }
          },
          "metadata": {},
          "execution_count": 132
        }
      ]
    },
    {
      "cell_type": "code",
      "source": [
        "help(str)"
      ],
      "metadata": {
        "id": "8UD4cBsEWY26",
        "colab": {
          "base_uri": "https://localhost:8080/"
        },
        "outputId": "38ff3562-a735-47b9-efea-9b8bdf70c63f"
      },
      "execution_count": null,
      "outputs": [
        {
          "output_type": "stream",
          "name": "stdout",
          "text": [
            "Help on class str in module builtins:\n",
            "\n",
            "class str(object)\n",
            " |  str(object='') -> str\n",
            " |  str(bytes_or_buffer[, encoding[, errors]]) -> str\n",
            " |  \n",
            " |  Create a new string object from the given object. If encoding or\n",
            " |  errors is specified, then the object must expose a data buffer\n",
            " |  that will be decoded using the given encoding and error handler.\n",
            " |  Otherwise, returns the result of object.__str__() (if defined)\n",
            " |  or repr(object).\n",
            " |  encoding defaults to sys.getdefaultencoding().\n",
            " |  errors defaults to 'strict'.\n",
            " |  \n",
            " |  Methods defined here:\n",
            " |  \n",
            " |  __add__(self, value, /)\n",
            " |      Return self+value.\n",
            " |  \n",
            " |  __contains__(self, key, /)\n",
            " |      Return key in self.\n",
            " |  \n",
            " |  __eq__(self, value, /)\n",
            " |      Return self==value.\n",
            " |  \n",
            " |  __format__(self, format_spec, /)\n",
            " |      Return a formatted version of the string as described by format_spec.\n",
            " |  \n",
            " |  __ge__(self, value, /)\n",
            " |      Return self>=value.\n",
            " |  \n",
            " |  __getattribute__(self, name, /)\n",
            " |      Return getattr(self, name).\n",
            " |  \n",
            " |  __getitem__(self, key, /)\n",
            " |      Return self[key].\n",
            " |  \n",
            " |  __getnewargs__(...)\n",
            " |  \n",
            " |  __gt__(self, value, /)\n",
            " |      Return self>value.\n",
            " |  \n",
            " |  __hash__(self, /)\n",
            " |      Return hash(self).\n",
            " |  \n",
            " |  __iter__(self, /)\n",
            " |      Implement iter(self).\n",
            " |  \n",
            " |  __le__(self, value, /)\n",
            " |      Return self<=value.\n",
            " |  \n",
            " |  __len__(self, /)\n",
            " |      Return len(self).\n",
            " |  \n",
            " |  __lt__(self, value, /)\n",
            " |      Return self<value.\n",
            " |  \n",
            " |  __mod__(self, value, /)\n",
            " |      Return self%value.\n",
            " |  \n",
            " |  __mul__(self, value, /)\n",
            " |      Return self*value.\n",
            " |  \n",
            " |  __ne__(self, value, /)\n",
            " |      Return self!=value.\n",
            " |  \n",
            " |  __repr__(self, /)\n",
            " |      Return repr(self).\n",
            " |  \n",
            " |  __rmod__(self, value, /)\n",
            " |      Return value%self.\n",
            " |  \n",
            " |  __rmul__(self, value, /)\n",
            " |      Return value*self.\n",
            " |  \n",
            " |  __sizeof__(self, /)\n",
            " |      Return the size of the string in memory, in bytes.\n",
            " |  \n",
            " |  __str__(self, /)\n",
            " |      Return str(self).\n",
            " |  \n",
            " |  capitalize(self, /)\n",
            " |      Return a capitalized version of the string.\n",
            " |      \n",
            " |      More specifically, make the first character have upper case and the rest lower\n",
            " |      case.\n",
            " |  \n",
            " |  casefold(self, /)\n",
            " |      Return a version of the string suitable for caseless comparisons.\n",
            " |  \n",
            " |  center(self, width, fillchar=' ', /)\n",
            " |      Return a centered string of length width.\n",
            " |      \n",
            " |      Padding is done using the specified fill character (default is a space).\n",
            " |  \n",
            " |  count(...)\n",
            " |      S.count(sub[, start[, end]]) -> int\n",
            " |      \n",
            " |      Return the number of non-overlapping occurrences of substring sub in\n",
            " |      string S[start:end].  Optional arguments start and end are\n",
            " |      interpreted as in slice notation.\n",
            " |  \n",
            " |  encode(self, /, encoding='utf-8', errors='strict')\n",
            " |      Encode the string using the codec registered for encoding.\n",
            " |      \n",
            " |      encoding\n",
            " |        The encoding in which to encode the string.\n",
            " |      errors\n",
            " |        The error handling scheme to use for encoding errors.\n",
            " |        The default is 'strict' meaning that encoding errors raise a\n",
            " |        UnicodeEncodeError.  Other possible values are 'ignore', 'replace' and\n",
            " |        'xmlcharrefreplace' as well as any other name registered with\n",
            " |        codecs.register_error that can handle UnicodeEncodeErrors.\n",
            " |  \n",
            " |  endswith(...)\n",
            " |      S.endswith(suffix[, start[, end]]) -> bool\n",
            " |      \n",
            " |      Return True if S ends with the specified suffix, False otherwise.\n",
            " |      With optional start, test S beginning at that position.\n",
            " |      With optional end, stop comparing S at that position.\n",
            " |      suffix can also be a tuple of strings to try.\n",
            " |  \n",
            " |  expandtabs(self, /, tabsize=8)\n",
            " |      Return a copy where all tab characters are expanded using spaces.\n",
            " |      \n",
            " |      If tabsize is not given, a tab size of 8 characters is assumed.\n",
            " |  \n",
            " |  find(...)\n",
            " |      S.find(sub[, start[, end]]) -> int\n",
            " |      \n",
            " |      Return the lowest index in S where substring sub is found,\n",
            " |      such that sub is contained within S[start:end].  Optional\n",
            " |      arguments start and end are interpreted as in slice notation.\n",
            " |      \n",
            " |      Return -1 on failure.\n",
            " |  \n",
            " |  format(...)\n",
            " |      S.format(*args, **kwargs) -> str\n",
            " |      \n",
            " |      Return a formatted version of S, using substitutions from args and kwargs.\n",
            " |      The substitutions are identified by braces ('{' and '}').\n",
            " |  \n",
            " |  format_map(...)\n",
            " |      S.format_map(mapping) -> str\n",
            " |      \n",
            " |      Return a formatted version of S, using substitutions from mapping.\n",
            " |      The substitutions are identified by braces ('{' and '}').\n",
            " |  \n",
            " |  index(...)\n",
            " |      S.index(sub[, start[, end]]) -> int\n",
            " |      \n",
            " |      Return the lowest index in S where substring sub is found,\n",
            " |      such that sub is contained within S[start:end].  Optional\n",
            " |      arguments start and end are interpreted as in slice notation.\n",
            " |      \n",
            " |      Raises ValueError when the substring is not found.\n",
            " |  \n",
            " |  isalnum(self, /)\n",
            " |      Return True if the string is an alpha-numeric string, False otherwise.\n",
            " |      \n",
            " |      A string is alpha-numeric if all characters in the string are alpha-numeric and\n",
            " |      there is at least one character in the string.\n",
            " |  \n",
            " |  isalpha(self, /)\n",
            " |      Return True if the string is an alphabetic string, False otherwise.\n",
            " |      \n",
            " |      A string is alphabetic if all characters in the string are alphabetic and there\n",
            " |      is at least one character in the string.\n",
            " |  \n",
            " |  isascii(self, /)\n",
            " |      Return True if all characters in the string are ASCII, False otherwise.\n",
            " |      \n",
            " |      ASCII characters have code points in the range U+0000-U+007F.\n",
            " |      Empty string is ASCII too.\n",
            " |  \n",
            " |  isdecimal(self, /)\n",
            " |      Return True if the string is a decimal string, False otherwise.\n",
            " |      \n",
            " |      A string is a decimal string if all characters in the string are decimal and\n",
            " |      there is at least one character in the string.\n",
            " |  \n",
            " |  isdigit(self, /)\n",
            " |      Return True if the string is a digit string, False otherwise.\n",
            " |      \n",
            " |      A string is a digit string if all characters in the string are digits and there\n",
            " |      is at least one character in the string.\n",
            " |  \n",
            " |  isidentifier(self, /)\n",
            " |      Return True if the string is a valid Python identifier, False otherwise.\n",
            " |      \n",
            " |      Call keyword.iskeyword(s) to test whether string s is a reserved identifier,\n",
            " |      such as \"def\" or \"class\".\n",
            " |  \n",
            " |  islower(self, /)\n",
            " |      Return True if the string is a lowercase string, False otherwise.\n",
            " |      \n",
            " |      A string is lowercase if all cased characters in the string are lowercase and\n",
            " |      there is at least one cased character in the string.\n",
            " |  \n",
            " |  isnumeric(self, /)\n",
            " |      Return True if the string is a numeric string, False otherwise.\n",
            " |      \n",
            " |      A string is numeric if all characters in the string are numeric and there is at\n",
            " |      least one character in the string.\n",
            " |  \n",
            " |  isprintable(self, /)\n",
            " |      Return True if the string is printable, False otherwise.\n",
            " |      \n",
            " |      A string is printable if all of its characters are considered printable in\n",
            " |      repr() or if it is empty.\n",
            " |  \n",
            " |  isspace(self, /)\n",
            " |      Return True if the string is a whitespace string, False otherwise.\n",
            " |      \n",
            " |      A string is whitespace if all characters in the string are whitespace and there\n",
            " |      is at least one character in the string.\n",
            " |  \n",
            " |  istitle(self, /)\n",
            " |      Return True if the string is a title-cased string, False otherwise.\n",
            " |      \n",
            " |      In a title-cased string, upper- and title-case characters may only\n",
            " |      follow uncased characters and lowercase characters only cased ones.\n",
            " |  \n",
            " |  isupper(self, /)\n",
            " |      Return True if the string is an uppercase string, False otherwise.\n",
            " |      \n",
            " |      A string is uppercase if all cased characters in the string are uppercase and\n",
            " |      there is at least one cased character in the string.\n",
            " |  \n",
            " |  join(self, iterable, /)\n",
            " |      Concatenate any number of strings.\n",
            " |      \n",
            " |      The string whose method is called is inserted in between each given string.\n",
            " |      The result is returned as a new string.\n",
            " |      \n",
            " |      Example: '.'.join(['ab', 'pq', 'rs']) -> 'ab.pq.rs'\n",
            " |  \n",
            " |  ljust(self, width, fillchar=' ', /)\n",
            " |      Return a left-justified string of length width.\n",
            " |      \n",
            " |      Padding is done using the specified fill character (default is a space).\n",
            " |  \n",
            " |  lower(self, /)\n",
            " |      Return a copy of the string converted to lowercase.\n",
            " |  \n",
            " |  lstrip(self, chars=None, /)\n",
            " |      Return a copy of the string with leading whitespace removed.\n",
            " |      \n",
            " |      If chars is given and not None, remove characters in chars instead.\n",
            " |  \n",
            " |  partition(self, sep, /)\n",
            " |      Partition the string into three parts using the given separator.\n",
            " |      \n",
            " |      This will search for the separator in the string.  If the separator is found,\n",
            " |      returns a 3-tuple containing the part before the separator, the separator\n",
            " |      itself, and the part after it.\n",
            " |      \n",
            " |      If the separator is not found, returns a 3-tuple containing the original string\n",
            " |      and two empty strings.\n",
            " |  \n",
            " |  removeprefix(self, prefix, /)\n",
            " |      Return a str with the given prefix string removed if present.\n",
            " |      \n",
            " |      If the string starts with the prefix string, return string[len(prefix):].\n",
            " |      Otherwise, return a copy of the original string.\n",
            " |  \n",
            " |  removesuffix(self, suffix, /)\n",
            " |      Return a str with the given suffix string removed if present.\n",
            " |      \n",
            " |      If the string ends with the suffix string and that suffix is not empty,\n",
            " |      return string[:-len(suffix)]. Otherwise, return a copy of the original\n",
            " |      string.\n",
            " |  \n",
            " |  replace(self, old, new, count=-1, /)\n",
            " |      Return a copy with all occurrences of substring old replaced by new.\n",
            " |      \n",
            " |        count\n",
            " |          Maximum number of occurrences to replace.\n",
            " |          -1 (the default value) means replace all occurrences.\n",
            " |      \n",
            " |      If the optional argument count is given, only the first count occurrences are\n",
            " |      replaced.\n",
            " |  \n",
            " |  rfind(...)\n",
            " |      S.rfind(sub[, start[, end]]) -> int\n",
            " |      \n",
            " |      Return the highest index in S where substring sub is found,\n",
            " |      such that sub is contained within S[start:end].  Optional\n",
            " |      arguments start and end are interpreted as in slice notation.\n",
            " |      \n",
            " |      Return -1 on failure.\n",
            " |  \n",
            " |  rindex(...)\n",
            " |      S.rindex(sub[, start[, end]]) -> int\n",
            " |      \n",
            " |      Return the highest index in S where substring sub is found,\n",
            " |      such that sub is contained within S[start:end].  Optional\n",
            " |      arguments start and end are interpreted as in slice notation.\n",
            " |      \n",
            " |      Raises ValueError when the substring is not found.\n",
            " |  \n",
            " |  rjust(self, width, fillchar=' ', /)\n",
            " |      Return a right-justified string of length width.\n",
            " |      \n",
            " |      Padding is done using the specified fill character (default is a space).\n",
            " |  \n",
            " |  rpartition(self, sep, /)\n",
            " |      Partition the string into three parts using the given separator.\n",
            " |      \n",
            " |      This will search for the separator in the string, starting at the end. If\n",
            " |      the separator is found, returns a 3-tuple containing the part before the\n",
            " |      separator, the separator itself, and the part after it.\n",
            " |      \n",
            " |      If the separator is not found, returns a 3-tuple containing two empty strings\n",
            " |      and the original string.\n",
            " |  \n",
            " |  rsplit(self, /, sep=None, maxsplit=-1)\n",
            " |      Return a list of the substrings in the string, using sep as the separator string.\n",
            " |      \n",
            " |        sep\n",
            " |          The separator used to split the string.\n",
            " |      \n",
            " |          When set to None (the default value), will split on any whitespace\n",
            " |          character (including \\n \\r \\t \\f and spaces) and will discard\n",
            " |          empty strings from the result.\n",
            " |        maxsplit\n",
            " |          Maximum number of splits.\n",
            " |          -1 (the default value) means no limit.\n",
            " |      \n",
            " |      Splitting starts at the end of the string and works to the front.\n",
            " |  \n",
            " |  rstrip(self, chars=None, /)\n",
            " |      Return a copy of the string with trailing whitespace removed.\n",
            " |      \n",
            " |      If chars is given and not None, remove characters in chars instead.\n",
            " |  \n",
            " |  split(self, /, sep=None, maxsplit=-1)\n",
            " |      Return a list of the substrings in the string, using sep as the separator string.\n",
            " |      \n",
            " |        sep\n",
            " |          The separator used to split the string.\n",
            " |      \n",
            " |          When set to None (the default value), will split on any whitespace\n",
            " |          character (including \\n \\r \\t \\f and spaces) and will discard\n",
            " |          empty strings from the result.\n",
            " |        maxsplit\n",
            " |          Maximum number of splits.\n",
            " |          -1 (the default value) means no limit.\n",
            " |      \n",
            " |      Splitting starts at the front of the string and works to the end.\n",
            " |      \n",
            " |      Note, str.split() is mainly useful for data that has been intentionally\n",
            " |      delimited.  With natural text that includes punctuation, consider using\n",
            " |      the regular expression module.\n",
            " |  \n",
            " |  splitlines(self, /, keepends=False)\n",
            " |      Return a list of the lines in the string, breaking at line boundaries.\n",
            " |      \n",
            " |      Line breaks are not included in the resulting list unless keepends is given and\n",
            " |      true.\n",
            " |  \n",
            " |  startswith(...)\n",
            " |      S.startswith(prefix[, start[, end]]) -> bool\n",
            " |      \n",
            " |      Return True if S starts with the specified prefix, False otherwise.\n",
            " |      With optional start, test S beginning at that position.\n",
            " |      With optional end, stop comparing S at that position.\n",
            " |      prefix can also be a tuple of strings to try.\n",
            " |  \n",
            " |  strip(self, chars=None, /)\n",
            " |      Return a copy of the string with leading and trailing whitespace removed.\n",
            " |      \n",
            " |      If chars is given and not None, remove characters in chars instead.\n",
            " |  \n",
            " |  swapcase(self, /)\n",
            " |      Convert uppercase characters to lowercase and lowercase characters to uppercase.\n",
            " |  \n",
            " |  title(self, /)\n",
            " |      Return a version of the string where each word is titlecased.\n",
            " |      \n",
            " |      More specifically, words start with uppercased characters and all remaining\n",
            " |      cased characters have lower case.\n",
            " |  \n",
            " |  translate(self, table, /)\n",
            " |      Replace each character in the string using the given translation table.\n",
            " |      \n",
            " |        table\n",
            " |          Translation table, which must be a mapping of Unicode ordinals to\n",
            " |          Unicode ordinals, strings, or None.\n",
            " |      \n",
            " |      The table must implement lookup/indexing via __getitem__, for instance a\n",
            " |      dictionary or list.  If this operation raises LookupError, the character is\n",
            " |      left untouched.  Characters mapped to None are deleted.\n",
            " |  \n",
            " |  upper(self, /)\n",
            " |      Return a copy of the string converted to uppercase.\n",
            " |  \n",
            " |  zfill(self, width, /)\n",
            " |      Pad a numeric string with zeros on the left, to fill a field of the given width.\n",
            " |      \n",
            " |      The string is never truncated.\n",
            " |  \n",
            " |  ----------------------------------------------------------------------\n",
            " |  Static methods defined here:\n",
            " |  \n",
            " |  __new__(*args, **kwargs)\n",
            " |      Create and return a new object.  See help(type) for accurate signature.\n",
            " |  \n",
            " |  maketrans(...)\n",
            " |      Return a translation table usable for str.translate().\n",
            " |      \n",
            " |      If there is only one argument, it must be a dictionary mapping Unicode\n",
            " |      ordinals (integers) or characters to Unicode ordinals, strings or None.\n",
            " |      Character keys will be then converted to ordinals.\n",
            " |      If there are two arguments, they must be strings of equal length, and\n",
            " |      in the resulting dictionary, each character in x will be mapped to the\n",
            " |      character at the same position in y. If there is a third argument, it\n",
            " |      must be a string, whose characters will be mapped to None in the result.\n",
            "\n"
          ]
        }
      ]
    },
    {
      "cell_type": "code",
      "source": [
        "len(job_title)"
      ],
      "metadata": {
        "colab": {
          "base_uri": "https://localhost:8080/"
        },
        "id": "P-Ei9xkxKb_B",
        "outputId": "d55980c3-f8df-460f-988b-ffff8787a732"
      },
      "execution_count": null,
      "outputs": [
        {
          "output_type": "execute_result",
          "data": {
            "text/plain": [
              "12"
            ]
          },
          "metadata": {},
          "execution_count": 134
        }
      ]
    },
    {
      "cell_type": "code",
      "source": [
        "job = \"Data\"\n",
        "role = \"Analyst\""
      ],
      "metadata": {
        "id": "18zwp_3PPCxS"
      },
      "execution_count": null,
      "outputs": []
    },
    {
      "cell_type": "code",
      "source": [
        "\"Role : \"+job+' '+role"
      ],
      "metadata": {
        "colab": {
          "base_uri": "https://localhost:8080/",
          "height": 35
        },
        "id": "BYzZ3B1vkhGx",
        "outputId": "8a8448da-aee0-4cc1-804b-13ee5dd3d2cd"
      },
      "execution_count": null,
      "outputs": [
        {
          "output_type": "execute_result",
          "data": {
            "text/plain": [
              "'Role : Data Analyst'"
            ],
            "application/vnd.google.colaboratory.intrinsic+json": {
              "type": "string"
            }
          },
          "metadata": {},
          "execution_count": 136
        }
      ]
    },
    {
      "cell_type": "code",
      "source": [
        "role = 'Data Analyst'\n",
        "skill = 'Python'"
      ],
      "metadata": {
        "id": "GqvlEDyoknug"
      },
      "execution_count": null,
      "outputs": []
    },
    {
      "cell_type": "code",
      "source": [
        "\"Role : {}\".format(role)"
      ],
      "metadata": {
        "colab": {
          "base_uri": "https://localhost:8080/",
          "height": 35
        },
        "id": "O3VshYLRmtfx",
        "outputId": "e1d7e49d-dce4-4863-dd66-069ef3be1667"
      },
      "execution_count": null,
      "outputs": [
        {
          "output_type": "execute_result",
          "data": {
            "text/plain": [
              "'Role : Data Analyst'"
            ],
            "application/vnd.google.colaboratory.intrinsic+json": {
              "type": "string"
            }
          },
          "metadata": {},
          "execution_count": 138
        }
      ]
    },
    {
      "cell_type": "code",
      "source": [
        "\"Role : {}, Skill Required : {}\".format(role, skill)"
      ],
      "metadata": {
        "colab": {
          "base_uri": "https://localhost:8080/",
          "height": 35
        },
        "id": "FGDTRfRimyF4",
        "outputId": "4621f78a-a508-4f91-d464-1b4eb30e5554"
      },
      "execution_count": null,
      "outputs": [
        {
          "output_type": "execute_result",
          "data": {
            "text/plain": [
              "'Role : Data Analyst, Skill Required : Python'"
            ],
            "application/vnd.google.colaboratory.intrinsic+json": {
              "type": "string"
            }
          },
          "metadata": {},
          "execution_count": 139
        }
      ]
    },
    {
      "cell_type": "code",
      "source": [
        "years_experience = \"0123456789\""
      ],
      "metadata": {
        "id": "cXx-3lLsm-qx"
      },
      "execution_count": null,
      "outputs": []
    },
    {
      "cell_type": "code",
      "source": [
        "\", \".join(years_experience)"
      ],
      "metadata": {
        "colab": {
          "base_uri": "https://localhost:8080/",
          "height": 35
        },
        "id": "ABS0R-vKp2zB",
        "outputId": "c12b8226-d252-4dc9-ba55-e45a5cd4c5a4"
      },
      "execution_count": null,
      "outputs": [
        {
          "output_type": "execute_result",
          "data": {
            "text/plain": [
              "'0, 1, 2, 3, 4, 5, 6, 7, 8, 9'"
            ],
            "application/vnd.google.colaboratory.intrinsic+json": {
              "type": "string"
            }
          },
          "metadata": {},
          "execution_count": 141
        }
      ]
    },
    {
      "cell_type": "code",
      "source": [
        "\"-\".join(years_experience)"
      ],
      "metadata": {
        "id": "YMjJTksXp8P4",
        "outputId": "aa176151-40a9-40b6-e758-86a5cedba92c",
        "colab": {
          "base_uri": "https://localhost:8080/",
          "height": 35
        }
      },
      "execution_count": null,
      "outputs": [
        {
          "output_type": "execute_result",
          "data": {
            "text/plain": [
              "'0-1-2-3-4-5-6-7-8-9'"
            ],
            "application/vnd.google.colaboratory.intrinsic+json": {
              "type": "string"
            }
          },
          "metadata": {},
          "execution_count": 142
        }
      ]
    },
    {
      "cell_type": "code",
      "source": [
        "print(\"5 divided by 2 is :\", 5 // 2, \"while a reminder of :\", 5 % 2)"
      ],
      "metadata": {
        "id": "2fqjrkOpqATR",
        "colab": {
          "base_uri": "https://localhost:8080/"
        },
        "outputId": "d7f2504a-6865-424e-95c6-c4145faf4153"
      },
      "execution_count": null,
      "outputs": [
        {
          "output_type": "stream",
          "name": "stdout",
          "text": [
            "5 divided by 2 is : 2 while a reminder of : 1\n"
          ]
        }
      ]
    },
    {
      "cell_type": "code",
      "source": [
        "e_list = ['a','b',1,2,3,9.96,\"ice\"]\n",
        "e_list"
      ],
      "metadata": {
        "colab": {
          "base_uri": "https://localhost:8080/"
        },
        "id": "xCcSMGL9MO4V",
        "outputId": "e9585326-708a-42fa-9c1e-1bf6a46086f0"
      },
      "execution_count": null,
      "outputs": [
        {
          "output_type": "execute_result",
          "data": {
            "text/plain": [
              "['a', 'b', 1, 2, 3, 9.96, 'ice']"
            ]
          },
          "metadata": {},
          "execution_count": 144
        }
      ]
    },
    {
      "cell_type": "code",
      "source": [
        "e_list.append(\"Abs\")\n",
        "e_list"
      ],
      "metadata": {
        "colab": {
          "base_uri": "https://localhost:8080/"
        },
        "id": "Z3h_Ea9qMvGg",
        "outputId": "06d48716-3cee-41b7-dc97-9b796c692dfe"
      },
      "execution_count": null,
      "outputs": [
        {
          "output_type": "execute_result",
          "data": {
            "text/plain": [
              "['a', 'b', 1, 2, 3, 9.96, 'ice', 'Abs']"
            ]
          },
          "metadata": {},
          "execution_count": 145
        }
      ]
    },
    {
      "cell_type": "code",
      "source": [
        "e_list.remove(\"Abs\")\n",
        "e_list"
      ],
      "metadata": {
        "colab": {
          "base_uri": "https://localhost:8080/"
        },
        "id": "CLh0rKViNIFZ",
        "outputId": "1fc0302c-58df-41d0-b812-632c63a4448f"
      },
      "execution_count": null,
      "outputs": [
        {
          "output_type": "execute_result",
          "data": {
            "text/plain": [
              "['a', 'b', 1, 2, 3, 9.96, 'ice']"
            ]
          },
          "metadata": {},
          "execution_count": 146
        }
      ]
    },
    {
      "cell_type": "code",
      "source": [
        "len(e_list)"
      ],
      "metadata": {
        "colab": {
          "base_uri": "https://localhost:8080/"
        },
        "id": "X4yP2YMcNYYh",
        "outputId": "70db2179-6fd9-46bf-9850-d07d80845a54"
      },
      "execution_count": null,
      "outputs": [
        {
          "output_type": "execute_result",
          "data": {
            "text/plain": [
              "7"
            ]
          },
          "metadata": {},
          "execution_count": 147
        }
      ]
    },
    {
      "cell_type": "code",
      "source": [
        "e_list[2:5]"
      ],
      "metadata": {
        "colab": {
          "base_uri": "https://localhost:8080/"
        },
        "id": "KUUMpjepNqsf",
        "outputId": "1b1d7d7d-af30-4eca-b19a-9b2dcbcdb057"
      },
      "execution_count": null,
      "outputs": [
        {
          "output_type": "execute_result",
          "data": {
            "text/plain": [
              "[1, 2, 3]"
            ]
          },
          "metadata": {},
          "execution_count": 148
        }
      ]
    },
    {
      "cell_type": "code",
      "source": [
        "e_list.pop(4)"
      ],
      "metadata": {
        "colab": {
          "base_uri": "https://localhost:8080/"
        },
        "id": "ZkY_55ZAOznb",
        "outputId": "fabd9630-bc6d-4d19-c82a-781fdb8b3c8d"
      },
      "execution_count": null,
      "outputs": [
        {
          "output_type": "execute_result",
          "data": {
            "text/plain": [
              "3"
            ]
          },
          "metadata": {},
          "execution_count": 149
        }
      ]
    },
    {
      "cell_type": "code",
      "source": [
        "e_list"
      ],
      "metadata": {
        "colab": {
          "base_uri": "https://localhost:8080/"
        },
        "id": "zWbI66eoOzdf",
        "outputId": "bc4a70ae-fbbb-4699-8d1a-28911d738da2"
      },
      "execution_count": null,
      "outputs": [
        {
          "output_type": "execute_result",
          "data": {
            "text/plain": [
              "['a', 'b', 1, 2, 9.96, 'ice']"
            ]
          },
          "metadata": {},
          "execution_count": 150
        }
      ]
    },
    {
      "cell_type": "code",
      "source": [
        "e_list.insert(1, \"X\")\n",
        "e_list"
      ],
      "metadata": {
        "colab": {
          "base_uri": "https://localhost:8080/"
        },
        "id": "zCnyl53tOzVH",
        "outputId": "89d99c50-05cc-43eb-c250-8ce3c9e06fd4"
      },
      "execution_count": null,
      "outputs": [
        {
          "output_type": "execute_result",
          "data": {
            "text/plain": [
              "['a', 'X', 'b', 1, 2, 9.96, 'ice']"
            ]
          },
          "metadata": {},
          "execution_count": 151
        }
      ]
    },
    {
      "cell_type": "code",
      "source": [
        "e_list[1:5:2]"
      ],
      "metadata": {
        "colab": {
          "base_uri": "https://localhost:8080/"
        },
        "id": "yalSTMxkQ4NV",
        "outputId": "9bfec95d-9a4e-4d83-8c96-da02aab65826"
      },
      "execution_count": null,
      "outputs": [
        {
          "output_type": "execute_result",
          "data": {
            "text/plain": [
              "['X', 1]"
            ]
          },
          "metadata": {},
          "execution_count": 152
        }
      ]
    },
    {
      "cell_type": "code",
      "source": [
        "list_1, list_2, *list_no = e_list"
      ],
      "metadata": {
        "id": "7b1ZdDEPT4Np"
      },
      "execution_count": null,
      "outputs": []
    },
    {
      "cell_type": "code",
      "source": [
        "print(list_1)\n",
        "print(list_2)\n",
        "print(list_no)"
      ],
      "metadata": {
        "colab": {
          "base_uri": "https://localhost:8080/"
        },
        "id": "yk7Jrn_fUBf7",
        "outputId": "77365fcd-30ac-454d-f4dd-70e2d5cef65f"
      },
      "execution_count": null,
      "outputs": [
        {
          "output_type": "stream",
          "name": "stdout",
          "text": [
            "a\n",
            "X\n",
            "['b', 1, 2, 9.96, 'ice']\n"
          ]
        }
      ]
    },
    {
      "cell_type": "code",
      "source": [
        "job_skills = [\"Excel\", \"Power BI\", \"SQL\"]\n",
        "job_skills"
      ],
      "metadata": {
        "colab": {
          "base_uri": "https://localhost:8080/"
        },
        "id": "EdczzrMVCV_B",
        "outputId": "3a01473c-7577-4a6b-9988-5f527e560114"
      },
      "execution_count": null,
      "outputs": [
        {
          "output_type": "execute_result",
          "data": {
            "text/plain": [
              "['Excel', 'Power BI', 'SQL']"
            ]
          },
          "metadata": {},
          "execution_count": 155
        }
      ]
    },
    {
      "cell_type": "code",
      "source": [],
      "metadata": {
        "id": "k5waeBm_Q2rb"
      },
      "execution_count": null,
      "outputs": []
    },
    {
      "cell_type": "code",
      "source": [
        "help(list)"
      ],
      "metadata": {
        "colab": {
          "base_uri": "https://localhost:8080/"
        },
        "id": "hL93hq7VLViJ",
        "outputId": "f7f3751d-0ea4-492f-9ad9-7918ed07d634"
      },
      "execution_count": null,
      "outputs": [
        {
          "output_type": "stream",
          "name": "stdout",
          "text": [
            "Help on class list in module builtins:\n",
            "\n",
            "class list(object)\n",
            " |  list(iterable=(), /)\n",
            " |  \n",
            " |  Built-in mutable sequence.\n",
            " |  \n",
            " |  If no argument is given, the constructor creates a new empty list.\n",
            " |  The argument must be an iterable if specified.\n",
            " |  \n",
            " |  Methods defined here:\n",
            " |  \n",
            " |  __add__(self, value, /)\n",
            " |      Return self+value.\n",
            " |  \n",
            " |  __contains__(self, key, /)\n",
            " |      Return key in self.\n",
            " |  \n",
            " |  __delitem__(self, key, /)\n",
            " |      Delete self[key].\n",
            " |  \n",
            " |  __eq__(self, value, /)\n",
            " |      Return self==value.\n",
            " |  \n",
            " |  __ge__(self, value, /)\n",
            " |      Return self>=value.\n",
            " |  \n",
            " |  __getattribute__(self, name, /)\n",
            " |      Return getattr(self, name).\n",
            " |  \n",
            " |  __getitem__(...)\n",
            " |      x.__getitem__(y) <==> x[y]\n",
            " |  \n",
            " |  __gt__(self, value, /)\n",
            " |      Return self>value.\n",
            " |  \n",
            " |  __iadd__(self, value, /)\n",
            " |      Implement self+=value.\n",
            " |  \n",
            " |  __imul__(self, value, /)\n",
            " |      Implement self*=value.\n",
            " |  \n",
            " |  __init__(self, /, *args, **kwargs)\n",
            " |      Initialize self.  See help(type(self)) for accurate signature.\n",
            " |  \n",
            " |  __iter__(self, /)\n",
            " |      Implement iter(self).\n",
            " |  \n",
            " |  __le__(self, value, /)\n",
            " |      Return self<=value.\n",
            " |  \n",
            " |  __len__(self, /)\n",
            " |      Return len(self).\n",
            " |  \n",
            " |  __lt__(self, value, /)\n",
            " |      Return self<value.\n",
            " |  \n",
            " |  __mul__(self, value, /)\n",
            " |      Return self*value.\n",
            " |  \n",
            " |  __ne__(self, value, /)\n",
            " |      Return self!=value.\n",
            " |  \n",
            " |  __repr__(self, /)\n",
            " |      Return repr(self).\n",
            " |  \n",
            " |  __reversed__(self, /)\n",
            " |      Return a reverse iterator over the list.\n",
            " |  \n",
            " |  __rmul__(self, value, /)\n",
            " |      Return value*self.\n",
            " |  \n",
            " |  __setitem__(self, key, value, /)\n",
            " |      Set self[key] to value.\n",
            " |  \n",
            " |  __sizeof__(self, /)\n",
            " |      Return the size of the list in memory, in bytes.\n",
            " |  \n",
            " |  append(self, object, /)\n",
            " |      Append object to the end of the list.\n",
            " |  \n",
            " |  clear(self, /)\n",
            " |      Remove all items from list.\n",
            " |  \n",
            " |  copy(self, /)\n",
            " |      Return a shallow copy of the list.\n",
            " |  \n",
            " |  count(self, value, /)\n",
            " |      Return number of occurrences of value.\n",
            " |  \n",
            " |  extend(self, iterable, /)\n",
            " |      Extend list by appending elements from the iterable.\n",
            " |  \n",
            " |  index(self, value, start=0, stop=9223372036854775807, /)\n",
            " |      Return first index of value.\n",
            " |      \n",
            " |      Raises ValueError if the value is not present.\n",
            " |  \n",
            " |  insert(self, index, object, /)\n",
            " |      Insert object before index.\n",
            " |  \n",
            " |  pop(self, index=-1, /)\n",
            " |      Remove and return item at index (default last).\n",
            " |      \n",
            " |      Raises IndexError if list is empty or index is out of range.\n",
            " |  \n",
            " |  remove(self, value, /)\n",
            " |      Remove first occurrence of value.\n",
            " |      \n",
            " |      Raises ValueError if the value is not present.\n",
            " |  \n",
            " |  reverse(self, /)\n",
            " |      Reverse *IN PLACE*.\n",
            " |  \n",
            " |  sort(self, /, *, key=None, reverse=False)\n",
            " |      Sort the list in ascending order and return None.\n",
            " |      \n",
            " |      The sort is in-place (i.e. the list itself is modified) and stable (i.e. the\n",
            " |      order of two equal elements is maintained).\n",
            " |      \n",
            " |      If a key function is given, apply it once to each list item and sort them,\n",
            " |      ascending or descending, according to their function values.\n",
            " |      \n",
            " |      The reverse flag can be set to sort in descending order.\n",
            " |  \n",
            " |  ----------------------------------------------------------------------\n",
            " |  Class methods defined here:\n",
            " |  \n",
            " |  __class_getitem__(...)\n",
            " |      See PEP 585\n",
            " |  \n",
            " |  ----------------------------------------------------------------------\n",
            " |  Static methods defined here:\n",
            " |  \n",
            " |  __new__(*args, **kwargs)\n",
            " |      Create and return a new object.  See help(type) for accurate signature.\n",
            " |  \n",
            " |  ----------------------------------------------------------------------\n",
            " |  Data and other attributes defined here:\n",
            " |  \n",
            " |  __hash__ = None\n",
            "\n"
          ]
        }
      ]
    },
    {
      "cell_type": "code",
      "source": [
        "d_dic = {\n",
        "    'a' : 1,\n",
        "    'b' : 2,\n",
        "    'c' : 3,\n",
        "    'd' : 4\n",
        "}\n",
        "d_dic"
      ],
      "metadata": {
        "colab": {
          "base_uri": "https://localhost:8080/"
        },
        "id": "95BrglIZLYF3",
        "outputId": "4db26d70-ddd6-4ba9-c3fd-d7a93e4c027a"
      },
      "execution_count": null,
      "outputs": [
        {
          "output_type": "execute_result",
          "data": {
            "text/plain": [
              "{'a': 1, 'b': 2, 'c': 3, 'd': 4}"
            ]
          },
          "metadata": {},
          "execution_count": 157
        }
      ]
    },
    {
      "cell_type": "code",
      "source": [
        "d_dic.keys()"
      ],
      "metadata": {
        "colab": {
          "base_uri": "https://localhost:8080/"
        },
        "id": "-0RP4P4IY7L0",
        "outputId": "bd271864-237c-44d1-aa2b-7f0e1a7c2b87"
      },
      "execution_count": null,
      "outputs": [
        {
          "output_type": "execute_result",
          "data": {
            "text/plain": [
              "dict_keys(['a', 'b', 'c', 'd'])"
            ]
          },
          "metadata": {},
          "execution_count": 158
        }
      ]
    },
    {
      "cell_type": "code",
      "source": [
        "d_dic.values()"
      ],
      "metadata": {
        "colab": {
          "base_uri": "https://localhost:8080/"
        },
        "id": "yBeVuEXZY-Fn",
        "outputId": "7588155b-23b6-49d5-ce5b-a041adaf269f"
      },
      "execution_count": null,
      "outputs": [
        {
          "output_type": "execute_result",
          "data": {
            "text/plain": [
              "dict_values([1, 2, 3, 4])"
            ]
          },
          "metadata": {},
          "execution_count": 159
        }
      ]
    },
    {
      "cell_type": "code",
      "source": [
        "d_dic.pop('c')\n",
        "d_dic"
      ],
      "metadata": {
        "colab": {
          "base_uri": "https://localhost:8080/"
        },
        "id": "4_4TqKbnZAST",
        "outputId": "4121b323-f812-4edb-fd87-1ae427dae8ce"
      },
      "execution_count": null,
      "outputs": [
        {
          "output_type": "execute_result",
          "data": {
            "text/plain": [
              "{'a': 1, 'b': 2, 'd': 4}"
            ]
          },
          "metadata": {},
          "execution_count": 160
        }
      ]
    },
    {
      "cell_type": "code",
      "source": [
        "e_set = {'a','c','T','C',5,4}\n",
        "e_set"
      ],
      "metadata": {
        "colab": {
          "base_uri": "https://localhost:8080/"
        },
        "id": "eWMUKUGiZ1ZX",
        "outputId": "a14a058f-0963-4aa1-bf3b-058987336251"
      },
      "execution_count": null,
      "outputs": [
        {
          "output_type": "execute_result",
          "data": {
            "text/plain": [
              "{4, 5, 'C', 'T', 'a', 'c'}"
            ]
          },
          "metadata": {},
          "execution_count": 161
        }
      ]
    },
    {
      "cell_type": "code",
      "source": [
        "e_set.add(9)\n",
        "e_set"
      ],
      "metadata": {
        "colab": {
          "base_uri": "https://localhost:8080/"
        },
        "id": "7b1Dy8hrd6v4",
        "outputId": "2fa1c35b-1f8d-432e-b8e2-8b6cf4c0df2d"
      },
      "execution_count": null,
      "outputs": [
        {
          "output_type": "execute_result",
          "data": {
            "text/plain": [
              "{4, 5, 9, 'C', 'T', 'a', 'c'}"
            ]
          },
          "metadata": {},
          "execution_count": 162
        }
      ]
    },
    {
      "cell_type": "code",
      "source": [
        "e_set.pop()"
      ],
      "metadata": {
        "colab": {
          "base_uri": "https://localhost:8080/",
          "height": 35
        },
        "id": "RVlfpV8Debt_",
        "outputId": "be6c56ec-13e7-42cf-d7c5-2bf7542bf8a6"
      },
      "execution_count": null,
      "outputs": [
        {
          "output_type": "execute_result",
          "data": {
            "text/plain": [
              "'c'"
            ],
            "application/vnd.google.colaboratory.intrinsic+json": {
              "type": "string"
            }
          },
          "metadata": {},
          "execution_count": 163
        }
      ]
    },
    {
      "cell_type": "code",
      "source": [
        "e_set"
      ],
      "metadata": {
        "colab": {
          "base_uri": "https://localhost:8080/"
        },
        "id": "FQDca8HieyiN",
        "outputId": "f6d85940-e38e-46a7-93e4-281d24af7e09"
      },
      "execution_count": null,
      "outputs": [
        {
          "output_type": "execute_result",
          "data": {
            "text/plain": [
              "{4, 5, 9, 'C', 'T', 'a'}"
            ]
          },
          "metadata": {},
          "execution_count": 164
        }
      ]
    },
    {
      "cell_type": "code",
      "source": [
        "e_set.remove('a')"
      ],
      "metadata": {
        "id": "S3YMgTn8fDVw"
      },
      "execution_count": null,
      "outputs": []
    },
    {
      "cell_type": "code",
      "source": [
        "e_set"
      ],
      "metadata": {
        "colab": {
          "base_uri": "https://localhost:8080/"
        },
        "id": "yPBLc_-UfI03",
        "outputId": "c832116d-aeca-43a0-d3ea-2a5b06bb6a70"
      },
      "execution_count": null,
      "outputs": [
        {
          "output_type": "execute_result",
          "data": {
            "text/plain": [
              "{4, 5, 9, 'C', 'T'}"
            ]
          },
          "metadata": {},
          "execution_count": 166
        }
      ]
    },
    {
      "cell_type": "code",
      "source": [
        "job_roles = [\n",
        "    'Data Analyst', 'Software Engineer', 'Project Manager', 'Marketing Specialist',\n",
        "    'Financial Analyst', 'Graphic Designer', 'UX/UI Designer', 'Product Manager',\n",
        "    'Human Resources Manager', 'Operations Manager', 'Content Writer',\n",
        "    'Digital Marketing Manager', 'Business Development Manager', 'Sales Representative',\n",
        "    'Customer Success Manager', 'DevOps Engineer', 'Cybersecurity Analyst',\n",
        "    'Network Administrator', 'Cloud Architect', 'Database Administrator',\n",
        "    'Research Scientist', 'Biomedical Engineer', 'Mechanical Engineer',\n",
        "    'Electrical Engineer', 'Civil Engineer', 'Architect', 'Urban Planner',\n",
        "    'Environmental Scientist', 'Geologist', 'Chemist', 'Physicist',\n",
        "    'Astronomer', 'Mathematician', 'Statistician', 'Economist',\n",
        "    'Teacher', 'Professor', 'Librarian', 'Social Worker', 'Psychologist',\n",
        "    'Therapist', 'Medical Doctor', 'Nurse', 'Pharmacist', 'Dentist',\n",
        "    'Physical Therapist', 'Occupational Therapist', 'Speech-Language Pathologist',\n",
        "    'Veterinarian', 'Pilot', 'Flight Attendant', 'Air Traffic Controller',\n",
        "    'Mechanic', 'Electrician', 'Plumber', 'Carpenter', 'Welder',\n",
        "    'Mason', 'Chef', 'Baker', 'Barista', 'Bartender', 'Waiter/Waitress',\n",
        "    'Hotel Manager', 'Tour Guide', 'Travel Agent', 'Event Planner',\n",
        "    'Photographer', 'Videographer', 'Journalist', 'Editor', 'Musician',\n",
        "    'Actor', 'Director', 'Film Producer', 'Fashion Designer', 'Fashion Stylist',\n",
        "    'Jewelry Designer', 'Interior Designer', 'Landscaper'\n",
        "]\n",
        "\n",
        "\n",
        "# # Optional: Add an extra check to ensure 'Data Analyst' is in the list\n",
        "# if 'Data Analyst' not in dummy_jobs:\n",
        "#     dummy_jobs[random.randint(0, 1999)] = 'Data Analyst'\n",
        "\n",
        "# print(dummy_jobs)"
      ],
      "metadata": {
        "id": "zY9o7F-1fJvn"
      },
      "execution_count": null,
      "outputs": []
    },
    {
      "cell_type": "code",
      "source": [
        "len(job_roles)"
      ],
      "metadata": {
        "id": "_VGkTt4kfQjI",
        "colab": {
          "base_uri": "https://localhost:8080/"
        },
        "outputId": "dd5f1781-88e3-4264-c9f4-b5fda3926381"
      },
      "execution_count": null,
      "outputs": [
        {
          "output_type": "execute_result",
          "data": {
            "text/plain": [
              "80"
            ]
          },
          "metadata": {},
          "execution_count": 168
        }
      ]
    },
    {
      "cell_type": "markdown",
      "source": [
        "### LOOPS"
      ],
      "metadata": {
        "id": "Ojuw7QtD7hXJ"
      }
    },
    {
      "cell_type": "code",
      "source": [
        "analyst_jobs = []\n",
        "\n",
        "for jobs in job_roles:\n",
        "  if 'Manager' in jobs:\n",
        "    analyst_jobs.append(jobs)\n",
        "\n",
        "analyst_jobs"
      ],
      "metadata": {
        "colab": {
          "base_uri": "https://localhost:8080/"
        },
        "id": "FOteDIb6J2QY",
        "outputId": "2a3b8cc8-aba6-402c-fc14-490faa386acc"
      },
      "execution_count": null,
      "outputs": [
        {
          "output_type": "execute_result",
          "data": {
            "text/plain": [
              "['Project Manager',\n",
              " 'Product Manager',\n",
              " 'Human Resources Manager',\n",
              " 'Operations Manager',\n",
              " 'Digital Marketing Manager',\n",
              " 'Business Development Manager',\n",
              " 'Customer Success Manager',\n",
              " 'Hotel Manager']"
            ]
          },
          "metadata": {},
          "execution_count": 169
        }
      ]
    },
    {
      "cell_type": "code",
      "source": [
        "import random\n",
        "\n",
        "# A list of common first names to use as keys\n",
        "first_names = [\n",
        "    \"Alice\", \"Bob\", \"Charlie\", \"David\", \"Eve\", \"Frank\", \"Grace\", \"Heidi\",\n",
        "    \"Ivan\", \"Judy\", \"Kevin\", \"Liam\", \"Mia\", \"Noah\", \"Olivia\", \"Peter\",\n",
        "    \"Quinn\", \"Rachel\", \"Sam\", \"Tina\", \"Uma\", \"Victor\", \"Wendy\", \"Xavier\",\n",
        "    \"Yara\", \"Zoe\", \"Anna\", \"Ben\", \"Chloe\", \"Daniel\", \"Ella\", \"Felix\",\n",
        "    \"Georgia\", \"Harry\", \"Isla\", \"Jack\", \"Kate\", \"Leo\", \"Maya\", \"Nathan\"\n",
        "]\n",
        "\n",
        "years_experience = {}\n",
        "# Ensure uniqueness of names if drawing from a smaller list than 25,\n",
        "# or simply allow duplicates if the list is large enough and random.choice is used.\n",
        "# For 25 items, we can just pick random names and years.\n",
        "\n",
        "# Use a set to keep track of names already used to ensure unique keys\n",
        "used_names = set()\n",
        "\n",
        "while len(years_experience) < 25:\n",
        "    name = random.choice(first_names)\n",
        "    # Add a simple counter to the name if it's already used, to ensure uniqueness\n",
        "    # This is a simple way to handle potential name collisions if first_names list is small\n",
        "    original_name = name\n",
        "    counter = 1\n",
        "    while name in used_names:\n",
        "        name = f\"{original_name}{counter}\"\n",
        "        counter += 1\n",
        "\n",
        "    years = random.randint(1, 20)  # Years of experience between 1 and 20\n",
        "    years_experience[name] = years\n",
        "    used_names.add(name)\n",
        "\n",
        "print(years_experience)"
      ],
      "metadata": {
        "colab": {
          "base_uri": "https://localhost:8080/"
        },
        "id": "f4IBI1erKtiY",
        "outputId": "a5343703-5204-4a09-b0d8-01cd7de79359"
      },
      "execution_count": null,
      "outputs": [
        {
          "output_type": "stream",
          "name": "stdout",
          "text": [
            "{'Kevin': 8, 'Frank': 12, 'Alice': 6, 'Anna': 14, 'Harry': 11, 'Kate': 11, 'Mia': 6, 'Victor': 10, 'Jack': 4, 'Jack1': 16, 'Peter': 17, 'Ella': 15, 'Zoe': 1, 'Grace': 10, 'Rachel': 19, 'Quinn': 17, 'Maya': 18, 'Yara': 1, 'Ella1': 9, 'David': 20, 'Anna1': 10, 'Olivia': 14, 'Felix': 18, 'Georgia': 18, 'Kate1': 14}\n"
          ]
        }
      ]
    },
    {
      "cell_type": "code",
      "source": [
        "years_experience"
      ],
      "metadata": {
        "colab": {
          "base_uri": "https://localhost:8080/"
        },
        "id": "acCrIHdtM6Uh",
        "outputId": "a688b1c1-2e93-43df-dfc1-61a1b83a7cbb"
      },
      "execution_count": null,
      "outputs": [
        {
          "output_type": "execute_result",
          "data": {
            "text/plain": [
              "{'Kevin': 8,\n",
              " 'Frank': 12,\n",
              " 'Alice': 6,\n",
              " 'Anna': 14,\n",
              " 'Harry': 11,\n",
              " 'Kate': 11,\n",
              " 'Mia': 6,\n",
              " 'Victor': 10,\n",
              " 'Jack': 4,\n",
              " 'Jack1': 16,\n",
              " 'Peter': 17,\n",
              " 'Ella': 15,\n",
              " 'Zoe': 1,\n",
              " 'Grace': 10,\n",
              " 'Rachel': 19,\n",
              " 'Quinn': 17,\n",
              " 'Maya': 18,\n",
              " 'Yara': 1,\n",
              " 'Ella1': 9,\n",
              " 'David': 20,\n",
              " 'Anna1': 10,\n",
              " 'Olivia': 14,\n",
              " 'Felix': 18,\n",
              " 'Georgia': 18,\n",
              " 'Kate1': 14}"
            ]
          },
          "metadata": {},
          "execution_count": 171
        }
      ]
    },
    {
      "cell_type": "code",
      "source": [
        "for values in years_experience.values():\n",
        "  print(values)"
      ],
      "metadata": {
        "colab": {
          "base_uri": "https://localhost:8080/"
        },
        "id": "vdKfwdsUNCT_",
        "outputId": "2f46cb61-d653-4bc3-d422-1f1bdd7c3f6d"
      },
      "execution_count": null,
      "outputs": [
        {
          "output_type": "stream",
          "name": "stdout",
          "text": [
            "8\n",
            "12\n",
            "6\n",
            "14\n",
            "11\n",
            "11\n",
            "6\n",
            "10\n",
            "4\n",
            "16\n",
            "17\n",
            "15\n",
            "1\n",
            "10\n",
            "19\n",
            "17\n",
            "18\n",
            "1\n",
            "9\n",
            "20\n",
            "10\n",
            "14\n",
            "18\n",
            "18\n",
            "14\n"
          ]
        }
      ]
    },
    {
      "cell_type": "code",
      "source": [
        "Character = 'PYTHON'\n",
        "\n",
        "for i in Character:\n",
        "  print(i)"
      ],
      "metadata": {
        "colab": {
          "base_uri": "https://localhost:8080/"
        },
        "id": "5bbrBgo-N7_Z",
        "outputId": "8280ed63-1f88-4c4b-f561-cfadc967df35"
      },
      "execution_count": null,
      "outputs": [
        {
          "output_type": "stream",
          "name": "stdout",
          "text": [
            "P\n",
            "Y\n",
            "T\n",
            "H\n",
            "O\n",
            "N\n"
          ]
        }
      ]
    },
    {
      "cell_type": "code",
      "source": [
        "for key, value in years_experience.items():\n",
        "  if value > 8:\n",
        "    print(key, 'has', value, 'years of experience.')"
      ],
      "metadata": {
        "colab": {
          "base_uri": "https://localhost:8080/"
        },
        "id": "ineLEe8FOIV4",
        "outputId": "7c41c7cd-105d-4635-a22a-8eb301bb5eee"
      },
      "execution_count": null,
      "outputs": [
        {
          "output_type": "stream",
          "name": "stdout",
          "text": [
            "Frank has 12 years of experience.\n",
            "Anna has 14 years of experience.\n",
            "Harry has 11 years of experience.\n",
            "Kate has 11 years of experience.\n",
            "Victor has 10 years of experience.\n",
            "Jack1 has 16 years of experience.\n",
            "Peter has 17 years of experience.\n",
            "Ella has 15 years of experience.\n",
            "Grace has 10 years of experience.\n",
            "Rachel has 19 years of experience.\n",
            "Quinn has 17 years of experience.\n",
            "Maya has 18 years of experience.\n",
            "Ella1 has 9 years of experience.\n",
            "David has 20 years of experience.\n",
            "Anna1 has 10 years of experience.\n",
            "Olivia has 14 years of experience.\n",
            "Felix has 18 years of experience.\n",
            "Georgia has 18 years of experience.\n",
            "Kate1 has 14 years of experience.\n"
          ]
        }
      ]
    },
    {
      "cell_type": "code",
      "source": [
        "tuple(range(5))"
      ],
      "metadata": {
        "colab": {
          "base_uri": "https://localhost:8080/"
        },
        "id": "ixixVj0KOjhw",
        "outputId": "26aa866c-f0a1-4038-b419-8c25990a625e"
      },
      "execution_count": null,
      "outputs": [
        {
          "output_type": "execute_result",
          "data": {
            "text/plain": [
              "(0, 1, 2, 3, 4)"
            ]
          },
          "metadata": {},
          "execution_count": 175
        }
      ]
    },
    {
      "cell_type": "code",
      "source": [
        "for abs in range(100):\n",
        "  print(abs)"
      ],
      "metadata": {
        "colab": {
          "base_uri": "https://localhost:8080/"
        },
        "id": "7yhsYZEYPUtH",
        "outputId": "aa305c0b-f322-45fc-87a4-5ccb8c8846ba"
      },
      "execution_count": null,
      "outputs": [
        {
          "output_type": "stream",
          "name": "stdout",
          "text": [
            "0\n",
            "1\n",
            "2\n",
            "3\n",
            "4\n",
            "5\n",
            "6\n",
            "7\n",
            "8\n",
            "9\n",
            "10\n",
            "11\n",
            "12\n",
            "13\n",
            "14\n",
            "15\n",
            "16\n",
            "17\n",
            "18\n",
            "19\n",
            "20\n",
            "21\n",
            "22\n",
            "23\n",
            "24\n",
            "25\n",
            "26\n",
            "27\n",
            "28\n",
            "29\n",
            "30\n",
            "31\n",
            "32\n",
            "33\n",
            "34\n",
            "35\n",
            "36\n",
            "37\n",
            "38\n",
            "39\n",
            "40\n",
            "41\n",
            "42\n",
            "43\n",
            "44\n",
            "45\n",
            "46\n",
            "47\n",
            "48\n",
            "49\n",
            "50\n",
            "51\n",
            "52\n",
            "53\n",
            "54\n",
            "55\n",
            "56\n",
            "57\n",
            "58\n",
            "59\n",
            "60\n",
            "61\n",
            "62\n",
            "63\n",
            "64\n",
            "65\n",
            "66\n",
            "67\n",
            "68\n",
            "69\n",
            "70\n",
            "71\n",
            "72\n",
            "73\n",
            "74\n",
            "75\n",
            "76\n",
            "77\n",
            "78\n",
            "79\n",
            "80\n",
            "81\n",
            "82\n",
            "83\n",
            "84\n",
            "85\n",
            "86\n",
            "87\n",
            "88\n",
            "89\n",
            "90\n",
            "91\n",
            "92\n",
            "93\n",
            "94\n",
            "95\n",
            "96\n",
            "97\n",
            "98\n",
            "99\n"
          ]
        }
      ]
    },
    {
      "cell_type": "code",
      "source": [
        "years_list = list(years_experience.items())\n",
        "years_list"
      ],
      "metadata": {
        "colab": {
          "base_uri": "https://localhost:8080/"
        },
        "id": "DijiekK2Pf2I",
        "outputId": "bbc85b35-7e71-402f-ebc9-9b734b2ae44b"
      },
      "execution_count": null,
      "outputs": [
        {
          "output_type": "execute_result",
          "data": {
            "text/plain": [
              "[('Kevin', 8),\n",
              " ('Frank', 12),\n",
              " ('Alice', 6),\n",
              " ('Anna', 14),\n",
              " ('Harry', 11),\n",
              " ('Kate', 11),\n",
              " ('Mia', 6),\n",
              " ('Victor', 10),\n",
              " ('Jack', 4),\n",
              " ('Jack1', 16),\n",
              " ('Peter', 17),\n",
              " ('Ella', 15),\n",
              " ('Zoe', 1),\n",
              " ('Grace', 10),\n",
              " ('Rachel', 19),\n",
              " ('Quinn', 17),\n",
              " ('Maya', 18),\n",
              " ('Yara', 1),\n",
              " ('Ella1', 9),\n",
              " ('David', 20),\n",
              " ('Anna1', 10),\n",
              " ('Olivia', 14),\n",
              " ('Felix', 18),\n",
              " ('Georgia', 18),\n",
              " ('Kate1', 14)]"
            ]
          },
          "metadata": {},
          "execution_count": 177
        }
      ]
    },
    {
      "cell_type": "code",
      "source": [
        "years_list[::2]"
      ],
      "metadata": {
        "colab": {
          "base_uri": "https://localhost:8080/"
        },
        "id": "zF6NLh2sSAsh",
        "outputId": "c2774c5b-cf0e-4c28-ca81-3506547d5f74"
      },
      "execution_count": null,
      "outputs": [
        {
          "output_type": "execute_result",
          "data": {
            "text/plain": [
              "[('Kevin', 8),\n",
              " ('Alice', 6),\n",
              " ('Harry', 11),\n",
              " ('Mia', 6),\n",
              " ('Jack', 4),\n",
              " ('Peter', 17),\n",
              " ('Zoe', 1),\n",
              " ('Rachel', 19),\n",
              " ('Maya', 18),\n",
              " ('Ella1', 9),\n",
              " ('Anna1', 10),\n",
              " ('Felix', 18),\n",
              " ('Kate1', 14)]"
            ]
          },
          "metadata": {},
          "execution_count": 178
        }
      ]
    },
    {
      "cell_type": "code",
      "source": [
        "years_list = list(years_experience.items())\n",
        "years = 0\n",
        "values = 0\n",
        "\n",
        "while (years > 5):\n",
        "  key, values = years_list[index]\n",
        "  print(key, values)\n",
        "  index += 1"
      ],
      "metadata": {
        "id": "Kx77sDLPSNhP"
      },
      "execution_count": null,
      "outputs": []
    },
    {
      "cell_type": "code",
      "source": [
        "i = 1\n",
        "while (i < 11):\n",
        "  print(i)\n",
        "  i += 1"
      ],
      "metadata": {
        "colab": {
          "base_uri": "https://localhost:8080/"
        },
        "id": "8kboH0hqTuLo",
        "outputId": "32b910f7-69b4-4a9f-d3a3-61b9b9775268"
      },
      "execution_count": null,
      "outputs": [
        {
          "output_type": "stream",
          "name": "stdout",
          "text": [
            "1\n",
            "2\n",
            "3\n",
            "4\n",
            "5\n",
            "6\n",
            "7\n",
            "8\n",
            "9\n",
            "10\n"
          ]
        }
      ]
    },
    {
      "cell_type": "code",
      "source": [
        "i = 0\n",
        "while (i<6):\n",
        "  print('Abs')\n",
        "  i += 1"
      ],
      "metadata": {
        "colab": {
          "base_uri": "https://localhost:8080/"
        },
        "id": "Pame5zwkvupt",
        "outputId": "3410e313-17a6-4cd4-d70c-f65b99479131"
      },
      "execution_count": null,
      "outputs": [
        {
          "output_type": "stream",
          "name": "stdout",
          "text": [
            "Abs\n",
            "Abs\n",
            "Abs\n",
            "Abs\n",
            "Abs\n",
            "Abs\n"
          ]
        }
      ]
    },
    {
      "cell_type": "code",
      "source": [
        "years_list\n",
        "count = 0\n",
        "while (count < len(years_list)):\n",
        "  print(years_list[count])\n",
        "  count = count + 1"
      ],
      "metadata": {
        "colab": {
          "base_uri": "https://localhost:8080/"
        },
        "id": "K-VEkfO4wDRs",
        "outputId": "6ecaa490-b05e-4b25-9456-4c1b6c3dd34e"
      },
      "execution_count": null,
      "outputs": [
        {
          "output_type": "stream",
          "name": "stdout",
          "text": [
            "('Kevin', 8)\n",
            "('Frank', 12)\n",
            "('Alice', 6)\n",
            "('Anna', 14)\n",
            "('Harry', 11)\n",
            "('Kate', 11)\n",
            "('Mia', 6)\n",
            "('Victor', 10)\n",
            "('Jack', 4)\n",
            "('Jack1', 16)\n",
            "('Peter', 17)\n",
            "('Ella', 15)\n",
            "('Zoe', 1)\n",
            "('Grace', 10)\n",
            "('Rachel', 19)\n",
            "('Quinn', 17)\n",
            "('Maya', 18)\n",
            "('Yara', 1)\n",
            "('Ella1', 9)\n",
            "('David', 20)\n",
            "('Anna1', 10)\n",
            "('Olivia', 14)\n",
            "('Felix', 18)\n",
            "('Georgia', 18)\n",
            "('Kate1', 14)\n"
          ]
        }
      ]
    },
    {
      "cell_type": "code",
      "source": [
        "l = ['1n','5f','6i','9x']\n",
        "for i in l:\n",
        "  print(i)\n",
        "else :\n",
        "  print(\"Done\")"
      ],
      "metadata": {
        "colab": {
          "base_uri": "https://localhost:8080/"
        },
        "id": "WCeDScQbwgeN",
        "outputId": "124c464f-1646-4b5e-d28c-10d22defab12"
      },
      "execution_count": null,
      "outputs": [
        {
          "output_type": "stream",
          "name": "stdout",
          "text": [
            "1n\n",
            "5f\n",
            "6i\n",
            "9x\n",
            "Done\n"
          ]
        }
      ]
    },
    {
      "cell_type": "code",
      "source": [
        "num = [1,2,3,4,5,6,7,8,9,10]\n",
        "for i in num:\n",
        "  if i == 6:\n",
        "    break\n",
        "  print(i)"
      ],
      "metadata": {
        "colab": {
          "base_uri": "https://localhost:8080/"
        },
        "id": "z7i9wsaH1Og9",
        "outputId": "5255918f-a8ee-41f0-fb54-f6400195bd09"
      },
      "execution_count": null,
      "outputs": [
        {
          "output_type": "stream",
          "name": "stdout",
          "text": [
            "1\n",
            "2\n",
            "3\n",
            "4\n",
            "5\n"
          ]
        }
      ]
    },
    {
      "cell_type": "code",
      "source": [
        "num = [1,2,3,4,5,6,7,8,9,10]\n",
        "for i in num:\n",
        "  if i == 6:\n",
        "    continue\n",
        "  print(i)"
      ],
      "metadata": {
        "colab": {
          "base_uri": "https://localhost:8080/"
        },
        "id": "zxnTMyNr23F1",
        "outputId": "baaf02f4-7257-48ca-8c3d-2af1a67f59a6"
      },
      "execution_count": null,
      "outputs": [
        {
          "output_type": "stream",
          "name": "stdout",
          "text": [
            "1\n",
            "2\n",
            "3\n",
            "4\n",
            "5\n",
            "7\n",
            "8\n",
            "9\n",
            "10\n"
          ]
        }
      ]
    },
    {
      "cell_type": "code",
      "source": [
        "num = [1,2,3,4,5,6,7,8,9,10]\n",
        "for i in num:\n",
        "  if i == 5:\n",
        "    continue\n",
        "  if i == 8:\n",
        "    break\n",
        "  print(i)"
      ],
      "metadata": {
        "colab": {
          "base_uri": "https://localhost:8080/"
        },
        "id": "GDMbMfjA3prF",
        "outputId": "d057bb31-bd71-4b7c-b138-83c48d77b661"
      },
      "execution_count": null,
      "outputs": [
        {
          "output_type": "stream",
          "name": "stdout",
          "text": [
            "1\n",
            "2\n",
            "3\n",
            "4\n",
            "6\n",
            "7\n"
          ]
        }
      ]
    },
    {
      "cell_type": "code",
      "source": [
        "### Q:1 Write a program to print multiplication of 8 using for loop\n",
        "num = int(input(\"Enter your number: \"))\n",
        "for i in range(1, 11):\n",
        "  print(f\"{num} X {i} = {i * num}\")"
      ],
      "metadata": {
        "colab": {
          "base_uri": "https://localhost:8080/"
        },
        "id": "JsPcQpKe35Yk",
        "outputId": "b7001d22-a033-4bdc-f135-80e98d27111f"
      },
      "execution_count": null,
      "outputs": [
        {
          "output_type": "stream",
          "name": "stdout",
          "text": [
            "Enter your number: 5\n",
            "5 X 1 = 5\n",
            "5 X 2 = 10\n",
            "5 X 3 = 15\n",
            "5 X 4 = 20\n",
            "5 X 5 = 25\n",
            "5 X 6 = 30\n",
            "5 X 7 = 35\n",
            "5 X 8 = 40\n",
            "5 X 9 = 45\n",
            "5 X 10 = 50\n"
          ]
        }
      ]
    },
    {
      "cell_type": "code",
      "source": [
        "### Q:2 Write a program to greet all the person names stored in a list 'l' and which starts with S.\n",
        "l = [\"Harry\", \"Soham\", \"Sachin\", \"Rahul\"]\n",
        "\n",
        "for name in l:\n",
        "  if (name.startswith(\"S\")):\n",
        "    print(f\"Hello {name}\")"
      ],
      "metadata": {
        "colab": {
          "base_uri": "https://localhost:8080/"
        },
        "id": "3erxbwOc7JYm",
        "outputId": "f38130e9-a891-460b-d06d-54d861390c9f"
      },
      "execution_count": null,
      "outputs": [
        {
          "output_type": "stream",
          "name": "stdout",
          "text": [
            "Hello Soham\n",
            "Hello Sachin\n"
          ]
        }
      ]
    },
    {
      "cell_type": "code",
      "source": [
        "### Q:3 Attempt problem 1 using while loop.\n",
        "num = int(input(\"Enter a number : \"))\n",
        "i = 1\n",
        "while (i<11):\n",
        "  print(f\"{num} X {i} = {num*i}\")\n",
        "  i += 1"
      ],
      "metadata": {
        "colab": {
          "base_uri": "https://localhost:8080/"
        },
        "id": "LxYqabkA8aZW",
        "outputId": "f4bc6d51-bcce-43df-f697-379429d99efd"
      },
      "execution_count": null,
      "outputs": [
        {
          "output_type": "stream",
          "name": "stdout",
          "text": [
            "Enter a number : 5\n",
            "5 X 1 = 5\n",
            "5 X 2 = 10\n",
            "5 X 3 = 15\n",
            "5 X 4 = 20\n",
            "5 X 5 = 25\n",
            "5 X 6 = 30\n",
            "5 X 7 = 35\n",
            "5 X 8 = 40\n",
            "5 X 9 = 45\n",
            "5 X 10 = 50\n"
          ]
        }
      ]
    },
    {
      "cell_type": "code",
      "source": [
        "### Q:4 Write a program to find whether a given number is prime or not.\n",
        "num = int(input(\"Enter a number : \"))\n",
        "for i in range(2, num):\n",
        "  if (num % i) == 0:\n",
        "    print(f\"{num} is not a prime number\")\n",
        "    break\n",
        "else:\n",
        "    print(f\"{num} is a prime number\")"
      ],
      "metadata": {
        "colab": {
          "base_uri": "https://localhost:8080/"
        },
        "id": "_y29uU5n8gfk",
        "outputId": "6902a975-d738-4cb0-a21e-f59774ff2070"
      },
      "execution_count": null,
      "outputs": [
        {
          "output_type": "stream",
          "name": "stdout",
          "text": [
            "Enter a number : 4\n",
            "4 is not a prime number\n"
          ]
        }
      ]
    },
    {
      "cell_type": "code",
      "source": [
        "### Q:5 Write a program to find sum of first n natural numbers using while loop.\n",
        "num = int(input(\"Enter a number : \"))\n",
        "i = 1\n",
        "sum = 0\n",
        "while (i<=num):\n",
        "  sum = sum + i\n",
        "  i += 1\n",
        "  print(sum)"
      ],
      "metadata": {
        "id": "PVAMt7sJ8r0V",
        "colab": {
          "base_uri": "https://localhost:8080/"
        },
        "outputId": "0844a578-1586-4055-bfa1-47ebacaa92c9"
      },
      "execution_count": null,
      "outputs": [
        {
          "output_type": "stream",
          "name": "stdout",
          "text": [
            "Enter a number : 9\n",
            "1\n",
            "3\n",
            "6\n",
            "10\n",
            "15\n",
            "21\n",
            "28\n",
            "36\n",
            "45\n"
          ]
        }
      ]
    },
    {
      "cell_type": "code",
      "source": [
        "### Q:6 Write a program to calculate the factorial of a given number using for loop.\n",
        "#5! = 1 X 2 X 3 X 4 X 5\n",
        "\n",
        "num = int(input(\"Enter a number : \"))\n",
        "fact = 1\n",
        "for i in range(1, num+1):\n",
        "  fact = fact * i\n",
        "  print(f\"The factorial of the {num} is = {fact}\")"
      ],
      "metadata": {
        "id": "nypi2XIQ8xoN",
        "colab": {
          "base_uri": "https://localhost:8080/"
        },
        "outputId": "3f3e429a-667f-4dc2-d2be-4e9b50944c46"
      },
      "execution_count": null,
      "outputs": [
        {
          "output_type": "stream",
          "name": "stdout",
          "text": [
            "Enter a number : 1\n",
            "The factorial of the 1 is = 1\n"
          ]
        }
      ]
    },
    {
      "cell_type": "code",
      "source": [
        "### Q:7 Write a program to print the following star pattern.\n",
        "#    *\n",
        "#   ***\n",
        "#  *****    for n = 3\n",
        "num = int(input(\"Enter a number : \"))\n",
        "for i in range(1, num+1):\n",
        "  print(\" \" * (num - i), end = \"\")\n",
        "  print(\"*\" * (2*i - 1))"
      ],
      "metadata": {
        "id": "9vGImvh688B1",
        "colab": {
          "base_uri": "https://localhost:8080/"
        },
        "outputId": "750e9892-6abd-4af1-f00b-0a475a3db95f"
      },
      "execution_count": null,
      "outputs": [
        {
          "output_type": "stream",
          "name": "stdout",
          "text": [
            "Enter a number : 3\n",
            "  *\n",
            " ***\n",
            "*****\n"
          ]
        }
      ]
    },
    {
      "cell_type": "code",
      "source": [
        "### Q:8 Write a program to print the following star pattern :\n",
        "# *\n",
        "# **\n",
        "# ***   for n = 3\n",
        "num = int(input(\"Enter a number : \"))\n",
        "for i in range (1, num+1):\n",
        "  # print(\" \" * )\n",
        "  print(\"*\" * i)"
      ],
      "metadata": {
        "id": "yc2-x5KL9ZiV",
        "colab": {
          "base_uri": "https://localhost:8080/"
        },
        "outputId": "68bfee44-5c7c-4baf-b320-22b7dfcb096c"
      },
      "execution_count": null,
      "outputs": [
        {
          "output_type": "stream",
          "name": "stdout",
          "text": [
            "Enter a number : 4\n",
            "*\n",
            "**\n",
            "***\n",
            "****\n"
          ]
        }
      ]
    },
    {
      "cell_type": "code",
      "source": [
        "### Q:9 Write a program to print the following star pattern :\n",
        "# ***\n",
        "# * *   for n = 3\n",
        "# ***\n",
        "num = int(input(\"Enter a number : \"))\n",
        "for i in range (1, num+1):\n",
        "  if i == 1 or i == num:                #(i=1) means first row, (i=num) means last row.\n",
        "    print(\"*\" * num)                    #in the first and last row, we have to print all the *\n",
        "  else :\n",
        "    print(\"*\", end = \"\")                #if it is not the first or last row then we have to print * in the left border.\n",
        "    print(\" \" * (num-2), end = \"\")      #some spaces are in the middle rows except the border lines(left+right)\n",
        "    print(\"*\")                          #if it is not the first or last row then we have to print * in the right border."
      ],
      "metadata": {
        "id": "56pmBtNV9rsM",
        "colab": {
          "base_uri": "https://localhost:8080/"
        },
        "outputId": "6aa6f7bc-139b-47a0-fc7e-8b36b61a75c4"
      },
      "execution_count": null,
      "outputs": [
        {
          "output_type": "stream",
          "name": "stdout",
          "text": [
            "Enter a number : 8\n",
            "********\n",
            "*      *\n",
            "*      *\n",
            "*      *\n",
            "*      *\n",
            "*      *\n",
            "*      *\n",
            "********\n"
          ]
        }
      ]
    },
    {
      "cell_type": "code",
      "source": [
        "### Q:10 Write a program to print multiplication table of n using for loops in reversed order.\n",
        "num = int(input(\"Enter a number : \"))\n",
        "\n",
        "for i in range (1, 11):\n",
        "  print(f\"{num} X {11 - i} = {num * (11-i)}\")"
      ],
      "metadata": {
        "id": "CsIDe8so93Lg",
        "colab": {
          "base_uri": "https://localhost:8080/"
        },
        "outputId": "c1dd5bfa-38e7-4351-96fd-724d8000d870"
      },
      "execution_count": null,
      "outputs": [
        {
          "output_type": "stream",
          "name": "stdout",
          "text": [
            "Enter a number : 6\n",
            "6 X 10 = 60\n",
            "6 X 9 = 54\n",
            "6 X 8 = 48\n",
            "6 X 7 = 42\n",
            "6 X 6 = 36\n",
            "6 X 5 = 30\n",
            "6 X 4 = 24\n",
            "6 X 3 = 18\n",
            "6 X 2 = 12\n",
            "6 X 1 = 6\n"
          ]
        }
      ]
    },
    {
      "cell_type": "code",
      "source": [],
      "metadata": {
        "id": "Lp9J2KOt-D61"
      },
      "execution_count": null,
      "outputs": []
    }
  ]
}