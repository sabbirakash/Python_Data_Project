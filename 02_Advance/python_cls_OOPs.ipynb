{
  "nbformat": 4,
  "nbformat_minor": 0,
  "metadata": {
    "colab": {
      "provenance": []
    },
    "kernelspec": {
      "name": "python3",
      "display_name": "Python 3"
    },
    "language_info": {
      "name": "python"
    }
  },
  "cells": [
    {
      "cell_type": "code",
      "execution_count": null,
      "metadata": {
        "id": "R8idqlGR5KQq"
      },
      "outputs": [],
      "source": [
        "class Student:        # This is a Class\n",
        "  def __init__(self, name, grade, parcentage, team):       # Constructor or dunder method\n",
        "    self.name = name        # Class Attributes\n",
        "    self.grade = grade        # Class Attributes\n",
        "    self.parcentage = parcentage      # Class Attributes\n",
        "    self.team = team      # Class Attributes\n",
        "\n",
        "  def student_details(self):\n",
        "    print(f\"{self.name} is in class {self.grade}, with {self.parcentage}% marks in team {self.team}.\")\n",
        "\n",
        "team1 = \"A\"\n",
        "team2 = \"B\""
      ]
    },
    {
      "cell_type": "code",
      "source": [
        "std1 = Student(\"Sabbir\", 10, 96, team1)        # Object creation / instance of classes and giving arguments"
      ],
      "metadata": {
        "id": "g6Ma_vmS5a6k"
      },
      "execution_count": null,
      "outputs": []
    },
    {
      "cell_type": "code",
      "source": [
        "print(std1.name, std1.grade, std1.parcentage, std1.team)"
      ],
      "metadata": {
        "colab": {
          "base_uri": "https://localhost:8080/"
        },
        "id": "iUKykSpV5hqB",
        "outputId": "5b06d14c-a5b4-4313-c26e-015d0e84255d"
      },
      "execution_count": null,
      "outputs": [
        {
          "output_type": "stream",
          "name": "stdout",
          "text": [
            "Sabbir 10 96 A\n"
          ]
        }
      ]
    },
    {
      "cell_type": "code",
      "source": [
        "std2 = Student(\"Messi\", 19, 99, team2)       # Object creation / instance of classes and giving arguments"
      ],
      "metadata": {
        "id": "CfroDKlp5jCB"
      },
      "execution_count": null,
      "outputs": []
    },
    {
      "cell_type": "code",
      "source": [
        "print(std2.name, std2.grade, std2.parcentage, std2.team)"
      ],
      "metadata": {
        "colab": {
          "base_uri": "https://localhost:8080/"
        },
        "id": "-BQ4JpnJ57FJ",
        "outputId": "8b96daf5-b762-44b8-cab0-6ea0058aae45"
      },
      "execution_count": null,
      "outputs": [
        {
          "output_type": "stream",
          "name": "stdout",
          "text": [
            "Messi 19 99 B\n"
          ]
        }
      ]
    },
    {
      "cell_type": "code",
      "source": [
        "std1.student_details()"
      ],
      "metadata": {
        "colab": {
          "base_uri": "https://localhost:8080/"
        },
        "id": "BYz5V2hHAkwL",
        "outputId": "5b28923a-6d77-454b-ef56-cd008ee8e25e"
      },
      "execution_count": null,
      "outputs": [
        {
          "output_type": "stream",
          "name": "stdout",
          "text": [
            "Sabbir is in class 10, with 96% marks in team A.\n"
          ]
        }
      ]
    },
    {
      "cell_type": "code",
      "source": [
        "std2.student_details()"
      ],
      "metadata": {
        "colab": {
          "base_uri": "https://localhost:8080/"
        },
        "id": "ttFrHj9YBZQy",
        "outputId": "30457ea7-44bb-4305-fe94-2b1a37eeac90"
      },
      "execution_count": null,
      "outputs": [
        {
          "output_type": "stream",
          "name": "stdout",
          "text": [
            "Messi is in class 19, with 99% marks in team B.\n"
          ]
        }
      ]
    },
    {
      "cell_type": "code",
      "source": [
        "print(std1.__dict__)        # result will be given in key value pairs"
      ],
      "metadata": {
        "colab": {
          "base_uri": "https://localhost:8080/"
        },
        "id": "_Wk4Ocz_Bb-y",
        "outputId": "24ceae87-77eb-4287-c5d6-0e211d942fe0"
      },
      "execution_count": null,
      "outputs": [
        {
          "output_type": "stream",
          "name": "stdout",
          "text": [
            "{'name': 'Sabbir', 'grade': 10, 'parcentage': 96, 'team': 'A'}\n"
          ]
        }
      ]
    },
    {
      "cell_type": "code",
      "source": [
        "print(std2.__dict__)"
      ],
      "metadata": {
        "colab": {
          "base_uri": "https://localhost:8080/"
        },
        "id": "45B54lAGEzFT",
        "outputId": "c982392a-40e1-4fec-9f7f-a06a8776f751"
      },
      "execution_count": null,
      "outputs": [
        {
          "output_type": "stream",
          "name": "stdout",
          "text": [
            "{'name': 'Messi', 'grade': 19, 'parcentage': 99, 'team': 'B'}\n"
          ]
        }
      ]
    },
    {
      "cell_type": "markdown",
      "source": [
        "**Performing Operations in Object**"
      ],
      "metadata": {
        "id": "7cbEeCgBGft5"
      }
    },
    {
      "cell_type": "code",
      "source": [
        "# modify object property\n",
        "print(std1.parcentage)\n",
        "std1.parcentage = 88\n",
        "print(std1.parcentage)"
      ],
      "metadata": {
        "colab": {
          "base_uri": "https://localhost:8080/"
        },
        "id": "v1s159g_E_ai",
        "outputId": "9222c1ed-43dd-4c7c-abde-fdb590e6c41b"
      },
      "execution_count": null,
      "outputs": [
        {
          "output_type": "stream",
          "name": "stdout",
          "text": [
            "96\n",
            "88\n"
          ]
        }
      ]
    },
    {
      "cell_type": "code",
      "source": [
        "print(std1.__dict__)"
      ],
      "metadata": {
        "colab": {
          "base_uri": "https://localhost:8080/"
        },
        "id": "mNCA07xHF7lI",
        "outputId": "948b243c-69cf-433e-bee8-5042496bd24a"
      },
      "execution_count": null,
      "outputs": [
        {
          "output_type": "stream",
          "name": "stdout",
          "text": [
            "{'name': 'Sabbir', 'grade': 10, 'parcentage': 88, 'team': 'A'}\n"
          ]
        }
      ]
    },
    {
      "cell_type": "code",
      "source": [
        "# delete object property\n",
        "print(std2.__dict__)\n",
        "del std2.parcentage\n",
        "print(std2.__dict__)"
      ],
      "metadata": {
        "colab": {
          "base_uri": "https://localhost:8080/"
        },
        "id": "7J8TgCLhF_7D",
        "outputId": "708c4ffb-4b97-4d23-f1ff-1ddfd69334b3"
      },
      "execution_count": null,
      "outputs": [
        {
          "output_type": "stream",
          "name": "stdout",
          "text": [
            "{'name': 'Messi', 'grade': 19, 'parcentage': 99, 'team': 'B'}\n",
            "{'name': 'Messi', 'grade': 19, 'team': 'B'}\n"
          ]
        }
      ]
    },
    {
      "cell_type": "code",
      "source": [
        "# delete an object\n",
        "del std2"
      ],
      "metadata": {
        "id": "hU8PVpXIGW8b"
      },
      "execution_count": null,
      "outputs": []
    },
    {
      "cell_type": "markdown",
      "source": [
        "**Question Practice**"
      ],
      "metadata": {
        "id": "qHppeV5WEPlK"
      }
    },
    {
      "cell_type": "code",
      "source": [
        "# Q1 : Create a Car Class with attribute like brand and model. Then Create instance of this class.\n",
        "class Car:\n",
        "  def __init__(self, brand, model):\n",
        "    self.brand = brand\n",
        "    self.model = model\n"
      ],
      "metadata": {
        "id": "gDh73BHcG0Wz"
      },
      "execution_count": null,
      "outputs": []
    },
    {
      "cell_type": "code",
      "source": [
        "my_car = Car(\"Toyota\", \"Corolla\")\n",
        "print(my_car.brand)\n",
        "print(my_car.model)\n"
      ],
      "metadata": {
        "colab": {
          "base_uri": "https://localhost:8080/"
        },
        "id": "V1XBcXfUFoRh",
        "outputId": "29e7411c-94e9-47a9-b53a-a43d468ef0f1"
      },
      "execution_count": null,
      "outputs": [
        {
          "output_type": "stream",
          "name": "stdout",
          "text": [
            "Toyota\n",
            "Corolla\n"
          ]
        }
      ]
    },
    {
      "cell_type": "code",
      "source": [
        "# Q2 : Add a method to the car class that displays the full name of the car (brand and model)\n",
        "class Car:\n",
        "  def __init__(self, brand, model):\n",
        "    self.brand = brand\n",
        "    self.model = model\n",
        "  def full_name(self):\n",
        "    return f\"{self.brand} {self.model}\""
      ],
      "metadata": {
        "id": "SWCpP9BwFxqH"
      },
      "execution_count": null,
      "outputs": []
    },
    {
      "cell_type": "code",
      "source": [
        "my_car1 = Car(\"Tata\", \"Safari\")\n",
        "my_car1.full_name()"
      ],
      "metadata": {
        "colab": {
          "base_uri": "https://localhost:8080/",
          "height": 36
        },
        "id": "0HUtOKTqH3lg",
        "outputId": "78fcda65-b180-4d54-a4b5-16ea6bf18920"
      },
      "execution_count": null,
      "outputs": [
        {
          "output_type": "execute_result",
          "data": {
            "text/plain": [
              "'Tata Safari'"
            ],
            "application/vnd.google.colaboratory.intrinsic+json": {
              "type": "string"
            }
          },
          "metadata": {},
          "execution_count": 17
        }
      ]
    },
    {
      "cell_type": "markdown",
      "source": [
        "### Inheritance Example"
      ],
      "metadata": {
        "id": "KpN_ToSXLVNG"
      }
    },
    {
      "cell_type": "code",
      "source": [
        "# Q3 : Create an Electric Car class that inherits from the Car class and has an additional attribute battery_size\n",
        "class Electric_Car(Car):\n",
        "  def __init__(self, brand, model, battery_size):\n",
        "    super().__init__(brand, model)\n",
        "    self.battery_size = battery_size\n"
      ],
      "metadata": {
        "id": "xYi9xFa4IBHv"
      },
      "execution_count": null,
      "outputs": []
    },
    {
      "cell_type": "code",
      "source": [
        "my_tesla = Electric_Car(\"Tesla\", \"Model-S\", \"85kWh\")\n",
        "print(my_tesla.model)\n",
        "print(my_tesla.brand)\n",
        "print(my_tesla.battery_size)\n",
        "print(my_tesla.full_name())"
      ],
      "metadata": {
        "colab": {
          "base_uri": "https://localhost:8080/"
        },
        "id": "G4ILFtd0K7TJ",
        "outputId": "756980c6-20c9-49f0-cba7-40927398a645"
      },
      "execution_count": null,
      "outputs": [
        {
          "output_type": "stream",
          "name": "stdout",
          "text": [
            "Model-S\n",
            "Tesla\n",
            "85kWh\n",
            "Tesla Model-S\n"
          ]
        }
      ]
    },
    {
      "cell_type": "markdown",
      "source": [
        "### Encapsulation Example"
      ],
      "metadata": {
        "id": "ZzFUXTx-LybZ"
      }
    },
    {
      "cell_type": "code",
      "source": [
        "# Q4 : Modify the Car class to encapsulate the brand attribute, making it private, and provide a getter method for it\n",
        "class Car:\n",
        "  def __init__(self, brand, model):\n",
        "    self.__brand = brand\n",
        "    self.model = model\n",
        "\n",
        "  def get_brand(self):        # Getter Method for Encapsulation\n",
        "    return self.__brand + \" !\"\n",
        "\n",
        "  def full_name(self):\n",
        "    return f\"{self.__brand} {self.model}\""
      ],
      "metadata": {
        "id": "a9f24ZRELSjX"
      },
      "execution_count": null,
      "outputs": []
    },
    {
      "cell_type": "code",
      "source": [
        "my_encap = Car(\"Tesla\", \"Model-S\")\n",
        "print(my_encap.model)\n",
        "# print(my_encap.brand)\n",
        "print(my_encap.get_brand())\n",
        "print(my_encap.full_name())"
      ],
      "metadata": {
        "colab": {
          "base_uri": "https://localhost:8080/"
        },
        "id": "Wmwxs-gNOjqB",
        "outputId": "258f3186-388c-49d9-84f9-0d4836c6c9d4"
      },
      "execution_count": null,
      "outputs": [
        {
          "output_type": "stream",
          "name": "stdout",
          "text": [
            "Model-S\n",
            "Tesla !\n",
            "Tesla Model-S\n"
          ]
        }
      ]
    },
    {
      "cell_type": "markdown",
      "source": [
        "### Polymorphism Example"
      ],
      "metadata": {
        "id": "faQlS2vXQO_l"
      }
    },
    {
      "cell_type": "code",
      "source": [
        "# Q5 : Demonstrate polymorphism by defining a method fuel_type in both Car and Electric_Car classes, but with different behaviours.\n",
        "class Car:\n",
        "  def __init__(self, brand, model):\n",
        "    self.__brand = brand\n",
        "    self.model = model\n",
        "\n",
        "  def get_brand(self):        # Getter Method for Encapsulation\n",
        "    return self.__brand + \" !\"\n",
        "\n",
        "  def fuel_type(self):        # Polymorphism method\n",
        "    return \"Petrol or Diesel\"\n",
        "\n",
        "  def full_name(self):        # Class method\n",
        "    return f\"{self.__brand} {self.model}\"\n",
        "\n",
        "\n",
        "\n",
        "class Electric_Car(Car):\n",
        "  def __init__(self, brand, model, battery_size):\n",
        "    super().__init__(brand, model)\n",
        "    self.battery_size = battery_size\n",
        "\n",
        "  def fuel_type(self):        # Polymorphism method\n",
        "      return \"Electric\"\n"
      ],
      "metadata": {
        "id": "5kEMzvXjO4cI"
      },
      "execution_count": null,
      "outputs": []
    },
    {
      "cell_type": "code",
      "source": [
        "safari = Car(\"Tata\", \"Safari\")\n",
        "print(safari.fuel_type())\n",
        "\n",
        "tesla = Electric_Car(\"Tesla\", \"Model-S\", \"90kWh\")\n",
        "print(tesla.fuel_type())"
      ],
      "metadata": {
        "colab": {
          "base_uri": "https://localhost:8080/"
        },
        "id": "zmin8Z85RJb3",
        "outputId": "247175b4-08be-47a6-f8a6-27562e12d571"
      },
      "execution_count": null,
      "outputs": [
        {
          "output_type": "stream",
          "name": "stdout",
          "text": [
            "Petrol or Diesel\n",
            "Electric\n"
          ]
        }
      ]
    },
    {
      "cell_type": "markdown",
      "source": [
        "### Multiple Inheritance Example"
      ],
      "metadata": {
        "id": "QgYvNcHXVPww"
      }
    },
    {
      "cell_type": "code",
      "source": [
        "# Q6 : Create two classes Battery and Engine, and let the Electric_Car_two class inherit from both, demonstrating multiple inheritance.\n",
        "class Battery:\n",
        "  def battery_info(self):\n",
        "    return f\"This is Battery info.\"\n",
        "\n",
        "class Engine:\n",
        "  def engine_info(self):\n",
        "    return f\"This is Engine info.\"\n",
        "\n",
        "class Electric_Car_two(Battery, Engine, Car):\n",
        "  pass\n"
      ],
      "metadata": {
        "id": "-ZJaTvlFS0zp"
      },
      "execution_count": null,
      "outputs": []
    },
    {
      "cell_type": "code",
      "source": [
        "tesla2 = Electric_Car_two(\"Tesla\",\"Model-A\")\n",
        "print(tesla2.battery_info())\n",
        "print(tesla2.engine_info())"
      ],
      "metadata": {
        "colab": {
          "base_uri": "https://localhost:8080/"
        },
        "id": "u1fmV4VTbwPB",
        "outputId": "ccf73bf1-9f45-4dd0-8675-05a37ca1fe90"
      },
      "execution_count": null,
      "outputs": [
        {
          "output_type": "stream",
          "name": "stdout",
          "text": [
            "This is Battery info.\n",
            "This is Engine info.\n"
          ]
        }
      ]
    },
    {
      "cell_type": "markdown",
      "source": [
        "### Abstraction Example"
      ],
      "metadata": {
        "id": "kNhipdmbXT9Z"
      }
    },
    {
      "cell_type": "code",
      "source": [
        "class Student:        # This is a Class\n",
        "  def __init__(self, name, grade, parcentage, team):       # Constructor or dunder method\n",
        "    self.name = name        # Class Attributes\n",
        "    self.grade = grade        # Class Attributes\n",
        "    self.parcentage = parcentage      # Class Attributes\n",
        "    self.team = team      # Class Attributes\n",
        "\n",
        "  def student_details(self):\n",
        "    print(f\"{self.name} is in class {self.grade}, with {self.parcentage}% marks in team {self.team}.\")"
      ],
      "metadata": {
        "id": "UVSAbACkceGy"
      },
      "execution_count": null,
      "outputs": []
    },
    {
      "cell_type": "code",
      "source": [
        "nadir = Student(\"Nadir\", 12, 96, \"C\")\n",
        "nadir.student_details()"
      ],
      "metadata": {
        "colab": {
          "base_uri": "https://localhost:8080/"
        },
        "id": "7gwLXbDQXc0m",
        "outputId": "e3954db3-8fca-484b-8927-c4e22b1806b5"
      },
      "execution_count": null,
      "outputs": [
        {
          "output_type": "stream",
          "name": "stdout",
          "text": [
            "Nadir is in class 12, with 96% marks in team C.\n"
          ]
        }
      ]
    },
    {
      "cell_type": "markdown",
      "source": [
        "### Encapsulation Example"
      ],
      "metadata": {
        "id": "TTM3aZ8aXpnV"
      }
    },
    {
      "cell_type": "code",
      "source": [
        "class Student2:        # This is a Class\n",
        "  def __init__(self, name, grade, parcentage, team):       # Constructor or dunder method\n",
        "    self.name = name        # Class Attributes\n",
        "    self.grade = grade        # Class Attributes\n",
        "    self.__parcentage = parcentage      # Double underscore for restric its access\n",
        "    self.team = team      # Class Attributes\n",
        "\n",
        "  def get_parcentage(self):\n",
        "    return self.__parcentage\n",
        "\n",
        "  def student_details(self):\n",
        "    print(f\"{self.name} is in class {self.grade}, with {self.parcentage}% marks in team {self.team}.\")"
      ],
      "metadata": {
        "id": "3SJLcdEvXoPv"
      },
      "execution_count": null,
      "outputs": []
    },
    {
      "cell_type": "code",
      "source": [
        "mahir = Student2(\"Mahir\", 11, 89, \"A\")"
      ],
      "metadata": {
        "id": "7yKjTN_pZV9I"
      },
      "execution_count": null,
      "outputs": []
    },
    {
      "cell_type": "code",
      "source": [
        "# print(mahir.parcentage)       This one is restricted for Encapsulation"
      ],
      "metadata": {
        "id": "-YdaCIybafbx"
      },
      "execution_count": null,
      "outputs": []
    },
    {
      "cell_type": "code",
      "source": [
        "print(mahir.get_parcentage())"
      ],
      "metadata": {
        "colab": {
          "base_uri": "https://localhost:8080/"
        },
        "id": "r3SOB5XIZmU2",
        "outputId": "9336cba2-adba-48cb-c8da-01dd501c1a87"
      },
      "execution_count": null,
      "outputs": [
        {
          "output_type": "stream",
          "name": "stdout",
          "text": [
            "89\n"
          ]
        }
      ]
    },
    {
      "cell_type": "markdown",
      "source": [
        "### Inheritance Example"
      ],
      "metadata": {
        "id": "bZhYiF9battk"
      }
    },
    {
      "cell_type": "code",
      "source": [
        "# Parent Class\n",
        "class Student3:        # This is a Class\n",
        "  def __init__(self, name, grade, parcentage, team):       # Constructor or dunder method\n",
        "    self.name = name        # Class Attributes\n",
        "    self.grade = grade        # Class Attributes\n",
        "    self.parcentage = parcentage     # Class Attributes\n",
        "    self.team = team      # Class Attributes\n",
        "\n",
        "  def student_details(self):\n",
        "    print(f\"{self.name} is in class {self.grade}, with {self.parcentage}% marks in team {self.team}.\")"
      ],
      "metadata": {
        "id": "sFNYk2NoaSFG"
      },
      "execution_count": null,
      "outputs": []
    },
    {
      "cell_type": "code",
      "source": [
        "# Child Class\n",
        "class Student3_graduate(Student3):\n",
        "  def __init__(self, name, grade, percentage, team, stream):\n",
        "    super().__init__(name, grade, percentage, team)\n",
        "    self.stream = stream"
      ],
      "metadata": {
        "id": "sN-NV_z9a4WG"
      },
      "execution_count": null,
      "outputs": []
    },
    {
      "cell_type": "code",
      "source": [
        "umar = Student3_graduate(\"Umar\",10, 92, \"B\",\"PCA\")"
      ],
      "metadata": {
        "id": "EERsyW-xd2GQ"
      },
      "execution_count": null,
      "outputs": []
    },
    {
      "cell_type": "code",
      "source": [
        "print(umar.name)\n",
        "print(umar.grade)\n",
        "print(umar.parcentage)\n",
        "print(umar.team)\n",
        "print(umar.stream)\n",
        "umar.student_details()"
      ],
      "metadata": {
        "colab": {
          "base_uri": "https://localhost:8080/"
        },
        "id": "ox2fQTD8d-Z-",
        "outputId": "4e74ec38-f15b-43ee-dfc3-7de3222ae7c5"
      },
      "execution_count": null,
      "outputs": [
        {
          "output_type": "stream",
          "name": "stdout",
          "text": [
            "Umar\n",
            "10\n",
            "92\n",
            "B\n",
            "PCA\n",
            "Umar is in class 10, with 92% marks in team B.\n"
          ]
        }
      ]
    },
    {
      "cell_type": "markdown",
      "source": [
        "### Polymorphism Example"
      ],
      "metadata": {
        "id": "CoGlD6rpf0GV"
      }
    },
    {
      "cell_type": "code",
      "source": [
        "# Parent Class\n",
        "class Student4:        # This is a Class\n",
        "  def __init__(self, name, grade, parcentage, team):       # Constructor or dunder method\n",
        "    self.name = name        # Class Attributes\n",
        "    self.grade = grade        # Class Attributes\n",
        "    self.parcentage = parcentage     # Class Attributes\n",
        "    self.team = team      # Class Attributes\n",
        "\n",
        "  def student_details(self):\n",
        "    print(f\"{self.name} is in class {self.grade}, with {self.parcentage}% marks in team {self.team}.\")"
      ],
      "metadata": {
        "id": "TmurimWmehg2"
      },
      "execution_count": null,
      "outputs": []
    },
    {
      "cell_type": "code",
      "source": [
        "# Child Class\n",
        "class Student4_graduate(Student4):\n",
        "  def __init__(self, name, grade, parcentage, team, stream):\n",
        "    super().__init__(name, grade, parcentage, team)\n",
        "    self.stream = stream\n",
        "  def student_details(self):        # same method name but different behaviour.\n",
        "    print(f\"{self.name} is in class {self.grade}, stream is {self.stream}.\")"
      ],
      "metadata": {
        "id": "dxEzkrFpgCGe"
      },
      "execution_count": null,
      "outputs": []
    },
    {
      "cell_type": "code",
      "source": [
        "opu = Student4(\"Opu\", 12, 91, \"A\")\n",
        "indira = Student4_graduate(\"Indira\", 13, 95, \"C\", \"ABS\")"
      ],
      "metadata": {
        "id": "npv5V1_DhOrP"
      },
      "execution_count": null,
      "outputs": []
    },
    {
      "cell_type": "code",
      "source": [
        "opu.student_details()\n",
        "indira.student_details()        # same method name but different output."
      ],
      "metadata": {
        "colab": {
          "base_uri": "https://localhost:8080/"
        },
        "id": "ONMLrtc8hdAH",
        "outputId": "1e7b9eb0-fe24-421c-975c-761376e415d8"
      },
      "execution_count": null,
      "outputs": [
        {
          "output_type": "stream",
          "name": "stdout",
          "text": [
            "Opu is in class 12, with 91% marks in team A.\n",
            "Indira is in class 13, stream is ABS.\n"
          ]
        }
      ]
    },
    {
      "cell_type": "markdown",
      "source": [
        "**OOPs Practice Set**"
      ],
      "metadata": {
        "id": "OnBAwtLmsTX2"
      }
    },
    {
      "cell_type": "code",
      "source": [
        "# Q1 : Create a class 'Programmer' for storing information of some programmers who works at Microsoft\\\n",
        "class Programmer:\n",
        "  company = \"Microsoft\"\n",
        "  def __init__(self, name, salary, pin):\n",
        "    self.name = name\n",
        "    self.salary = salary\n",
        "    self.pin = pin"
      ],
      "metadata": {
        "id": "10PgMvDuhrGH"
      },
      "execution_count": null,
      "outputs": []
    },
    {
      "cell_type": "code",
      "source": [
        "ashish = Programmer(\"Ashish\", 120000, 564)\n",
        "print(ashish.name, ashish.company, ashish.salary, ashish.pin)"
      ],
      "metadata": {
        "colab": {
          "base_uri": "https://localhost:8080/"
        },
        "id": "r-GTMG8utnrj",
        "outputId": "6ff6802b-0a41-4a28-c45b-adddf9b5316a"
      },
      "execution_count": null,
      "outputs": [
        {
          "output_type": "stream",
          "name": "stdout",
          "text": [
            "Ashish Microsoft 120000 564\n"
          ]
        }
      ]
    },
    {
      "cell_type": "code",
      "source": [
        "# Q2 : Write a class 'Calculator' capable of finding square, cube and cube root of a number.\n",
        "class Calculator:\n",
        "  def __init__(self, num):\n",
        "    self.num = num\n",
        "\n",
        "  def square(self):\n",
        "    print(f\"The Square of number {self.num} is = {self.num * self.num}\")\n",
        "\n",
        "  def cube(self):\n",
        "    print(f\"The Cube of number {self.num} is = {self.num * self.num * self.num}\")\n",
        "\n",
        "  def s_root(self):\n",
        "    print(f\"The Square root of number {self.num} is = {self.num ** (1/2)}\")"
      ],
      "metadata": {
        "id": "mYIlsy_Xt3jJ"
      },
      "execution_count": null,
      "outputs": []
    },
    {
      "cell_type": "code",
      "source": [
        "a = Calculator(4)\n",
        "a.square()\n",
        "a.cube()\n",
        "a.s_root()"
      ],
      "metadata": {
        "colab": {
          "base_uri": "https://localhost:8080/"
        },
        "id": "wUIEM8x4u3lS",
        "outputId": "3fb69e68-e809-4ba7-a784-807eb412569b"
      },
      "execution_count": null,
      "outputs": [
        {
          "output_type": "stream",
          "name": "stdout",
          "text": [
            "The Square of number 4 is = 16\n",
            "The Cube of number 4 is = 64\n",
            "The Square root of number 4 is = 2.0\n"
          ]
        }
      ]
    },
    {
      "cell_type": "code",
      "source": [
        "# Q3 : Add a static method in problem 2, to greet the user with 'hello'.\n",
        "class Calculator:\n",
        "  def __init__(self, num):\n",
        "    self.num = num\n",
        "\n",
        "  def square(self):\n",
        "    print(f\"The Square of number {self.num} is = {self.num * self.num}\")\n",
        "\n",
        "  def cube(self):\n",
        "    print(f\"The Cube of number {self.num} is = {self.num * self.num * self.num}\")\n",
        "\n",
        "  def s_root(self):\n",
        "    print(f\"The Square root of number {self.num} is = {self.num ** (1/2)}\")\n",
        "\n",
        "  @staticmethod\n",
        "  def greet():\n",
        "    print(\"Hello, there!\")"
      ],
      "metadata": {
        "id": "rvkkZxZUu66R"
      },
      "execution_count": null,
      "outputs": []
    },
    {
      "cell_type": "code",
      "source": [
        "c = Calculator(8)\n",
        "c.greet()"
      ],
      "metadata": {
        "colab": {
          "base_uri": "https://localhost:8080/"
        },
        "id": "9Wj4C85rxxNr",
        "outputId": "15d72048-71e9-4e49-cf0f-64ca17d5d0f8"
      },
      "execution_count": null,
      "outputs": [
        {
          "output_type": "stream",
          "name": "stdout",
          "text": [
            "Hello, there!\n"
          ]
        }
      ]
    },
    {
      "cell_type": "code",
      "source": [
        "# Q4 : Write a class train which has methods to book a ticket,get status(num of seats) and get fare information of train.\n",
        "import random\n",
        "\n",
        "class Train:\n",
        "  def __init__(self, train_no, fro_m, to):\n",
        "    self.train_no = train_no\n",
        "    self.fro_m = fro_m\n",
        "    self.to = to\n",
        "\n",
        "  def bookTicket(self):\n",
        "    print(f\"Ticket is booked in train no {self.train_no} from {self.fro_m} to {self.to}.\")\n",
        "\n",
        "  def get_status(self):\n",
        "    print(f\"Train no {self.train_no} is running on time.\")\n",
        "\n",
        "  def get_fare(self):\n",
        "    print(f\"Ticket fare in train no {self.train_no} from {self.fro_m} to {self.to} is {random.randint(222, 555)}\")"
      ],
      "metadata": {
        "id": "HWf5DQN0x9XR"
      },
      "execution_count": null,
      "outputs": []
    },
    {
      "cell_type": "code",
      "source": [
        "subarna = Train(2323, \"Chattogram\", \"Dhaka\")\n",
        "subarna.bookTicket()\n",
        "subarna.get_status()\n",
        "subarna.get_fare()"
      ],
      "metadata": {
        "colab": {
          "base_uri": "https://localhost:8080/"
        },
        "id": "5B4OrSos04c8",
        "outputId": "2a73825f-700f-4148-911f-cc1e7d09bdd3"
      },
      "execution_count": null,
      "outputs": [
        {
          "output_type": "stream",
          "name": "stdout",
          "text": [
            "Ticket is booked in train no 2323 from Chattogram to Dhaka.\n",
            "Train no 2323 is running on time.\n",
            "Ticket fare in train no 2323 from Chattogram to Dhaka is 508\n"
          ]
        }
      ]
    },
    {
      "cell_type": "code",
      "source": [
        "# Q5 : Create a class (2D-vector) and use it to create another class representing (3D-vector)\n",
        "class Vector2D:\n",
        "  def __init__(self, i, j):\n",
        "    self.i = i\n",
        "    self.j = j\n",
        "\n",
        "  def show(self):\n",
        "    print(f\"The vector is {self.i}i + {self.j}j\")\n",
        "\n",
        "\n",
        "class Vector3D(Vector2D):\n",
        "  def __init__(self, i, j, k):\n",
        "    super().__init__(i, j)\n",
        "    self.k = k\n",
        "\n",
        "  def show(self):\n",
        "    print(f\"The vector is {self.i}i + {self.j}j + {self.k}k\")\n"
      ],
      "metadata": {
        "id": "9XAA30jb1R8y"
      },
      "execution_count": null,
      "outputs": []
    },
    {
      "cell_type": "code",
      "source": [
        "a = Vector2D(1,2)\n",
        "b = Vector3D(5,3,4)\n",
        "a.show()\n",
        "b.show()"
      ],
      "metadata": {
        "colab": {
          "base_uri": "https://localhost:8080/"
        },
        "id": "G1cDdK8x6jI8",
        "outputId": "a3bd2c4a-ff12-4e1a-e9ba-188d14b5ddc5"
      },
      "execution_count": null,
      "outputs": [
        {
          "output_type": "stream",
          "name": "stdout",
          "text": [
            "The vector is 1i + 2j\n",
            "The vector is 5i + 3j + 4k\n"
          ]
        }
      ]
    },
    {
      "cell_type": "code",
      "source": [
        "# Q6 : Create a class 'Pets' from a class 'Animal' and further create a class 'Dog' from 'Pets'. Add a method 'bark' to class 'Dog'.\n",
        "class Animal:\n",
        "  pass\n",
        "\n",
        "class Pets(Animal):\n",
        "  pass\n",
        "\n",
        "class Dog(Pets):\n",
        "  @staticmethod\n",
        "  def bark():\n",
        "    print(\"bow bow!\")"
      ],
      "metadata": {
        "id": "hoR-LGJA7m5L"
      },
      "execution_count": null,
      "outputs": []
    },
    {
      "cell_type": "code",
      "source": [
        "puppy = Dog()\n",
        "puppy.bark()"
      ],
      "metadata": {
        "colab": {
          "base_uri": "https://localhost:8080/"
        },
        "id": "AKcwHR34-BSN",
        "outputId": "a2abc29e-5626-46a3-f64b-13322a0e7731"
      },
      "execution_count": null,
      "outputs": [
        {
          "output_type": "stream",
          "name": "stdout",
          "text": [
            "bow bow!\n"
          ]
        }
      ]
    },
    {
      "cell_type": "code",
      "source": [
        "# Q7 : Create a class 'Employee_' and add salary and increment properties to it.\n",
        "''' Write a method 'salaryAfterIncrement' method with a @property decorator\n",
        "with a setter which changes the value of increment based on the salary. '''\n",
        "\n",
        "class Employee_:\n",
        "  salary = 12500\n",
        "  increment = 20\n",
        "  @property\n",
        "  def salaryAfterIncrement(self):       # This is a attribute not a method anymore because of property method\n",
        "    return (self.salary + self.salary * (self.increment/100))\n",
        "\n",
        "  @salaryAfterIncrement.setter\n",
        "  def salaryAfterIncrement(self, salary):\n",
        "    self.increment = ((salary / self.salary) -1) * 100"
      ],
      "metadata": {
        "id": "GspAI7dh-HXc"
      },
      "execution_count": null,
      "outputs": []
    },
    {
      "cell_type": "code",
      "source": [
        "ik = Employee_()\n",
        "print(ik.salary)\n",
        "print(ik.increment)\n",
        "print(ik.salaryAfterIncrement)        # this is a property so it can't be call like an method using ()"
      ],
      "metadata": {
        "colab": {
          "base_uri": "https://localhost:8080/"
        },
        "id": "5-oTaEEfuv62",
        "outputId": "5d75e524-08ce-4e24-dd2a-36a419dcd4d4"
      },
      "execution_count": null,
      "outputs": [
        {
          "output_type": "stream",
          "name": "stdout",
          "text": [
            "12500\n",
            "20\n",
            "15000.0\n"
          ]
        }
      ]
    },
    {
      "cell_type": "code",
      "source": [
        "ik.salaryAfterIncrement = 17000\n",
        "ik.increment"
      ],
      "metadata": {
        "colab": {
          "base_uri": "https://localhost:8080/"
        },
        "id": "nJNCKEl4u2R6",
        "outputId": "8720d6ad-d83a-4d07-c8fe-914bc0d41f01"
      },
      "execution_count": null,
      "outputs": [
        {
          "output_type": "execute_result",
          "data": {
            "text/plain": [
              "36.00000000000001"
            ]
          },
          "metadata": {},
          "execution_count": 54
        }
      ]
    },
    {
      "cell_type": "code",
      "source": [],
      "metadata": {
        "id": "P-H19PpKyw3D"
      },
      "execution_count": null,
      "outputs": []
    }
  ]
}